{
 "cells": [
  {
   "cell_type": "markdown",
   "id": "db0b33d8",
   "metadata": {},
   "source": [
    "\n"
   ]
  },
  {
   "cell_type": "markdown",
   "id": "311d314d",
   "metadata": {},
   "source": [
    "InstaCart data anaylsis work"
   ]
  },
  {
   "cell_type": "markdown",
   "id": "e2627b35",
   "metadata": {},
   "source": [
    "1. Import Libraries and Data"
   ]
  },
  {
   "cell_type": "markdown",
   "id": "305194fd",
   "metadata": {},
   "source": [
    "2. Address security restraints"
   ]
  },
  {
   "cell_type": "markdown",
   "id": "a0da1701",
   "metadata": {},
   "source": [
    "3. Create a regional segmentation of the data\n",
    "- Determine whether there’s a difference in spending habits between the different U.S. regions\n",
    "- Calculating the percentages"
   ]
  },
  {
   "cell_type": "markdown",
   "id": "3966ba6d",
   "metadata": {},
   "source": [
    "4. Exclusion flag for customer activity"
   ]
  },
  {
   "cell_type": "markdown",
   "id": "700f7e0b",
   "metadata": {},
   "source": [
    "5. Profiling variables\n",
    "- Age\n",
    "- Marital Status\n",
    "- Income\n",
    "- Departments\n",
    "- Parental Status\n",
    "- Busy time of day"
   ]
  },
  {
   "cell_type": "markdown",
   "id": "81444e75",
   "metadata": {},
   "source": [
    "6. Profile Visualizations\n",
    "- Age\n",
    "- Marital Status\n",
    "- Parental Status\n",
    "- Income\n",
    "- Departments\n",
    "- Hours of the Day\n",
    "- Day of the Week\n",
    "- Price Range\n",
    "- Loyalty\n",
    "- Region"
   ]
  },
  {
   "cell_type": "markdown",
   "id": "04f72c5b",
   "metadata": {},
   "source": [
    "7. Aggregations for frequency and expenditure\n",
    "- Age\n",
    "- Marital Status\n",
    "- Parental Status\n",
    "- Income\n",
    "- Departments\n",
    "- Day of the Week"
   ]
  },
  {
   "cell_type": "markdown",
   "id": "6f16937e",
   "metadata": {},
   "source": [
    "8. Comparisons\n",
    "- Department & Parental Status\n",
    "- Department & Marital Status\n",
    "- Department & Age\n",
    "- Department & Income\n",
    "- Department & Day of Week\n",
    "- Department & Busy Time of Day\n",
    "- Department & Loyalty\n",
    "- Region & Parental\n",
    "- Region & Marital\n",
    "- Region & Age\n",
    "- Region & Income\n",
    "- Region & Day of Week\n",
    "- Region & Spending Flag\n",
    "- Loyalty & Age\n",
    "- Loyalty & Gender\n",
    "- Loyalty & Price Range\n",
    "- Marital Status & Age"
   ]
  },
  {
   "cell_type": "markdown",
   "id": "475df47b",
   "metadata": {},
   "source": [
    "9. Final notes"
   ]
  },
  {
   "cell_type": "markdown",
   "id": "4974444e",
   "metadata": {},
   "source": [
    "10. Exports"
   ]
  },
  {
   "cell_type": "markdown",
   "id": "3f804b7f",
   "metadata": {},
   "source": [
    "\n"
   ]
  },
  {
   "cell_type": "markdown",
   "id": "f9cbf1ac",
   "metadata": {},
   "source": [
    "\n"
   ]
  },
  {
   "cell_type": "markdown",
   "id": "fd6c7389",
   "metadata": {},
   "source": [
    "\n"
   ]
  },
  {
   "cell_type": "markdown",
   "id": "a20f27ab",
   "metadata": {},
   "source": [
    "-------------------------------------------------------------------------------------------------------------------"
   ]
  },
  {
   "cell_type": "markdown",
   "id": "32e5602c",
   "metadata": {},
   "source": [
    "1. Import libraries and data"
   ]
  },
  {
   "cell_type": "code",
   "execution_count": 2,
   "id": "8ca43f37",
   "metadata": {},
   "outputs": [],
   "source": [
    "# Import libraries\n",
    "\n",
    "import pandas as pd\n",
    "import numpy as np\n",
    "import os\n",
    "import matplotlib.pyplot as plt\n",
    "import seaborn as sns\n",
    "import scipy\n",
    "\n",
    "# Create Path\n",
    "\n",
    "path = r'/Users/chrisherin/Documents/01_Jupyter/11-2021 Instacart Basket Analysis'"
   ]
  },
  {
   "cell_type": "code",
   "execution_count": 3,
   "id": "07a56b77",
   "metadata": {},
   "outputs": [],
   "source": [
    "# Import data\n",
    "\n",
    "df_10 = pd.read_pickle(os.path.join(path, '02 Data', 'Prepared Data', 'Insta_full.pkl'))"
   ]
  },
  {
   "cell_type": "code",
   "execution_count": 4,
   "id": "4d0e560e",
   "metadata": {},
   "outputs": [],
   "source": [
    "# Allow all column veiw\n",
    "\n",
    "pd.options.display.max_columns = None"
   ]
  },
  {
   "cell_type": "code",
   "execution_count": 5,
   "id": "b886b3b8",
   "metadata": {
    "scrolled": true
   },
   "outputs": [
    {
     "data": {
      "text/html": [
       "<div>\n",
       "<style scoped>\n",
       "    .dataframe tbody tr th:only-of-type {\n",
       "        vertical-align: middle;\n",
       "    }\n",
       "\n",
       "    .dataframe tbody tr th {\n",
       "        vertical-align: top;\n",
       "    }\n",
       "\n",
       "    .dataframe thead th {\n",
       "        text-align: right;\n",
       "    }\n",
       "</style>\n",
       "<table border=\"1\" class=\"dataframe\">\n",
       "  <thead>\n",
       "    <tr style=\"text-align: right;\">\n",
       "      <th></th>\n",
       "      <th>order_id</th>\n",
       "      <th>user_id</th>\n",
       "      <th>order_number</th>\n",
       "      <th>orders_day_of_week</th>\n",
       "      <th>order_hour_of_day</th>\n",
       "      <th>days_since_prior_order</th>\n",
       "      <th>product_id</th>\n",
       "      <th>add_to_cart_order</th>\n",
       "      <th>reordered</th>\n",
       "      <th>_merge</th>\n",
       "      <th>product_name</th>\n",
       "      <th>aisle_id</th>\n",
       "      <th>department_id</th>\n",
       "      <th>prices</th>\n",
       "      <th>price_range_loc</th>\n",
       "      <th>busiest_day</th>\n",
       "      <th>busy_days</th>\n",
       "      <th>busiest_period_of_day</th>\n",
       "      <th>max_order</th>\n",
       "      <th>loyalty_flag</th>\n",
       "      <th>spending</th>\n",
       "      <th>spending_flag</th>\n",
       "      <th>frequency</th>\n",
       "      <th>freq_flag</th>\n",
       "      <th>first_name</th>\n",
       "      <th>last_name</th>\n",
       "      <th>gender</th>\n",
       "      <th>state</th>\n",
       "      <th>age</th>\n",
       "      <th>date_joined</th>\n",
       "      <th>num_dep</th>\n",
       "      <th>marital_status</th>\n",
       "      <th>income</th>\n",
       "    </tr>\n",
       "  </thead>\n",
       "  <tbody>\n",
       "    <tr>\n",
       "      <th>0</th>\n",
       "      <td>2539329</td>\n",
       "      <td>1</td>\n",
       "      <td>1</td>\n",
       "      <td>2</td>\n",
       "      <td>8</td>\n",
       "      <td>NaN</td>\n",
       "      <td>196</td>\n",
       "      <td>1</td>\n",
       "      <td>0</td>\n",
       "      <td>both</td>\n",
       "      <td>Soda</td>\n",
       "      <td>77.0</td>\n",
       "      <td>7.0</td>\n",
       "      <td>9.0</td>\n",
       "      <td>Mid-range product</td>\n",
       "      <td>regularly busy</td>\n",
       "      <td>regularly busy</td>\n",
       "      <td>Average orders</td>\n",
       "      <td>10</td>\n",
       "      <td>New customer</td>\n",
       "      <td>6.367797</td>\n",
       "      <td>Low spender</td>\n",
       "      <td>20.5</td>\n",
       "      <td>non-frequent customer</td>\n",
       "      <td>Linda</td>\n",
       "      <td>Nguyen</td>\n",
       "      <td>Female</td>\n",
       "      <td>Alabama</td>\n",
       "      <td>31</td>\n",
       "      <td>2/17/2019</td>\n",
       "      <td>3</td>\n",
       "      <td>married</td>\n",
       "      <td>40423</td>\n",
       "    </tr>\n",
       "    <tr>\n",
       "      <th>1</th>\n",
       "      <td>2539329</td>\n",
       "      <td>1</td>\n",
       "      <td>1</td>\n",
       "      <td>2</td>\n",
       "      <td>8</td>\n",
       "      <td>NaN</td>\n",
       "      <td>14084</td>\n",
       "      <td>2</td>\n",
       "      <td>0</td>\n",
       "      <td>both</td>\n",
       "      <td>Organic Unsweetened Vanilla Almond Milk</td>\n",
       "      <td>91.0</td>\n",
       "      <td>16.0</td>\n",
       "      <td>12.5</td>\n",
       "      <td>Mid-range product</td>\n",
       "      <td>regularly busy</td>\n",
       "      <td>regularly busy</td>\n",
       "      <td>Average orders</td>\n",
       "      <td>10</td>\n",
       "      <td>New customer</td>\n",
       "      <td>6.367797</td>\n",
       "      <td>Low spender</td>\n",
       "      <td>20.5</td>\n",
       "      <td>non-frequent customer</td>\n",
       "      <td>Linda</td>\n",
       "      <td>Nguyen</td>\n",
       "      <td>Female</td>\n",
       "      <td>Alabama</td>\n",
       "      <td>31</td>\n",
       "      <td>2/17/2019</td>\n",
       "      <td>3</td>\n",
       "      <td>married</td>\n",
       "      <td>40423</td>\n",
       "    </tr>\n",
       "    <tr>\n",
       "      <th>2</th>\n",
       "      <td>2539329</td>\n",
       "      <td>1</td>\n",
       "      <td>1</td>\n",
       "      <td>2</td>\n",
       "      <td>8</td>\n",
       "      <td>NaN</td>\n",
       "      <td>12427</td>\n",
       "      <td>3</td>\n",
       "      <td>0</td>\n",
       "      <td>both</td>\n",
       "      <td>Original Beef Jerky</td>\n",
       "      <td>23.0</td>\n",
       "      <td>19.0</td>\n",
       "      <td>4.4</td>\n",
       "      <td>Low-range product</td>\n",
       "      <td>regularly busy</td>\n",
       "      <td>regularly busy</td>\n",
       "      <td>Average orders</td>\n",
       "      <td>10</td>\n",
       "      <td>New customer</td>\n",
       "      <td>6.367797</td>\n",
       "      <td>Low spender</td>\n",
       "      <td>20.5</td>\n",
       "      <td>non-frequent customer</td>\n",
       "      <td>Linda</td>\n",
       "      <td>Nguyen</td>\n",
       "      <td>Female</td>\n",
       "      <td>Alabama</td>\n",
       "      <td>31</td>\n",
       "      <td>2/17/2019</td>\n",
       "      <td>3</td>\n",
       "      <td>married</td>\n",
       "      <td>40423</td>\n",
       "    </tr>\n",
       "    <tr>\n",
       "      <th>3</th>\n",
       "      <td>2539329</td>\n",
       "      <td>1</td>\n",
       "      <td>1</td>\n",
       "      <td>2</td>\n",
       "      <td>8</td>\n",
       "      <td>NaN</td>\n",
       "      <td>26088</td>\n",
       "      <td>4</td>\n",
       "      <td>0</td>\n",
       "      <td>both</td>\n",
       "      <td>Aged White Cheddar Popcorn</td>\n",
       "      <td>23.0</td>\n",
       "      <td>19.0</td>\n",
       "      <td>4.7</td>\n",
       "      <td>Low-range product</td>\n",
       "      <td>regularly busy</td>\n",
       "      <td>regularly busy</td>\n",
       "      <td>Average orders</td>\n",
       "      <td>10</td>\n",
       "      <td>New customer</td>\n",
       "      <td>6.367797</td>\n",
       "      <td>Low spender</td>\n",
       "      <td>20.5</td>\n",
       "      <td>non-frequent customer</td>\n",
       "      <td>Linda</td>\n",
       "      <td>Nguyen</td>\n",
       "      <td>Female</td>\n",
       "      <td>Alabama</td>\n",
       "      <td>31</td>\n",
       "      <td>2/17/2019</td>\n",
       "      <td>3</td>\n",
       "      <td>married</td>\n",
       "      <td>40423</td>\n",
       "    </tr>\n",
       "    <tr>\n",
       "      <th>4</th>\n",
       "      <td>2539329</td>\n",
       "      <td>1</td>\n",
       "      <td>1</td>\n",
       "      <td>2</td>\n",
       "      <td>8</td>\n",
       "      <td>NaN</td>\n",
       "      <td>26405</td>\n",
       "      <td>5</td>\n",
       "      <td>0</td>\n",
       "      <td>both</td>\n",
       "      <td>XL Pick-A-Size Paper Towel Rolls</td>\n",
       "      <td>54.0</td>\n",
       "      <td>17.0</td>\n",
       "      <td>1.0</td>\n",
       "      <td>Low-range product</td>\n",
       "      <td>regularly busy</td>\n",
       "      <td>regularly busy</td>\n",
       "      <td>Average orders</td>\n",
       "      <td>10</td>\n",
       "      <td>New customer</td>\n",
       "      <td>6.367797</td>\n",
       "      <td>Low spender</td>\n",
       "      <td>20.5</td>\n",
       "      <td>non-frequent customer</td>\n",
       "      <td>Linda</td>\n",
       "      <td>Nguyen</td>\n",
       "      <td>Female</td>\n",
       "      <td>Alabama</td>\n",
       "      <td>31</td>\n",
       "      <td>2/17/2019</td>\n",
       "      <td>3</td>\n",
       "      <td>married</td>\n",
       "      <td>40423</td>\n",
       "    </tr>\n",
       "  </tbody>\n",
       "</table>\n",
       "</div>"
      ],
      "text/plain": [
       "   order_id user_id  order_number  orders_day_of_week  order_hour_of_day  \\\n",
       "0   2539329       1             1                   2                  8   \n",
       "1   2539329       1             1                   2                  8   \n",
       "2   2539329       1             1                   2                  8   \n",
       "3   2539329       1             1                   2                  8   \n",
       "4   2539329       1             1                   2                  8   \n",
       "\n",
       "   days_since_prior_order  product_id  add_to_cart_order  reordered _merge  \\\n",
       "0                     NaN         196                  1          0   both   \n",
       "1                     NaN       14084                  2          0   both   \n",
       "2                     NaN       12427                  3          0   both   \n",
       "3                     NaN       26088                  4          0   both   \n",
       "4                     NaN       26405                  5          0   both   \n",
       "\n",
       "                              product_name  aisle_id  department_id  prices  \\\n",
       "0                                     Soda      77.0            7.0     9.0   \n",
       "1  Organic Unsweetened Vanilla Almond Milk      91.0           16.0    12.5   \n",
       "2                      Original Beef Jerky      23.0           19.0     4.4   \n",
       "3               Aged White Cheddar Popcorn      23.0           19.0     4.7   \n",
       "4         XL Pick-A-Size Paper Towel Rolls      54.0           17.0     1.0   \n",
       "\n",
       "     price_range_loc     busiest_day       busy_days busiest_period_of_day  \\\n",
       "0  Mid-range product  regularly busy  regularly busy        Average orders   \n",
       "1  Mid-range product  regularly busy  regularly busy        Average orders   \n",
       "2  Low-range product  regularly busy  regularly busy        Average orders   \n",
       "3  Low-range product  regularly busy  regularly busy        Average orders   \n",
       "4  Low-range product  regularly busy  regularly busy        Average orders   \n",
       "\n",
       "   max_order  loyalty_flag  spending spending_flag  frequency  \\\n",
       "0         10  New customer  6.367797   Low spender       20.5   \n",
       "1         10  New customer  6.367797   Low spender       20.5   \n",
       "2         10  New customer  6.367797   Low spender       20.5   \n",
       "3         10  New customer  6.367797   Low spender       20.5   \n",
       "4         10  New customer  6.367797   Low spender       20.5   \n",
       "\n",
       "               freq_flag first_name last_name  gender    state  age  \\\n",
       "0  non-frequent customer      Linda    Nguyen  Female  Alabama   31   \n",
       "1  non-frequent customer      Linda    Nguyen  Female  Alabama   31   \n",
       "2  non-frequent customer      Linda    Nguyen  Female  Alabama   31   \n",
       "3  non-frequent customer      Linda    Nguyen  Female  Alabama   31   \n",
       "4  non-frequent customer      Linda    Nguyen  Female  Alabama   31   \n",
       "\n",
       "  date_joined  num_dep marital_status  income  \n",
       "0   2/17/2019        3        married   40423  \n",
       "1   2/17/2019        3        married   40423  \n",
       "2   2/17/2019        3        married   40423  \n",
       "3   2/17/2019        3        married   40423  \n",
       "4   2/17/2019        3        married   40423  "
      ]
     },
     "execution_count": 5,
     "metadata": {},
     "output_type": "execute_result"
    }
   ],
   "source": [
    "# Import check\n",
    "\n",
    "df_10.head()"
   ]
  },
  {
   "cell_type": "code",
   "execution_count": 6,
   "id": "0331cb88",
   "metadata": {},
   "outputs": [],
   "source": [
    "# Remove 'prices >100'\n",
    "\n",
    "df_10.loc[df_10['prices'] >100, 'prices'] = np.nan"
   ]
  },
  {
   "cell_type": "code",
   "execution_count": 7,
   "id": "4811155c",
   "metadata": {},
   "outputs": [],
   "source": [
    "# Crosstab\n",
    "\n",
    "crosstab = pd.crosstab(df_10['days_since_prior_order'], df_10['order_number'], dropna = False)"
   ]
  },
  {
   "cell_type": "code",
   "execution_count": 8,
   "id": "64c66ac0",
   "metadata": {},
   "outputs": [],
   "source": [
    "# Copy crosstab\n",
    "\n",
    "crosstab.to_clipboard()"
   ]
  },
  {
   "cell_type": "markdown",
   "id": "eeec81df",
   "metadata": {},
   "source": [
    ":: Crosstab confirms all 'days_since_prior_order' NaN values correlate to new customer orders"
   ]
  },
  {
   "cell_type": "markdown",
   "id": "4d1ce34d",
   "metadata": {},
   "source": [
    "\n"
   ]
  },
  {
   "cell_type": "markdown",
   "id": "95d7bade",
   "metadata": {},
   "source": [
    "\n"
   ]
  },
  {
   "cell_type": "markdown",
   "id": "a4d8ba1c",
   "metadata": {},
   "source": [
    "2. Consider any security implications that might exist for this new data. You’ll need to address any PII data in the data before continuing your analysis."
   ]
  },
  {
   "cell_type": "markdown",
   "id": "408ba8ad",
   "metadata": {},
   "source": [
    ":: PII data is included in columns:\n",
    "- 'first_name'\n",
    "- 'last_name'"
   ]
  },
  {
   "cell_type": "markdown",
   "id": "845b0a1c",
   "metadata": {},
   "source": [
    ":: These should be taken into consideration when sharing data outside org. As this set will be passed up the chain for mentor review removal of PII data not neccesary. If otherwise advised then these columns should be removed and rely 'customer_id' for individual customer records."
   ]
  },
  {
   "cell_type": "markdown",
   "id": "5869bfb4",
   "metadata": {},
   "source": [
    "\n"
   ]
  },
  {
   "cell_type": "markdown",
   "id": "334c9ff4",
   "metadata": {},
   "source": [
    "\n"
   ]
  },
  {
   "cell_type": "markdown",
   "id": "57b8d893",
   "metadata": {},
   "source": [
    "3. Create a regional segmentation of the data."
   ]
  },
  {
   "cell_type": "code",
   "execution_count": 9,
   "id": "1e219d1a",
   "metadata": {},
   "outputs": [
    {
     "data": {
      "text/plain": [
       "Pennsylvania            667738\n",
       "California              660428\n",
       "Rhode Island            657662\n",
       "Georgia                 657092\n",
       "New Mexico              655188\n",
       "Arizona                 654553\n",
       "North Carolina          652329\n",
       "Oklahoma                652275\n",
       "Alaska                  649026\n",
       "Minnesota               648424\n",
       "Massachusetts           647020\n",
       "Wyoming                 644927\n",
       "Virginia                642103\n",
       "Missouri                641323\n",
       "Texas                   641051\n",
       "Colorado                639820\n",
       "Maine                   639175\n",
       "North Dakota            638997\n",
       "Alabama                 638650\n",
       "Louisiana               638179\n",
       "Kansas                  638021\n",
       "Delaware                637477\n",
       "South Carolina          637423\n",
       "Oregon                  636966\n",
       "Arkansas                636737\n",
       "New York                636707\n",
       "Nevada                  636697\n",
       "Montana                 635838\n",
       "South Dakota            634362\n",
       "Illinois                633476\n",
       "Hawaii                  633446\n",
       "Washington              633445\n",
       "Mississippi             633130\n",
       "Kentucky                632955\n",
       "Michigan                631637\n",
       "Florida                 629631\n",
       "Ohio                    629016\n",
       "Wisconsin               628590\n",
       "New Jersey              628303\n",
       "Indiana                 627791\n",
       "Maryland                627273\n",
       "Nebraska                626294\n",
       "Iowa                    626085\n",
       "Connecticut             623594\n",
       "Tennessee               618405\n",
       "New Hampshire           615976\n",
       "District of Columbia    614334\n",
       "West Virginia           612938\n",
       "Utah                    612472\n",
       "Vermont                 612269\n",
       "Idaho                   607811\n",
       "Name: state, dtype: int64"
      ]
     },
     "execution_count": 9,
     "metadata": {},
     "output_type": "execute_result"
    }
   ],
   "source": [
    "df_10['state'].value_counts()"
   ]
  },
  {
   "cell_type": "code",
   "execution_count": 7,
   "id": "4a6ab7d4",
   "metadata": {},
   "outputs": [],
   "source": [
    "# Create column for regions\n",
    "\n",
    "region = []\n",
    "\n",
    "for state in df_10['state']:\n",
    "    if (state == 'Maine') or (state == 'New Hampshire') or (state == 'Vermont') or (state == 'Massachusetts') or (state == 'Rhode Island') or (state == 'Connecticut') or (state == 'New York') or (state == 'Pennsylvania') or (state == 'New Jersey'):\n",
    "        region.append('Northeast')\n",
    "    elif (state == 'Wisconsin') or (state == 'Michigan') or (state == 'Illinois') or (state == 'Indiana') or (state == 'Ohio') or (state == 'North Dakota') or (state == 'South Dakota') or (state == 'Nebraska') or (state == 'Kansas') or (state == 'Minnesota') or (state == 'Iowa') or (state == 'Missouri'):\n",
    "        region.append('Midwest')\n",
    "    elif (state == 'Delaware') or (state == 'Maryland') or (state == 'District of Columbia') or (state == 'Virginia') or (state == 'West Virginia') or (state == 'North Carolina') or (state == 'South Carolina') or (state == 'Georgia') or (state == 'Florida') or (state == 'Kentucky') or (state == 'Tennessee') or (state == 'Mississippi') or (state == 'Alabama') or (state == 'Oklahoma') or (state == 'Texas') or (state == 'Arkansas') or (state == 'Louisiana'):\n",
    "        region.append('South')\n",
    "    elif (state == 'Idaho') or (state == 'Montana') or (state == 'Wyoming') or (state == 'Nevada') or (state == 'Utah') or (state == 'Colorado') or (state == 'Arizona') or (state == 'New Mexico') or (state == 'Alaska') or (state == 'Washington') or (state == 'Oregon') or (state == 'California') or (state == 'Hawaii'):\n",
    "        region.append('West')\n",
    "    else:\n",
    "        region.append('No state')"
   ]
  },
  {
   "cell_type": "code",
   "execution_count": 7,
   "id": "6668f023",
   "metadata": {},
   "outputs": [
    {
     "data": {
      "text/plain": [
       "['South',\n",
       " 'South',\n",
       " 'South',\n",
       " 'South',\n",
       " 'South',\n",
       " 'South',\n",
       " 'South',\n",
       " 'South',\n",
       " 'South',\n",
       " 'South',\n",
       " 'South',\n",
       " 'South',\n",
       " 'South',\n",
       " 'South',\n",
       " 'South',\n",
       " 'South',\n",
       " 'South',\n",
       " 'South',\n",
       " 'South',\n",
       " 'South',\n",
       " 'South',\n",
       " 'South',\n",
       " 'South',\n",
       " 'South',\n",
       " 'South',\n",
       " 'South',\n",
       " 'South',\n",
       " 'South',\n",
       " 'South',\n",
       " 'South',\n",
       " 'South',\n",
       " 'South',\n",
       " 'South',\n",
       " 'South',\n",
       " 'South',\n",
       " 'South',\n",
       " 'South',\n",
       " 'South',\n",
       " 'South',\n",
       " 'South',\n",
       " 'South',\n",
       " 'South',\n",
       " 'South',\n",
       " 'South',\n",
       " 'South',\n",
       " 'South',\n",
       " 'South',\n",
       " 'South',\n",
       " 'South',\n",
       " 'South',\n",
       " 'South',\n",
       " 'South',\n",
       " 'South',\n",
       " 'South',\n",
       " 'South',\n",
       " 'South',\n",
       " 'South',\n",
       " 'South',\n",
       " 'South',\n",
       " 'West',\n",
       " 'West',\n",
       " 'West',\n",
       " 'West',\n",
       " 'West',\n",
       " 'West',\n",
       " 'West',\n",
       " 'West',\n",
       " 'West',\n",
       " 'West',\n",
       " 'West',\n",
       " 'West',\n",
       " 'West',\n",
       " 'West',\n",
       " 'West',\n",
       " 'West',\n",
       " 'West',\n",
       " 'West',\n",
       " 'West',\n",
       " 'West',\n",
       " 'West',\n",
       " 'West',\n",
       " 'West',\n",
       " 'West',\n",
       " 'West',\n",
       " 'West',\n",
       " 'West',\n",
       " 'West',\n",
       " 'West',\n",
       " 'West',\n",
       " 'West',\n",
       " 'West',\n",
       " 'West',\n",
       " 'West',\n",
       " 'West',\n",
       " 'West',\n",
       " 'West',\n",
       " 'West',\n",
       " 'West',\n",
       " 'West',\n",
       " 'West',\n",
       " 'West',\n",
       " 'West',\n",
       " 'West',\n",
       " 'West',\n",
       " 'West',\n",
       " 'West',\n",
       " 'West',\n",
       " 'West',\n",
       " 'West',\n",
       " 'West',\n",
       " 'West',\n",
       " 'West',\n",
       " 'West',\n",
       " 'West',\n",
       " 'West',\n",
       " 'West',\n",
       " 'West',\n",
       " 'West',\n",
       " 'West',\n",
       " 'West',\n",
       " 'West',\n",
       " 'West',\n",
       " 'West',\n",
       " 'West',\n",
       " 'West',\n",
       " 'West',\n",
       " 'West',\n",
       " 'West',\n",
       " 'West',\n",
       " 'West',\n",
       " 'West',\n",
       " 'West',\n",
       " 'West',\n",
       " 'West',\n",
       " 'West',\n",
       " 'West',\n",
       " 'West',\n",
       " 'West',\n",
       " 'West',\n",
       " 'West',\n",
       " 'West',\n",
       " 'West',\n",
       " 'West',\n",
       " 'West',\n",
       " 'West',\n",
       " 'West',\n",
       " 'West',\n",
       " 'West',\n",
       " 'West',\n",
       " 'West',\n",
       " 'West',\n",
       " 'West',\n",
       " 'West',\n",
       " 'West',\n",
       " 'West',\n",
       " 'West',\n",
       " 'West',\n",
       " 'West',\n",
       " 'West',\n",
       " 'West',\n",
       " 'West',\n",
       " 'West',\n",
       " 'West',\n",
       " 'West',\n",
       " 'West',\n",
       " 'West',\n",
       " 'West',\n",
       " 'West',\n",
       " 'West',\n",
       " 'West',\n",
       " 'West',\n",
       " 'West',\n",
       " 'West',\n",
       " 'West',\n",
       " 'West',\n",
       " 'West',\n",
       " 'West',\n",
       " 'West',\n",
       " 'West',\n",
       " 'West',\n",
       " 'West',\n",
       " 'West',\n",
       " 'West',\n",
       " 'West',\n",
       " 'West',\n",
       " 'West',\n",
       " 'West',\n",
       " 'West',\n",
       " 'West',\n",
       " 'West',\n",
       " 'West',\n",
       " 'West',\n",
       " 'West',\n",
       " 'West',\n",
       " 'West',\n",
       " 'West',\n",
       " 'West',\n",
       " 'West',\n",
       " 'West',\n",
       " 'West',\n",
       " 'West',\n",
       " 'West',\n",
       " 'West',\n",
       " 'West',\n",
       " 'West',\n",
       " 'West',\n",
       " 'West',\n",
       " 'West',\n",
       " 'West',\n",
       " 'West',\n",
       " 'West',\n",
       " 'West',\n",
       " 'West',\n",
       " 'West',\n",
       " 'West',\n",
       " 'West',\n",
       " 'West',\n",
       " 'West',\n",
       " 'West',\n",
       " 'West',\n",
       " 'West',\n",
       " 'West',\n",
       " 'West',\n",
       " 'West',\n",
       " 'West',\n",
       " 'West',\n",
       " 'West',\n",
       " 'West',\n",
       " 'West',\n",
       " 'West',\n",
       " 'West',\n",
       " 'West',\n",
       " 'West',\n",
       " 'West',\n",
       " 'West',\n",
       " 'West',\n",
       " 'West',\n",
       " 'West',\n",
       " 'West',\n",
       " 'West',\n",
       " 'West',\n",
       " 'West',\n",
       " 'West',\n",
       " 'West',\n",
       " 'West',\n",
       " 'West',\n",
       " 'West',\n",
       " 'West',\n",
       " 'West',\n",
       " 'West',\n",
       " 'West',\n",
       " 'West',\n",
       " 'West',\n",
       " 'West',\n",
       " 'West',\n",
       " 'West',\n",
       " 'West',\n",
       " 'West',\n",
       " 'West',\n",
       " 'West',\n",
       " 'West',\n",
       " 'West',\n",
       " 'West',\n",
       " 'West',\n",
       " 'West',\n",
       " 'West',\n",
       " 'West',\n",
       " 'West',\n",
       " 'West',\n",
       " 'West',\n",
       " 'West',\n",
       " 'West',\n",
       " 'West',\n",
       " 'West',\n",
       " 'West',\n",
       " 'West',\n",
       " 'West',\n",
       " 'West',\n",
       " 'West',\n",
       " 'West',\n",
       " 'West',\n",
       " 'West',\n",
       " 'West',\n",
       " 'West',\n",
       " 'West',\n",
       " 'West',\n",
       " 'West',\n",
       " 'West',\n",
       " 'West',\n",
       " 'West',\n",
       " 'West',\n",
       " 'West',\n",
       " 'West',\n",
       " 'West',\n",
       " 'West',\n",
       " 'West',\n",
       " 'West',\n",
       " 'West',\n",
       " 'West',\n",
       " 'West',\n",
       " 'West',\n",
       " 'West',\n",
       " 'West',\n",
       " 'West',\n",
       " 'West',\n",
       " 'West',\n",
       " 'West',\n",
       " 'West',\n",
       " 'West',\n",
       " 'West',\n",
       " 'West',\n",
       " 'West',\n",
       " 'West',\n",
       " 'West',\n",
       " 'West',\n",
       " 'West',\n",
       " 'West',\n",
       " 'West',\n",
       " 'West',\n",
       " 'West',\n",
       " 'West',\n",
       " 'West',\n",
       " 'West',\n",
       " 'West',\n",
       " 'West',\n",
       " 'West',\n",
       " 'West',\n",
       " 'West',\n",
       " 'West',\n",
       " 'West',\n",
       " 'West',\n",
       " 'West',\n",
       " 'West',\n",
       " 'West',\n",
       " 'West',\n",
       " 'West',\n",
       " 'West',\n",
       " 'West',\n",
       " 'West',\n",
       " 'West',\n",
       " 'West',\n",
       " 'West',\n",
       " 'South',\n",
       " 'South',\n",
       " 'South',\n",
       " 'South',\n",
       " 'South',\n",
       " 'South',\n",
       " 'South',\n",
       " 'South',\n",
       " 'South',\n",
       " 'South',\n",
       " 'South',\n",
       " 'South',\n",
       " 'South',\n",
       " 'South',\n",
       " 'South',\n",
       " 'South',\n",
       " 'South',\n",
       " 'South',\n",
       " 'West',\n",
       " 'West',\n",
       " 'West',\n",
       " 'West',\n",
       " 'West',\n",
       " 'West',\n",
       " 'West',\n",
       " 'West',\n",
       " 'West',\n",
       " 'West',\n",
       " 'West',\n",
       " 'West',\n",
       " 'West',\n",
       " 'West',\n",
       " 'West',\n",
       " 'West',\n",
       " 'West',\n",
       " 'West',\n",
       " 'West',\n",
       " 'West',\n",
       " 'West',\n",
       " 'West',\n",
       " 'West',\n",
       " 'West',\n",
       " 'West',\n",
       " 'West',\n",
       " 'West',\n",
       " 'West',\n",
       " 'West',\n",
       " 'West',\n",
       " 'West',\n",
       " 'West',\n",
       " 'West',\n",
       " 'West',\n",
       " 'West',\n",
       " 'West',\n",
       " 'West',\n",
       " 'West',\n",
       " 'West',\n",
       " 'West',\n",
       " 'West',\n",
       " 'West',\n",
       " 'West',\n",
       " 'West',\n",
       " 'West',\n",
       " 'West',\n",
       " 'West',\n",
       " 'West',\n",
       " 'West',\n",
       " 'West',\n",
       " 'West',\n",
       " 'Northeast',\n",
       " 'Northeast',\n",
       " 'Northeast',\n",
       " 'Northeast',\n",
       " 'Northeast',\n",
       " 'Northeast',\n",
       " 'Northeast',\n",
       " 'Northeast',\n",
       " 'Northeast',\n",
       " 'Northeast',\n",
       " 'Northeast',\n",
       " 'Northeast',\n",
       " 'Northeast',\n",
       " 'Northeast',\n",
       " 'Northeast',\n",
       " 'Northeast',\n",
       " 'Northeast',\n",
       " 'Northeast',\n",
       " 'Northeast',\n",
       " 'Northeast',\n",
       " 'Northeast',\n",
       " 'Northeast',\n",
       " 'Northeast',\n",
       " 'Northeast',\n",
       " 'Northeast',\n",
       " 'Northeast',\n",
       " 'Northeast',\n",
       " 'Northeast',\n",
       " 'Northeast',\n",
       " 'Northeast',\n",
       " 'Northeast',\n",
       " 'Northeast',\n",
       " 'Northeast',\n",
       " 'Northeast',\n",
       " 'Northeast',\n",
       " 'Northeast',\n",
       " 'Northeast',\n",
       " 'Northeast',\n",
       " 'Northeast',\n",
       " 'Northeast',\n",
       " 'Northeast',\n",
       " 'Northeast',\n",
       " 'Northeast',\n",
       " 'Northeast',\n",
       " 'Northeast',\n",
       " 'Northeast',\n",
       " 'Northeast',\n",
       " 'Northeast',\n",
       " 'Northeast',\n",
       " 'Northeast',\n",
       " 'Northeast',\n",
       " 'Northeast',\n",
       " 'Northeast',\n",
       " 'Northeast',\n",
       " 'Northeast',\n",
       " 'Northeast',\n",
       " 'Northeast',\n",
       " 'Northeast',\n",
       " 'Northeast',\n",
       " 'Northeast',\n",
       " 'Northeast',\n",
       " 'Northeast',\n",
       " 'Northeast',\n",
       " 'Northeast',\n",
       " 'Northeast',\n",
       " 'Northeast',\n",
       " 'Northeast',\n",
       " 'Northeast',\n",
       " 'Northeast',\n",
       " 'Northeast',\n",
       " 'Northeast',\n",
       " 'Northeast',\n",
       " 'Northeast',\n",
       " 'Northeast',\n",
       " 'Northeast',\n",
       " 'Northeast',\n",
       " 'Northeast',\n",
       " 'Northeast',\n",
       " 'Northeast',\n",
       " 'Northeast',\n",
       " 'Northeast',\n",
       " 'Northeast',\n",
       " 'Northeast',\n",
       " 'Northeast',\n",
       " 'Northeast',\n",
       " 'Northeast',\n",
       " 'Northeast',\n",
       " 'Northeast',\n",
       " 'Northeast',\n",
       " 'Northeast',\n",
       " 'Northeast',\n",
       " 'Northeast',\n",
       " 'Northeast',\n",
       " 'Northeast',\n",
       " 'Northeast',\n",
       " 'Northeast',\n",
       " 'Northeast',\n",
       " 'Northeast',\n",
       " 'Northeast',\n",
       " 'Northeast',\n",
       " 'Northeast',\n",
       " 'Northeast',\n",
       " 'Northeast',\n",
       " 'Northeast',\n",
       " 'Northeast',\n",
       " 'Northeast',\n",
       " 'Northeast',\n",
       " 'Northeast',\n",
       " 'Northeast',\n",
       " 'Northeast',\n",
       " 'Northeast',\n",
       " 'Northeast',\n",
       " 'Northeast',\n",
       " 'Northeast',\n",
       " 'Northeast',\n",
       " 'Northeast',\n",
       " 'Northeast',\n",
       " 'Northeast',\n",
       " 'Northeast',\n",
       " 'Northeast',\n",
       " 'Northeast',\n",
       " 'Northeast',\n",
       " 'Northeast',\n",
       " 'Northeast',\n",
       " 'Northeast',\n",
       " 'Northeast',\n",
       " 'Northeast',\n",
       " 'Northeast',\n",
       " 'Northeast',\n",
       " 'Northeast',\n",
       " 'Northeast',\n",
       " 'Northeast',\n",
       " 'Northeast',\n",
       " 'Northeast',\n",
       " 'Northeast',\n",
       " 'Northeast',\n",
       " 'Northeast',\n",
       " 'Northeast',\n",
       " 'Northeast',\n",
       " 'Northeast',\n",
       " 'Northeast',\n",
       " 'Northeast',\n",
       " 'Northeast',\n",
       " 'Northeast',\n",
       " 'Northeast',\n",
       " 'Northeast',\n",
       " 'Northeast',\n",
       " 'Northeast',\n",
       " 'Northeast',\n",
       " 'Northeast',\n",
       " 'Northeast',\n",
       " 'Northeast',\n",
       " 'Northeast',\n",
       " 'Northeast',\n",
       " 'Northeast',\n",
       " 'Northeast',\n",
       " 'Northeast',\n",
       " 'Northeast',\n",
       " 'Northeast',\n",
       " 'Northeast',\n",
       " 'Northeast',\n",
       " 'Northeast',\n",
       " 'Northeast',\n",
       " 'Northeast',\n",
       " 'Northeast',\n",
       " 'Northeast',\n",
       " 'Northeast',\n",
       " 'Northeast',\n",
       " 'Northeast',\n",
       " 'Northeast',\n",
       " 'Northeast',\n",
       " 'Northeast',\n",
       " 'Northeast',\n",
       " 'Northeast',\n",
       " 'Northeast',\n",
       " 'Northeast',\n",
       " 'Northeast',\n",
       " 'Northeast',\n",
       " 'Northeast',\n",
       " 'Northeast',\n",
       " 'Northeast',\n",
       " 'Northeast',\n",
       " 'Northeast',\n",
       " 'Northeast',\n",
       " 'Northeast',\n",
       " 'Northeast',\n",
       " 'Northeast',\n",
       " 'Northeast',\n",
       " 'Northeast',\n",
       " 'Northeast',\n",
       " 'Northeast',\n",
       " 'Northeast',\n",
       " 'Northeast',\n",
       " 'Northeast',\n",
       " 'Northeast',\n",
       " 'Northeast',\n",
       " 'Northeast',\n",
       " 'Northeast',\n",
       " 'Northeast',\n",
       " 'Northeast',\n",
       " 'Northeast',\n",
       " 'Northeast',\n",
       " 'Northeast',\n",
       " 'Northeast',\n",
       " 'Northeast',\n",
       " 'Northeast',\n",
       " 'South',\n",
       " 'South',\n",
       " 'South',\n",
       " 'South',\n",
       " 'South',\n",
       " 'South',\n",
       " 'South',\n",
       " 'South',\n",
       " 'South',\n",
       " 'South',\n",
       " 'South',\n",
       " 'South',\n",
       " 'South',\n",
       " 'South',\n",
       " 'South',\n",
       " 'South',\n",
       " 'South',\n",
       " 'South',\n",
       " 'South',\n",
       " 'South',\n",
       " 'South',\n",
       " 'South',\n",
       " 'South',\n",
       " 'South',\n",
       " 'South',\n",
       " 'South',\n",
       " 'South',\n",
       " 'South',\n",
       " 'South',\n",
       " 'South',\n",
       " 'South',\n",
       " 'South',\n",
       " 'South',\n",
       " 'South',\n",
       " 'South',\n",
       " 'South',\n",
       " 'South',\n",
       " 'South',\n",
       " 'South',\n",
       " 'South',\n",
       " 'South',\n",
       " 'South',\n",
       " 'South',\n",
       " 'South',\n",
       " 'South',\n",
       " 'South',\n",
       " 'South',\n",
       " 'South',\n",
       " 'South',\n",
       " 'South',\n",
       " 'South',\n",
       " 'South',\n",
       " 'South',\n",
       " 'South',\n",
       " 'South',\n",
       " 'South',\n",
       " 'South',\n",
       " 'South',\n",
       " 'South',\n",
       " 'South',\n",
       " 'South',\n",
       " 'South',\n",
       " 'South',\n",
       " 'South',\n",
       " 'South',\n",
       " 'South',\n",
       " 'South',\n",
       " 'South',\n",
       " 'South',\n",
       " 'South',\n",
       " 'South',\n",
       " 'South',\n",
       " 'South',\n",
       " 'South',\n",
       " 'South',\n",
       " 'South',\n",
       " 'South',\n",
       " 'South',\n",
       " 'South',\n",
       " 'South',\n",
       " 'South',\n",
       " 'South',\n",
       " 'South',\n",
       " 'South',\n",
       " 'South',\n",
       " 'South',\n",
       " 'South',\n",
       " 'South',\n",
       " 'South',\n",
       " 'South',\n",
       " 'South',\n",
       " 'South',\n",
       " 'South',\n",
       " 'South',\n",
       " 'South',\n",
       " 'South',\n",
       " 'South',\n",
       " 'South',\n",
       " 'South',\n",
       " 'South',\n",
       " 'South',\n",
       " 'South',\n",
       " 'South',\n",
       " 'South',\n",
       " 'South',\n",
       " 'South',\n",
       " 'South',\n",
       " 'South',\n",
       " 'South',\n",
       " 'South',\n",
       " 'South',\n",
       " 'South',\n",
       " 'South',\n",
       " 'South',\n",
       " 'South',\n",
       " 'South',\n",
       " 'South',\n",
       " 'South',\n",
       " 'South',\n",
       " 'South',\n",
       " 'South',\n",
       " 'South',\n",
       " 'South',\n",
       " 'South',\n",
       " 'South',\n",
       " 'South',\n",
       " 'South',\n",
       " 'South',\n",
       " 'South',\n",
       " 'South',\n",
       " 'South',\n",
       " 'South',\n",
       " 'South',\n",
       " 'South',\n",
       " 'South',\n",
       " 'South',\n",
       " 'South',\n",
       " 'South',\n",
       " 'South',\n",
       " 'South',\n",
       " 'South',\n",
       " 'South',\n",
       " 'South',\n",
       " 'South',\n",
       " 'South',\n",
       " 'South',\n",
       " 'South',\n",
       " 'South',\n",
       " 'South',\n",
       " 'South',\n",
       " 'South',\n",
       " 'South',\n",
       " 'South',\n",
       " 'South',\n",
       " 'South',\n",
       " 'South',\n",
       " 'South',\n",
       " 'South',\n",
       " 'South',\n",
       " 'South',\n",
       " 'South',\n",
       " 'South',\n",
       " 'South',\n",
       " 'South',\n",
       " 'South',\n",
       " 'South',\n",
       " 'South',\n",
       " 'South',\n",
       " 'South',\n",
       " 'South',\n",
       " 'South',\n",
       " 'South',\n",
       " 'South',\n",
       " 'South',\n",
       " 'South',\n",
       " 'South',\n",
       " 'South',\n",
       " 'South',\n",
       " 'South',\n",
       " 'South',\n",
       " 'South',\n",
       " 'South',\n",
       " 'South',\n",
       " 'South',\n",
       " 'South',\n",
       " 'South',\n",
       " 'South',\n",
       " 'South',\n",
       " 'South',\n",
       " 'South',\n",
       " 'South',\n",
       " 'South',\n",
       " 'South',\n",
       " 'South',\n",
       " 'South',\n",
       " 'South',\n",
       " 'South',\n",
       " 'South',\n",
       " 'South',\n",
       " 'South',\n",
       " 'South',\n",
       " 'South',\n",
       " 'South',\n",
       " 'South',\n",
       " 'South',\n",
       " 'South',\n",
       " 'South',\n",
       " 'South',\n",
       " 'South',\n",
       " 'South',\n",
       " 'South',\n",
       " 'South',\n",
       " 'South',\n",
       " 'South',\n",
       " 'South',\n",
       " 'South',\n",
       " 'South',\n",
       " 'South',\n",
       " 'South',\n",
       " 'South',\n",
       " 'South',\n",
       " 'South',\n",
       " 'South',\n",
       " 'South',\n",
       " 'South',\n",
       " 'South',\n",
       " 'South',\n",
       " 'South',\n",
       " 'South',\n",
       " 'South',\n",
       " 'South',\n",
       " 'South',\n",
       " 'South',\n",
       " 'South',\n",
       " 'South',\n",
       " 'South',\n",
       " 'South',\n",
       " 'South',\n",
       " 'South',\n",
       " 'South',\n",
       " 'South',\n",
       " 'South',\n",
       " 'South',\n",
       " 'South',\n",
       " 'South',\n",
       " 'South',\n",
       " 'South',\n",
       " 'South',\n",
       " 'South',\n",
       " 'South',\n",
       " 'South',\n",
       " 'South',\n",
       " 'South',\n",
       " 'South',\n",
       " 'South',\n",
       " 'South',\n",
       " 'South',\n",
       " 'South',\n",
       " 'South',\n",
       " 'South',\n",
       " 'South',\n",
       " 'South',\n",
       " 'South',\n",
       " 'South',\n",
       " 'South',\n",
       " 'South',\n",
       " 'South',\n",
       " 'South',\n",
       " 'South',\n",
       " 'South',\n",
       " 'South',\n",
       " 'South',\n",
       " 'South',\n",
       " 'South',\n",
       " 'South',\n",
       " 'South',\n",
       " 'South',\n",
       " 'South',\n",
       " 'South',\n",
       " 'South',\n",
       " 'South',\n",
       " 'South',\n",
       " 'South',\n",
       " 'South',\n",
       " 'South',\n",
       " 'South',\n",
       " 'South',\n",
       " 'South',\n",
       " 'South',\n",
       " 'South',\n",
       " 'South',\n",
       " 'South',\n",
       " 'South',\n",
       " 'South',\n",
       " 'South',\n",
       " 'South',\n",
       " 'South',\n",
       " 'South',\n",
       " 'South',\n",
       " 'South',\n",
       " 'South',\n",
       " 'South',\n",
       " 'South',\n",
       " 'South',\n",
       " 'South',\n",
       " 'South',\n",
       " 'South',\n",
       " 'South',\n",
       " 'South',\n",
       " 'South',\n",
       " 'South',\n",
       " 'South',\n",
       " 'South',\n",
       " 'South',\n",
       " 'South',\n",
       " 'South',\n",
       " 'South',\n",
       " 'South',\n",
       " 'South',\n",
       " 'South',\n",
       " 'South',\n",
       " 'South',\n",
       " 'South',\n",
       " 'South',\n",
       " 'South',\n",
       " 'South',\n",
       " 'South',\n",
       " 'South',\n",
       " 'South',\n",
       " 'South',\n",
       " 'South',\n",
       " 'South',\n",
       " 'South',\n",
       " 'South',\n",
       " 'South',\n",
       " 'South',\n",
       " 'South',\n",
       " 'South',\n",
       " 'South',\n",
       " 'South',\n",
       " 'South',\n",
       " 'South',\n",
       " 'South',\n",
       " 'South',\n",
       " 'South',\n",
       " 'South',\n",
       " 'South',\n",
       " 'South',\n",
       " 'South',\n",
       " 'South',\n",
       " 'South',\n",
       " 'South',\n",
       " 'South',\n",
       " 'South',\n",
       " 'South',\n",
       " 'South',\n",
       " 'South',\n",
       " 'South',\n",
       " 'South',\n",
       " 'South',\n",
       " 'South',\n",
       " 'South',\n",
       " 'West',\n",
       " 'West',\n",
       " 'West',\n",
       " 'West',\n",
       " 'West',\n",
       " 'West',\n",
       " 'West',\n",
       " 'West',\n",
       " 'West',\n",
       " 'West',\n",
       " 'West',\n",
       " 'West',\n",
       " 'West',\n",
       " 'West',\n",
       " 'West',\n",
       " 'West',\n",
       " 'West',\n",
       " 'West',\n",
       " 'West',\n",
       " 'West',\n",
       " 'West',\n",
       " ...]"
      ]
     },
     "execution_count": 7,
     "metadata": {},
     "output_type": "execute_result"
    }
   ],
   "source": [
    "# Check\n",
    "\n",
    "region"
   ]
  },
  {
   "cell_type": "code",
   "execution_count": 8,
   "id": "b4bd10da",
   "metadata": {},
   "outputs": [],
   "source": [
    "# Add column to df_10\n",
    "\n",
    "df_10['region'] = region"
   ]
  },
  {
   "cell_type": "code",
   "execution_count": 9,
   "id": "f4261680",
   "metadata": {},
   "outputs": [
    {
     "data": {
      "text/plain": [
       "South        10801982\n",
       "West          8300617\n",
       "Midwest       7604016\n",
       "Northeast     5728444\n",
       "Name: region, dtype: int64"
      ]
     },
     "execution_count": 9,
     "metadata": {},
     "output_type": "execute_result"
    }
   ],
   "source": [
    "# Value count 'region'\n",
    "\n",
    "df_10['region'].value_counts(dropna = False)"
   ]
  },
  {
   "cell_type": "markdown",
   "id": "4a2b1826",
   "metadata": {},
   "source": [
    ":: Determine whether there’s a difference in spending habits between the different U.S. regions"
   ]
  },
  {
   "cell_type": "code",
   "execution_count": 10,
   "id": "b9637a7d",
   "metadata": {},
   "outputs": [],
   "source": [
    "# Create crosstab to compare 'region' and 'spending_flag'\n",
    "\n",
    "crosstab = pd.crosstab(df_10['region'], df_10['spending_flag'], dropna = False)"
   ]
  },
  {
   "cell_type": "code",
   "execution_count": 11,
   "id": "084ed1ba",
   "metadata": {},
   "outputs": [
    {
     "data": {
      "text/html": [
       "<div>\n",
       "<style scoped>\n",
       "    .dataframe tbody tr th:only-of-type {\n",
       "        vertical-align: middle;\n",
       "    }\n",
       "\n",
       "    .dataframe tbody tr th {\n",
       "        vertical-align: top;\n",
       "    }\n",
       "\n",
       "    .dataframe thead th {\n",
       "        text-align: right;\n",
       "    }\n",
       "</style>\n",
       "<table border=\"1\" class=\"dataframe\">\n",
       "  <thead>\n",
       "    <tr style=\"text-align: right;\">\n",
       "      <th>spending_flag</th>\n",
       "      <th>High spender</th>\n",
       "      <th>Low spender</th>\n",
       "    </tr>\n",
       "    <tr>\n",
       "      <th>region</th>\n",
       "      <th></th>\n",
       "      <th></th>\n",
       "    </tr>\n",
       "  </thead>\n",
       "  <tbody>\n",
       "    <tr>\n",
       "      <th>Midwest</th>\n",
       "      <td>156084</td>\n",
       "      <td>7447932</td>\n",
       "    </tr>\n",
       "    <tr>\n",
       "      <th>Northeast</th>\n",
       "      <td>108258</td>\n",
       "      <td>5620186</td>\n",
       "    </tr>\n",
       "    <tr>\n",
       "      <th>South</th>\n",
       "      <td>209863</td>\n",
       "      <td>10592119</td>\n",
       "    </tr>\n",
       "    <tr>\n",
       "      <th>West</th>\n",
       "      <td>160440</td>\n",
       "      <td>8140177</td>\n",
       "    </tr>\n",
       "  </tbody>\n",
       "</table>\n",
       "</div>"
      ],
      "text/plain": [
       "spending_flag  High spender  Low spender\n",
       "region                                  \n",
       "Midwest              156084      7447932\n",
       "Northeast            108258      5620186\n",
       "South                209863     10592119\n",
       "West                 160440      8140177"
      ]
     },
     "execution_count": 11,
     "metadata": {},
     "output_type": "execute_result"
    }
   ],
   "source": [
    "crosstab"
   ]
  },
  {
   "cell_type": "code",
   "execution_count": 12,
   "id": "3163f384",
   "metadata": {},
   "outputs": [],
   "source": [
    "crosstab.to_clipboard()"
   ]
  },
  {
   "cell_type": "markdown",
   "id": "4089246f",
   "metadata": {},
   "source": [
    ":: Calculating the percentages as:\n",
    "- Midwest  HS - 2.1%   //   LS - 97.9%\n",
    "- Northeast HS - 1.9%   //   LS - 98.1%\n",
    "- South     HS - 1.9%   //   LS - 98.1%\n",
    "- West      HS - 2%     //   LS - 98%\n",
    "\n",
    "The resulting percentages show a fairly even spread of high and low spending across the regions."
   ]
  },
  {
   "cell_type": "markdown",
   "id": "e82fe7ec",
   "metadata": {},
   "source": [
    "\n"
   ]
  },
  {
   "cell_type": "markdown",
   "id": "8418c739",
   "metadata": {},
   "source": [
    "\n"
   ]
  },
  {
   "cell_type": "markdown",
   "id": "705bed4c",
   "metadata": {},
   "source": [
    "4. The Instacart CFO isn’t interested in customers who don’t generate much revenue for the app. Create an exclusion flag for low-activity customers (customers with less than 5 orders) and exclude them from the data. Make sure you export this sample."
   ]
  },
  {
   "cell_type": "code",
   "execution_count": 9,
   "id": "7df32419",
   "metadata": {},
   "outputs": [],
   "source": [
    "# Create exclution flags\n",
    "# 'low activity cust'\n",
    "\n",
    "df_10.loc[df_10['max_order'] < 5, 'exclusion_flag'] = 'low activity cust'"
   ]
  },
  {
   "cell_type": "code",
   "execution_count": 10,
   "id": "a1daadbd",
   "metadata": {},
   "outputs": [],
   "source": [
    "# 'regular cust'\n",
    "\n",
    "df_10.loc[df_10['max_order'] >= 5, 'exclusion_flag'] = 'regular cust'"
   ]
  },
  {
   "cell_type": "code",
   "execution_count": 15,
   "id": "7e7efff8",
   "metadata": {},
   "outputs": [
    {
     "data": {
      "text/plain": [
       "regular cust         30993489\n",
       "low activity cust     1441570\n",
       "Name: exclusion_flag, dtype: int64"
      ]
     },
     "execution_count": 15,
     "metadata": {},
     "output_type": "execute_result"
    }
   ],
   "source": [
    "# Check exclusion flag \n",
    "\n",
    "df_10['exclusion_flag'].value_counts(dropna = False)"
   ]
  },
  {
   "cell_type": "code",
   "execution_count": 11,
   "id": "2116e891",
   "metadata": {},
   "outputs": [],
   "source": [
    "# Create new df 'low activity cust'\n",
    "\n",
    "df_10LAC = df_10[df_10['exclusion_flag'] == 'low activity cust']"
   ]
  },
  {
   "cell_type": "code",
   "execution_count": 12,
   "id": "9770b897",
   "metadata": {},
   "outputs": [
    {
     "data": {
      "text/html": [
       "<div>\n",
       "<style scoped>\n",
       "    .dataframe tbody tr th:only-of-type {\n",
       "        vertical-align: middle;\n",
       "    }\n",
       "\n",
       "    .dataframe tbody tr th {\n",
       "        vertical-align: top;\n",
       "    }\n",
       "\n",
       "    .dataframe thead th {\n",
       "        text-align: right;\n",
       "    }\n",
       "</style>\n",
       "<table border=\"1\" class=\"dataframe\">\n",
       "  <thead>\n",
       "    <tr style=\"text-align: right;\">\n",
       "      <th></th>\n",
       "      <th>order_id</th>\n",
       "      <th>user_id</th>\n",
       "      <th>order_number</th>\n",
       "      <th>orders_day_of_week</th>\n",
       "      <th>order_hour_of_day</th>\n",
       "      <th>days_since_prior_order</th>\n",
       "      <th>product_id</th>\n",
       "      <th>add_to_cart_order</th>\n",
       "      <th>reordered</th>\n",
       "      <th>_merge</th>\n",
       "      <th>product_name</th>\n",
       "      <th>aisle_id</th>\n",
       "      <th>department_id</th>\n",
       "      <th>prices</th>\n",
       "      <th>price_range_loc</th>\n",
       "      <th>busiest_day</th>\n",
       "      <th>busy_days</th>\n",
       "      <th>busiest_period_of_day</th>\n",
       "      <th>max_order</th>\n",
       "      <th>loyalty_flag</th>\n",
       "      <th>spending</th>\n",
       "      <th>spending_flag</th>\n",
       "      <th>frequency</th>\n",
       "      <th>freq_flag</th>\n",
       "      <th>first_name</th>\n",
       "      <th>last_name</th>\n",
       "      <th>gender</th>\n",
       "      <th>state</th>\n",
       "      <th>age</th>\n",
       "      <th>date_joined</th>\n",
       "      <th>num_dep</th>\n",
       "      <th>marital_status</th>\n",
       "      <th>income</th>\n",
       "      <th>region</th>\n",
       "      <th>exclusion_flag</th>\n",
       "    </tr>\n",
       "  </thead>\n",
       "  <tbody>\n",
       "    <tr>\n",
       "      <th>360</th>\n",
       "      <td>2717275</td>\n",
       "      <td>5</td>\n",
       "      <td>1</td>\n",
       "      <td>3</td>\n",
       "      <td>12</td>\n",
       "      <td>NaN</td>\n",
       "      <td>15349</td>\n",
       "      <td>1</td>\n",
       "      <td>0</td>\n",
       "      <td>both</td>\n",
       "      <td>Organic Raw Agave Nectar</td>\n",
       "      <td>29.0</td>\n",
       "      <td>13.0</td>\n",
       "      <td>10.7</td>\n",
       "      <td>Mid-range product</td>\n",
       "      <td>regularly busy</td>\n",
       "      <td>regularly busy</td>\n",
       "      <td>Most orders</td>\n",
       "      <td>4</td>\n",
       "      <td>New customer</td>\n",
       "      <td>9.189189</td>\n",
       "      <td>Low spender</td>\n",
       "      <td>11.0</td>\n",
       "      <td>regular customer</td>\n",
       "      <td>Janet</td>\n",
       "      <td>Lester</td>\n",
       "      <td>Female</td>\n",
       "      <td>California</td>\n",
       "      <td>75</td>\n",
       "      <td>10/8/2018</td>\n",
       "      <td>0</td>\n",
       "      <td>divorced/widowed</td>\n",
       "      <td>115242</td>\n",
       "      <td>West</td>\n",
       "      <td>low activity cust</td>\n",
       "    </tr>\n",
       "    <tr>\n",
       "      <th>361</th>\n",
       "      <td>2717275</td>\n",
       "      <td>5</td>\n",
       "      <td>1</td>\n",
       "      <td>3</td>\n",
       "      <td>12</td>\n",
       "      <td>NaN</td>\n",
       "      <td>21413</td>\n",
       "      <td>2</td>\n",
       "      <td>0</td>\n",
       "      <td>both</td>\n",
       "      <td>Organic Soba</td>\n",
       "      <td>66.0</td>\n",
       "      <td>6.0</td>\n",
       "      <td>6.7</td>\n",
       "      <td>Mid-range product</td>\n",
       "      <td>regularly busy</td>\n",
       "      <td>regularly busy</td>\n",
       "      <td>Most orders</td>\n",
       "      <td>4</td>\n",
       "      <td>New customer</td>\n",
       "      <td>9.189189</td>\n",
       "      <td>Low spender</td>\n",
       "      <td>11.0</td>\n",
       "      <td>regular customer</td>\n",
       "      <td>Janet</td>\n",
       "      <td>Lester</td>\n",
       "      <td>Female</td>\n",
       "      <td>California</td>\n",
       "      <td>75</td>\n",
       "      <td>10/8/2018</td>\n",
       "      <td>0</td>\n",
       "      <td>divorced/widowed</td>\n",
       "      <td>115242</td>\n",
       "      <td>West</td>\n",
       "      <td>low activity cust</td>\n",
       "    </tr>\n",
       "    <tr>\n",
       "      <th>362</th>\n",
       "      <td>2717275</td>\n",
       "      <td>5</td>\n",
       "      <td>1</td>\n",
       "      <td>3</td>\n",
       "      <td>12</td>\n",
       "      <td>NaN</td>\n",
       "      <td>48775</td>\n",
       "      <td>3</td>\n",
       "      <td>0</td>\n",
       "      <td>both</td>\n",
       "      <td>Organic Red Cabbage</td>\n",
       "      <td>83.0</td>\n",
       "      <td>4.0</td>\n",
       "      <td>7.4</td>\n",
       "      <td>Mid-range product</td>\n",
       "      <td>regularly busy</td>\n",
       "      <td>regularly busy</td>\n",
       "      <td>Most orders</td>\n",
       "      <td>4</td>\n",
       "      <td>New customer</td>\n",
       "      <td>9.189189</td>\n",
       "      <td>Low spender</td>\n",
       "      <td>11.0</td>\n",
       "      <td>regular customer</td>\n",
       "      <td>Janet</td>\n",
       "      <td>Lester</td>\n",
       "      <td>Female</td>\n",
       "      <td>California</td>\n",
       "      <td>75</td>\n",
       "      <td>10/8/2018</td>\n",
       "      <td>0</td>\n",
       "      <td>divorced/widowed</td>\n",
       "      <td>115242</td>\n",
       "      <td>West</td>\n",
       "      <td>low activity cust</td>\n",
       "    </tr>\n",
       "    <tr>\n",
       "      <th>363</th>\n",
       "      <td>2717275</td>\n",
       "      <td>5</td>\n",
       "      <td>1</td>\n",
       "      <td>3</td>\n",
       "      <td>12</td>\n",
       "      <td>NaN</td>\n",
       "      <td>28289</td>\n",
       "      <td>4</td>\n",
       "      <td>0</td>\n",
       "      <td>both</td>\n",
       "      <td>Organic Shredded Carrots</td>\n",
       "      <td>123.0</td>\n",
       "      <td>4.0</td>\n",
       "      <td>3.2</td>\n",
       "      <td>Low-range product</td>\n",
       "      <td>regularly busy</td>\n",
       "      <td>regularly busy</td>\n",
       "      <td>Most orders</td>\n",
       "      <td>4</td>\n",
       "      <td>New customer</td>\n",
       "      <td>9.189189</td>\n",
       "      <td>Low spender</td>\n",
       "      <td>11.0</td>\n",
       "      <td>regular customer</td>\n",
       "      <td>Janet</td>\n",
       "      <td>Lester</td>\n",
       "      <td>Female</td>\n",
       "      <td>California</td>\n",
       "      <td>75</td>\n",
       "      <td>10/8/2018</td>\n",
       "      <td>0</td>\n",
       "      <td>divorced/widowed</td>\n",
       "      <td>115242</td>\n",
       "      <td>West</td>\n",
       "      <td>low activity cust</td>\n",
       "    </tr>\n",
       "    <tr>\n",
       "      <th>364</th>\n",
       "      <td>2717275</td>\n",
       "      <td>5</td>\n",
       "      <td>1</td>\n",
       "      <td>3</td>\n",
       "      <td>12</td>\n",
       "      <td>NaN</td>\n",
       "      <td>8518</td>\n",
       "      <td>5</td>\n",
       "      <td>0</td>\n",
       "      <td>both</td>\n",
       "      <td>Organic Red Onion</td>\n",
       "      <td>83.0</td>\n",
       "      <td>4.0</td>\n",
       "      <td>6.3</td>\n",
       "      <td>Mid-range product</td>\n",
       "      <td>regularly busy</td>\n",
       "      <td>regularly busy</td>\n",
       "      <td>Most orders</td>\n",
       "      <td>4</td>\n",
       "      <td>New customer</td>\n",
       "      <td>9.189189</td>\n",
       "      <td>Low spender</td>\n",
       "      <td>11.0</td>\n",
       "      <td>regular customer</td>\n",
       "      <td>Janet</td>\n",
       "      <td>Lester</td>\n",
       "      <td>Female</td>\n",
       "      <td>California</td>\n",
       "      <td>75</td>\n",
       "      <td>10/8/2018</td>\n",
       "      <td>0</td>\n",
       "      <td>divorced/widowed</td>\n",
       "      <td>115242</td>\n",
       "      <td>West</td>\n",
       "      <td>low activity cust</td>\n",
       "    </tr>\n",
       "  </tbody>\n",
       "</table>\n",
       "</div>"
      ],
      "text/plain": [
       "     order_id user_id  order_number  orders_day_of_week  order_hour_of_day  \\\n",
       "360   2717275       5             1                   3                 12   \n",
       "361   2717275       5             1                   3                 12   \n",
       "362   2717275       5             1                   3                 12   \n",
       "363   2717275       5             1                   3                 12   \n",
       "364   2717275       5             1                   3                 12   \n",
       "\n",
       "     days_since_prior_order  product_id  add_to_cart_order  reordered _merge  \\\n",
       "360                     NaN       15349                  1          0   both   \n",
       "361                     NaN       21413                  2          0   both   \n",
       "362                     NaN       48775                  3          0   both   \n",
       "363                     NaN       28289                  4          0   both   \n",
       "364                     NaN        8518                  5          0   both   \n",
       "\n",
       "                 product_name  aisle_id  department_id  prices  \\\n",
       "360  Organic Raw Agave Nectar      29.0           13.0    10.7   \n",
       "361              Organic Soba      66.0            6.0     6.7   \n",
       "362       Organic Red Cabbage      83.0            4.0     7.4   \n",
       "363  Organic Shredded Carrots     123.0            4.0     3.2   \n",
       "364         Organic Red Onion      83.0            4.0     6.3   \n",
       "\n",
       "       price_range_loc     busiest_day       busy_days busiest_period_of_day  \\\n",
       "360  Mid-range product  regularly busy  regularly busy           Most orders   \n",
       "361  Mid-range product  regularly busy  regularly busy           Most orders   \n",
       "362  Mid-range product  regularly busy  regularly busy           Most orders   \n",
       "363  Low-range product  regularly busy  regularly busy           Most orders   \n",
       "364  Mid-range product  regularly busy  regularly busy           Most orders   \n",
       "\n",
       "     max_order  loyalty_flag  spending spending_flag  frequency  \\\n",
       "360          4  New customer  9.189189   Low spender       11.0   \n",
       "361          4  New customer  9.189189   Low spender       11.0   \n",
       "362          4  New customer  9.189189   Low spender       11.0   \n",
       "363          4  New customer  9.189189   Low spender       11.0   \n",
       "364          4  New customer  9.189189   Low spender       11.0   \n",
       "\n",
       "            freq_flag first_name last_name  gender       state  age  \\\n",
       "360  regular customer      Janet    Lester  Female  California   75   \n",
       "361  regular customer      Janet    Lester  Female  California   75   \n",
       "362  regular customer      Janet    Lester  Female  California   75   \n",
       "363  regular customer      Janet    Lester  Female  California   75   \n",
       "364  regular customer      Janet    Lester  Female  California   75   \n",
       "\n",
       "    date_joined  num_dep    marital_status  income region     exclusion_flag  \n",
       "360   10/8/2018        0  divorced/widowed  115242   West  low activity cust  \n",
       "361   10/8/2018        0  divorced/widowed  115242   West  low activity cust  \n",
       "362   10/8/2018        0  divorced/widowed  115242   West  low activity cust  \n",
       "363   10/8/2018        0  divorced/widowed  115242   West  low activity cust  \n",
       "364   10/8/2018        0  divorced/widowed  115242   West  low activity cust  "
      ]
     },
     "execution_count": 12,
     "metadata": {},
     "output_type": "execute_result"
    }
   ],
   "source": [
    "# Check df_10LAC\n",
    "\n",
    "df_10LAC.head()"
   ]
  },
  {
   "cell_type": "code",
   "execution_count": 13,
   "id": "9226ede9",
   "metadata": {},
   "outputs": [],
   "source": [
    "# Create new df 'regular cust'\n",
    "\n",
    "df_10RC = df_10[df_10['exclusion_flag'] == 'regular cust']"
   ]
  },
  {
   "cell_type": "code",
   "execution_count": 14,
   "id": "c3183f34",
   "metadata": {
    "scrolled": true
   },
   "outputs": [
    {
     "data": {
      "text/html": [
       "<div>\n",
       "<style scoped>\n",
       "    .dataframe tbody tr th:only-of-type {\n",
       "        vertical-align: middle;\n",
       "    }\n",
       "\n",
       "    .dataframe tbody tr th {\n",
       "        vertical-align: top;\n",
       "    }\n",
       "\n",
       "    .dataframe thead th {\n",
       "        text-align: right;\n",
       "    }\n",
       "</style>\n",
       "<table border=\"1\" class=\"dataframe\">\n",
       "  <thead>\n",
       "    <tr style=\"text-align: right;\">\n",
       "      <th></th>\n",
       "      <th>order_id</th>\n",
       "      <th>user_id</th>\n",
       "      <th>order_number</th>\n",
       "      <th>orders_day_of_week</th>\n",
       "      <th>order_hour_of_day</th>\n",
       "      <th>days_since_prior_order</th>\n",
       "      <th>product_id</th>\n",
       "      <th>add_to_cart_order</th>\n",
       "      <th>reordered</th>\n",
       "      <th>_merge</th>\n",
       "      <th>product_name</th>\n",
       "      <th>aisle_id</th>\n",
       "      <th>department_id</th>\n",
       "      <th>prices</th>\n",
       "      <th>price_range_loc</th>\n",
       "      <th>busiest_day</th>\n",
       "      <th>busy_days</th>\n",
       "      <th>busiest_period_of_day</th>\n",
       "      <th>max_order</th>\n",
       "      <th>loyalty_flag</th>\n",
       "      <th>spending</th>\n",
       "      <th>spending_flag</th>\n",
       "      <th>frequency</th>\n",
       "      <th>freq_flag</th>\n",
       "      <th>first_name</th>\n",
       "      <th>last_name</th>\n",
       "      <th>gender</th>\n",
       "      <th>state</th>\n",
       "      <th>age</th>\n",
       "      <th>date_joined</th>\n",
       "      <th>num_dep</th>\n",
       "      <th>marital_status</th>\n",
       "      <th>income</th>\n",
       "      <th>region</th>\n",
       "      <th>exclusion_flag</th>\n",
       "    </tr>\n",
       "  </thead>\n",
       "  <tbody>\n",
       "    <tr>\n",
       "      <th>0</th>\n",
       "      <td>2539329</td>\n",
       "      <td>1</td>\n",
       "      <td>1</td>\n",
       "      <td>2</td>\n",
       "      <td>8</td>\n",
       "      <td>NaN</td>\n",
       "      <td>196</td>\n",
       "      <td>1</td>\n",
       "      <td>0</td>\n",
       "      <td>both</td>\n",
       "      <td>Soda</td>\n",
       "      <td>77.0</td>\n",
       "      <td>7.0</td>\n",
       "      <td>9.0</td>\n",
       "      <td>Mid-range product</td>\n",
       "      <td>regularly busy</td>\n",
       "      <td>regularly busy</td>\n",
       "      <td>Average orders</td>\n",
       "      <td>10</td>\n",
       "      <td>New customer</td>\n",
       "      <td>6.367797</td>\n",
       "      <td>Low spender</td>\n",
       "      <td>20.5</td>\n",
       "      <td>non-frequent customer</td>\n",
       "      <td>Linda</td>\n",
       "      <td>Nguyen</td>\n",
       "      <td>Female</td>\n",
       "      <td>Alabama</td>\n",
       "      <td>31</td>\n",
       "      <td>2/17/2019</td>\n",
       "      <td>3</td>\n",
       "      <td>married</td>\n",
       "      <td>40423</td>\n",
       "      <td>South</td>\n",
       "      <td>regular cust</td>\n",
       "    </tr>\n",
       "    <tr>\n",
       "      <th>1</th>\n",
       "      <td>2539329</td>\n",
       "      <td>1</td>\n",
       "      <td>1</td>\n",
       "      <td>2</td>\n",
       "      <td>8</td>\n",
       "      <td>NaN</td>\n",
       "      <td>14084</td>\n",
       "      <td>2</td>\n",
       "      <td>0</td>\n",
       "      <td>both</td>\n",
       "      <td>Organic Unsweetened Vanilla Almond Milk</td>\n",
       "      <td>91.0</td>\n",
       "      <td>16.0</td>\n",
       "      <td>12.5</td>\n",
       "      <td>Mid-range product</td>\n",
       "      <td>regularly busy</td>\n",
       "      <td>regularly busy</td>\n",
       "      <td>Average orders</td>\n",
       "      <td>10</td>\n",
       "      <td>New customer</td>\n",
       "      <td>6.367797</td>\n",
       "      <td>Low spender</td>\n",
       "      <td>20.5</td>\n",
       "      <td>non-frequent customer</td>\n",
       "      <td>Linda</td>\n",
       "      <td>Nguyen</td>\n",
       "      <td>Female</td>\n",
       "      <td>Alabama</td>\n",
       "      <td>31</td>\n",
       "      <td>2/17/2019</td>\n",
       "      <td>3</td>\n",
       "      <td>married</td>\n",
       "      <td>40423</td>\n",
       "      <td>South</td>\n",
       "      <td>regular cust</td>\n",
       "    </tr>\n",
       "    <tr>\n",
       "      <th>2</th>\n",
       "      <td>2539329</td>\n",
       "      <td>1</td>\n",
       "      <td>1</td>\n",
       "      <td>2</td>\n",
       "      <td>8</td>\n",
       "      <td>NaN</td>\n",
       "      <td>12427</td>\n",
       "      <td>3</td>\n",
       "      <td>0</td>\n",
       "      <td>both</td>\n",
       "      <td>Original Beef Jerky</td>\n",
       "      <td>23.0</td>\n",
       "      <td>19.0</td>\n",
       "      <td>4.4</td>\n",
       "      <td>Low-range product</td>\n",
       "      <td>regularly busy</td>\n",
       "      <td>regularly busy</td>\n",
       "      <td>Average orders</td>\n",
       "      <td>10</td>\n",
       "      <td>New customer</td>\n",
       "      <td>6.367797</td>\n",
       "      <td>Low spender</td>\n",
       "      <td>20.5</td>\n",
       "      <td>non-frequent customer</td>\n",
       "      <td>Linda</td>\n",
       "      <td>Nguyen</td>\n",
       "      <td>Female</td>\n",
       "      <td>Alabama</td>\n",
       "      <td>31</td>\n",
       "      <td>2/17/2019</td>\n",
       "      <td>3</td>\n",
       "      <td>married</td>\n",
       "      <td>40423</td>\n",
       "      <td>South</td>\n",
       "      <td>regular cust</td>\n",
       "    </tr>\n",
       "    <tr>\n",
       "      <th>3</th>\n",
       "      <td>2539329</td>\n",
       "      <td>1</td>\n",
       "      <td>1</td>\n",
       "      <td>2</td>\n",
       "      <td>8</td>\n",
       "      <td>NaN</td>\n",
       "      <td>26088</td>\n",
       "      <td>4</td>\n",
       "      <td>0</td>\n",
       "      <td>both</td>\n",
       "      <td>Aged White Cheddar Popcorn</td>\n",
       "      <td>23.0</td>\n",
       "      <td>19.0</td>\n",
       "      <td>4.7</td>\n",
       "      <td>Low-range product</td>\n",
       "      <td>regularly busy</td>\n",
       "      <td>regularly busy</td>\n",
       "      <td>Average orders</td>\n",
       "      <td>10</td>\n",
       "      <td>New customer</td>\n",
       "      <td>6.367797</td>\n",
       "      <td>Low spender</td>\n",
       "      <td>20.5</td>\n",
       "      <td>non-frequent customer</td>\n",
       "      <td>Linda</td>\n",
       "      <td>Nguyen</td>\n",
       "      <td>Female</td>\n",
       "      <td>Alabama</td>\n",
       "      <td>31</td>\n",
       "      <td>2/17/2019</td>\n",
       "      <td>3</td>\n",
       "      <td>married</td>\n",
       "      <td>40423</td>\n",
       "      <td>South</td>\n",
       "      <td>regular cust</td>\n",
       "    </tr>\n",
       "    <tr>\n",
       "      <th>4</th>\n",
       "      <td>2539329</td>\n",
       "      <td>1</td>\n",
       "      <td>1</td>\n",
       "      <td>2</td>\n",
       "      <td>8</td>\n",
       "      <td>NaN</td>\n",
       "      <td>26405</td>\n",
       "      <td>5</td>\n",
       "      <td>0</td>\n",
       "      <td>both</td>\n",
       "      <td>XL Pick-A-Size Paper Towel Rolls</td>\n",
       "      <td>54.0</td>\n",
       "      <td>17.0</td>\n",
       "      <td>1.0</td>\n",
       "      <td>Low-range product</td>\n",
       "      <td>regularly busy</td>\n",
       "      <td>regularly busy</td>\n",
       "      <td>Average orders</td>\n",
       "      <td>10</td>\n",
       "      <td>New customer</td>\n",
       "      <td>6.367797</td>\n",
       "      <td>Low spender</td>\n",
       "      <td>20.5</td>\n",
       "      <td>non-frequent customer</td>\n",
       "      <td>Linda</td>\n",
       "      <td>Nguyen</td>\n",
       "      <td>Female</td>\n",
       "      <td>Alabama</td>\n",
       "      <td>31</td>\n",
       "      <td>2/17/2019</td>\n",
       "      <td>3</td>\n",
       "      <td>married</td>\n",
       "      <td>40423</td>\n",
       "      <td>South</td>\n",
       "      <td>regular cust</td>\n",
       "    </tr>\n",
       "  </tbody>\n",
       "</table>\n",
       "</div>"
      ],
      "text/plain": [
       "   order_id user_id  order_number  orders_day_of_week  order_hour_of_day  \\\n",
       "0   2539329       1             1                   2                  8   \n",
       "1   2539329       1             1                   2                  8   \n",
       "2   2539329       1             1                   2                  8   \n",
       "3   2539329       1             1                   2                  8   \n",
       "4   2539329       1             1                   2                  8   \n",
       "\n",
       "   days_since_prior_order  product_id  add_to_cart_order  reordered _merge  \\\n",
       "0                     NaN         196                  1          0   both   \n",
       "1                     NaN       14084                  2          0   both   \n",
       "2                     NaN       12427                  3          0   both   \n",
       "3                     NaN       26088                  4          0   both   \n",
       "4                     NaN       26405                  5          0   both   \n",
       "\n",
       "                              product_name  aisle_id  department_id  prices  \\\n",
       "0                                     Soda      77.0            7.0     9.0   \n",
       "1  Organic Unsweetened Vanilla Almond Milk      91.0           16.0    12.5   \n",
       "2                      Original Beef Jerky      23.0           19.0     4.4   \n",
       "3               Aged White Cheddar Popcorn      23.0           19.0     4.7   \n",
       "4         XL Pick-A-Size Paper Towel Rolls      54.0           17.0     1.0   \n",
       "\n",
       "     price_range_loc     busiest_day       busy_days busiest_period_of_day  \\\n",
       "0  Mid-range product  regularly busy  regularly busy        Average orders   \n",
       "1  Mid-range product  regularly busy  regularly busy        Average orders   \n",
       "2  Low-range product  regularly busy  regularly busy        Average orders   \n",
       "3  Low-range product  regularly busy  regularly busy        Average orders   \n",
       "4  Low-range product  regularly busy  regularly busy        Average orders   \n",
       "\n",
       "   max_order  loyalty_flag  spending spending_flag  frequency  \\\n",
       "0         10  New customer  6.367797   Low spender       20.5   \n",
       "1         10  New customer  6.367797   Low spender       20.5   \n",
       "2         10  New customer  6.367797   Low spender       20.5   \n",
       "3         10  New customer  6.367797   Low spender       20.5   \n",
       "4         10  New customer  6.367797   Low spender       20.5   \n",
       "\n",
       "               freq_flag first_name last_name  gender    state  age  \\\n",
       "0  non-frequent customer      Linda    Nguyen  Female  Alabama   31   \n",
       "1  non-frequent customer      Linda    Nguyen  Female  Alabama   31   \n",
       "2  non-frequent customer      Linda    Nguyen  Female  Alabama   31   \n",
       "3  non-frequent customer      Linda    Nguyen  Female  Alabama   31   \n",
       "4  non-frequent customer      Linda    Nguyen  Female  Alabama   31   \n",
       "\n",
       "  date_joined  num_dep marital_status  income region exclusion_flag  \n",
       "0   2/17/2019        3        married   40423  South   regular cust  \n",
       "1   2/17/2019        3        married   40423  South   regular cust  \n",
       "2   2/17/2019        3        married   40423  South   regular cust  \n",
       "3   2/17/2019        3        married   40423  South   regular cust  \n",
       "4   2/17/2019        3        married   40423  South   regular cust  "
      ]
     },
     "execution_count": 14,
     "metadata": {},
     "output_type": "execute_result"
    }
   ],
   "source": [
    "# Check df_10RC\n",
    "\n",
    "df_10RC.head()"
   ]
  },
  {
   "cell_type": "code",
   "execution_count": 14,
   "id": "1aa398b8",
   "metadata": {},
   "outputs": [
    {
     "data": {
      "text/plain": [
       "(30993489, 34)"
      ]
     },
     "execution_count": 14,
     "metadata": {},
     "output_type": "execute_result"
    }
   ],
   "source": [
    "df_10RC.shape"
   ]
  },
  {
   "cell_type": "code",
   "execution_count": 22,
   "id": "f455cc1c",
   "metadata": {},
   "outputs": [],
   "source": [
    "# Export new df's\n",
    "\n",
    "df_10LAC.to_pickle(os.path.join(path,'02 Data','Prepared Data','low_activity_customers.pkl'))\n",
    "df_10RC.to_pickle(os.path.join(path,'02 Data','Prepared Data','regular_activity_customers.pkl'))"
   ]
  },
  {
   "cell_type": "markdown",
   "id": "90c4b22d",
   "metadata": {},
   "source": [
    "\n",
    "\n"
   ]
  },
  {
   "cell_type": "markdown",
   "id": "87ecaf81",
   "metadata": {},
   "source": [
    "\n"
   ]
  },
  {
   "cell_type": "markdown",
   "id": "2c678f09",
   "metadata": {},
   "source": [
    "5. The marketing and business strategy units at Instacart want to create more-relevant marketing strategies for different products and are, thus, curious about customer profiling in their database. Create a profiling variable based on age, income, certain goods in the “department_id” column, and number of dependents."
   ]
  },
  {
   "cell_type": "markdown",
   "id": "2ba997b5",
   "metadata": {},
   "source": [
    "\n"
   ]
  },
  {
   "cell_type": "markdown",
   "id": "0b098011",
   "metadata": {},
   "source": [
    ":: Age"
   ]
  },
  {
   "cell_type": "code",
   "execution_count": 23,
   "id": "37f0dd87",
   "metadata": {},
   "outputs": [
    {
     "data": {
      "text/plain": [
       "18    478848\n",
       "19    496657\n",
       "20    480636\n",
       "21    489613\n",
       "22    491315\n",
       "       ...  \n",
       "77    478495\n",
       "78    471475\n",
       "79    508850\n",
       "80    493150\n",
       "81    486346\n",
       "Name: age, Length: 64, dtype: int64"
      ]
     },
     "execution_count": 23,
     "metadata": {},
     "output_type": "execute_result"
    }
   ],
   "source": [
    "# Age range of customers \n",
    "\n",
    "df_10RC['age'].value_counts().sort_index()"
   ]
  },
  {
   "cell_type": "code",
   "execution_count": 15,
   "id": "09b883e5",
   "metadata": {},
   "outputs": [],
   "source": [
    "# Create age groups \n",
    "\n",
    "age_group = []\n",
    "\n",
    "for value in df_10RC['age']:\n",
    "    if value <= 20:\n",
    "        age_group.append('18-20')\n",
    "    elif (value > 20) and (value <= 30):\n",
    "        age_group.append('21-30')\n",
    "    elif (value > 30) and (value <= 40):\n",
    "        age_group.append('31-40')\n",
    "    elif (value > 40) and (value <= 50):\n",
    "        age_group.append('41-50')\n",
    "    elif (value > 50) and (value <= 60):\n",
    "        age_group.append('51-60')\n",
    "    elif (value > 60) and (value <= 70):\n",
    "        age_group.append('61-70')\n",
    "    elif (value > 70) and (value <= 80):\n",
    "        age_group.append('71-80')\n",
    "    elif (value > 80) and (value <= 90):\n",
    "        age_group.append('80+')    \n",
    "    else:\n",
    "        result.append('No age available')"
   ]
  },
  {
   "cell_type": "code",
   "execution_count": 16,
   "id": "fa8430d4",
   "metadata": {
    "collapsed": true
   },
   "outputs": [
    {
     "name": "stderr",
     "output_type": "stream",
     "text": [
      "<ipython-input-16-5ad396892c3e>:3: SettingWithCopyWarning: \n",
      "A value is trying to be set on a copy of a slice from a DataFrame.\n",
      "Try using .loc[row_indexer,col_indexer] = value instead\n",
      "\n",
      "See the caveats in the documentation: https://pandas.pydata.org/pandas-docs/stable/user_guide/indexing.html#returning-a-view-versus-a-copy\n",
      "  df_10RC['age_group'] = age_group\n"
     ]
    }
   ],
   "source": [
    "# Create column for age groups\n",
    "\n",
    "df_10RC['age_group'] = age_group"
   ]
  },
  {
   "cell_type": "code",
   "execution_count": 31,
   "id": "c4a68190",
   "metadata": {},
   "outputs": [
    {
     "data": {
      "text/plain": [
       "18-20    1456141\n",
       "21-30    4854153\n",
       "31-40    4848504\n",
       "41-50    4873046\n",
       "51-60    4839811\n",
       "61-70    4784532\n",
       "71-80    4850956\n",
       "80+       486346\n",
       "Name: age_group, dtype: int64"
      ]
     },
     "execution_count": 31,
     "metadata": {},
     "output_type": "execute_result"
    }
   ],
   "source": [
    "# Check age group\n",
    "\n",
    "df_10RC['age_group'].value_counts().sort_index()"
   ]
  },
  {
   "cell_type": "code",
   "execution_count": 17,
   "id": "9ffe87c2",
   "metadata": {},
   "outputs": [],
   "source": [
    "df_10RC['age_group'].value_counts().sort_index().to_clipboard()"
   ]
  },
  {
   "cell_type": "markdown",
   "id": "cde8eb3a",
   "metadata": {},
   "source": [
    "\n"
   ]
  },
  {
   "cell_type": "markdown",
   "id": "60d00e68",
   "metadata": {},
   "source": [
    ":: Marital status"
   ]
  },
  {
   "cell_type": "code",
   "execution_count": 27,
   "id": "00f92061",
   "metadata": {},
   "outputs": [
    {
     "data": {
      "text/plain": [
       "married                             21763585\n",
       "single                               5099384\n",
       "divorced/widowed                     2647799\n",
       "living with parents and siblings     1482721\n",
       "Name: marital_status, dtype: int64"
      ]
     },
     "execution_count": 27,
     "metadata": {},
     "output_type": "execute_result"
    }
   ],
   "source": [
    "# Marital status\n",
    "\n",
    "df_10RC['marital_status'].value_counts()"
   ]
  },
  {
   "cell_type": "code",
   "execution_count": 18,
   "id": "393cb9af",
   "metadata": {},
   "outputs": [],
   "source": [
    "df_10RC['marital_status'].value_counts().to_clipboard()"
   ]
  },
  {
   "cell_type": "markdown",
   "id": "8971e0bd",
   "metadata": {},
   "source": [
    "\n"
   ]
  },
  {
   "cell_type": "markdown",
   "id": "efe5bf08",
   "metadata": {},
   "source": [
    ":: Parental Status"
   ]
  },
  {
   "cell_type": "code",
   "execution_count": 19,
   "id": "d2a2cff5",
   "metadata": {},
   "outputs": [
    {
     "data": {
      "text/plain": [
       "0    7747183\n",
       "1    7726129\n",
       "2    7740539\n",
       "3    7779638\n",
       "Name: num_dep, dtype: int64"
      ]
     },
     "execution_count": 19,
     "metadata": {},
     "output_type": "execute_result"
    }
   ],
   "source": [
    "# Dependants\n",
    "\n",
    "df_10RC['num_dep'].value_counts().sort_index()"
   ]
  },
  {
   "cell_type": "code",
   "execution_count": 20,
   "id": "e1bf1c2b",
   "metadata": {
    "collapsed": true
   },
   "outputs": [
    {
     "name": "stderr",
     "output_type": "stream",
     "text": [
      "/Users/chrisherin/opt/anaconda3/lib/python3.8/site-packages/pandas/core/indexing.py:1599: SettingWithCopyWarning: \n",
      "A value is trying to be set on a copy of a slice from a DataFrame.\n",
      "Try using .loc[row_indexer,col_indexer] = value instead\n",
      "\n",
      "See the caveats in the documentation: https://pandas.pydata.org/pandas-docs/stable/user_guide/indexing.html#returning-a-view-versus-a-copy\n",
      "  self.obj[key] = infer_fill_value(value)\n",
      "/Users/chrisherin/opt/anaconda3/lib/python3.8/site-packages/pandas/core/indexing.py:1720: SettingWithCopyWarning: \n",
      "A value is trying to be set on a copy of a slice from a DataFrame.\n",
      "Try using .loc[row_indexer,col_indexer] = value instead\n",
      "\n",
      "See the caveats in the documentation: https://pandas.pydata.org/pandas-docs/stable/user_guide/indexing.html#returning-a-view-versus-a-copy\n",
      "  self._setitem_single_column(loc, value, pi)\n"
     ]
    }
   ],
   "source": [
    "# Create 'parent' / 'non-parent' conditions\n",
    "# Create 'parent' id\n",
    "\n",
    "df_10RC.loc[df_10RC['num_dep'] >= 1, 'parental_status'] = 'parent'"
   ]
  },
  {
   "cell_type": "code",
   "execution_count": 21,
   "id": "fc2d6192",
   "metadata": {
    "collapsed": true
   },
   "outputs": [
    {
     "name": "stderr",
     "output_type": "stream",
     "text": [
      "/Users/chrisherin/opt/anaconda3/lib/python3.8/site-packages/pandas/core/indexing.py:1720: SettingWithCopyWarning: \n",
      "A value is trying to be set on a copy of a slice from a DataFrame.\n",
      "Try using .loc[row_indexer,col_indexer] = value instead\n",
      "\n",
      "See the caveats in the documentation: https://pandas.pydata.org/pandas-docs/stable/user_guide/indexing.html#returning-a-view-versus-a-copy\n",
      "  self._setitem_single_column(loc, value, pi)\n"
     ]
    }
   ],
   "source": [
    "# Create 'non-parent' id\n",
    "\n",
    "df_10RC.loc[df_10RC['num_dep'] == 0, 'parental_status'] = 'non-parent'"
   ]
  },
  {
   "cell_type": "code",
   "execution_count": 22,
   "id": "b5e054b0",
   "metadata": {},
   "outputs": [
    {
     "data": {
      "text/plain": [
       "parent        23246306\n",
       "non-parent     7747183\n",
       "Name: parental_status, dtype: int64"
      ]
     },
     "execution_count": 22,
     "metadata": {},
     "output_type": "execute_result"
    }
   ],
   "source": [
    "# Check 'parental_status' values\n",
    "\n",
    "df_10RC['parental_status'].value_counts()"
   ]
  },
  {
   "cell_type": "code",
   "execution_count": 23,
   "id": "79bfb139",
   "metadata": {},
   "outputs": [],
   "source": [
    "df_10RC['parental_status'].value_counts().to_clipboard()"
   ]
  },
  {
   "cell_type": "markdown",
   "id": "2d8bd457",
   "metadata": {},
   "source": [
    "\n"
   ]
  },
  {
   "cell_type": "markdown",
   "id": "4c75ac70",
   "metadata": {},
   "source": [
    ":: Income"
   ]
  },
  {
   "cell_type": "code",
   "execution_count": 32,
   "id": "6b205739",
   "metadata": {
    "scrolled": true
   },
   "outputs": [
    {
     "data": {
      "text/plain": [
       "count    3.099349e+07\n",
       "mean     9.967349e+04\n",
       "std      4.313999e+04\n",
       "min      2.590300e+04\n",
       "25%      6.728900e+04\n",
       "50%      9.676500e+04\n",
       "75%      1.281010e+05\n",
       "max      5.939010e+05\n",
       "Name: income, dtype: float64"
      ]
     },
     "execution_count": 32,
     "metadata": {},
     "output_type": "execute_result"
    }
   ],
   "source": [
    "# Check income range\n",
    "\n",
    "df_10RC['income'].describe()"
   ]
  },
  {
   "cell_type": "markdown",
   "id": "2270bb2b",
   "metadata": {},
   "source": [
    "- income min is 25,903.00\n",
    "- income max is 593,901.00"
   ]
  },
  {
   "cell_type": "code",
   "execution_count": 24,
   "id": "72c51d12",
   "metadata": {},
   "outputs": [],
   "source": [
    "# Create income brackets\n",
    "\n",
    "income_b = []\n",
    "\n",
    "for value in df_10RC['income']:\n",
    "    if value <= 50000: \n",
    "        income_b.append('025000-050000')\n",
    "    elif (value > 50000) and (value <= 75000):\n",
    "        income_b.append('050000-075000')\n",
    "    elif (value > 75000) and (value <= 100000):\n",
    "        income_b.append('075000-100000')\n",
    "    elif (value > 100000) and (value <= 125000):\n",
    "        income_b.append('100000-125000')\n",
    "    elif (value > 125000) and (value <= 150000):\n",
    "        income_b.append('125000-150000')\n",
    "    elif (value > 150000):\n",
    "        income_b.append('150000+')\n",
    "    else: \n",
    "        incomeb.append('no income data')"
   ]
  },
  {
   "cell_type": "code",
   "execution_count": 25,
   "id": "4e1d2afd",
   "metadata": {
    "collapsed": true
   },
   "outputs": [
    {
     "name": "stderr",
     "output_type": "stream",
     "text": [
      "<ipython-input-25-0dfe74298063>:3: SettingWithCopyWarning: \n",
      "A value is trying to be set on a copy of a slice from a DataFrame.\n",
      "Try using .loc[row_indexer,col_indexer] = value instead\n",
      "\n",
      "See the caveats in the documentation: https://pandas.pydata.org/pandas-docs/stable/user_guide/indexing.html#returning-a-view-versus-a-copy\n",
      "  df_10RC['income_b'] = income_b\n"
     ]
    }
   ],
   "source": [
    "# Add 'income_b' to df\n",
    "\n",
    "df_10RC['income_b'] = income_b"
   ]
  },
  {
   "cell_type": "code",
   "execution_count": 26,
   "id": "4fb60678",
   "metadata": {
    "scrolled": true
   },
   "outputs": [
    {
     "data": {
      "text/plain": [
       "025000-050000    3366219\n",
       "050000-075000    6550442\n",
       "075000-100000    6857382\n",
       "100000-125000    5933964\n",
       "125000-150000    4387410\n",
       "150000+          3898072\n",
       "Name: income_b, dtype: int64"
      ]
     },
     "execution_count": 26,
     "metadata": {},
     "output_type": "execute_result"
    }
   ],
   "source": [
    "# Check 'income_b' values\n",
    "\n",
    "df_10RC['income_b'].value_counts().sort_index()"
   ]
  },
  {
   "cell_type": "code",
   "execution_count": 27,
   "id": "eacd80b4",
   "metadata": {},
   "outputs": [],
   "source": [
    "df_10RC['income_b'].value_counts().sort_index().to_clipboard()"
   ]
  },
  {
   "cell_type": "markdown",
   "id": "3f664afe",
   "metadata": {},
   "source": [
    "\n"
   ]
  },
  {
   "cell_type": "markdown",
   "id": "0a9fcc21",
   "metadata": {},
   "source": [
    ":: Departments"
   ]
  },
  {
   "cell_type": "code",
   "execution_count": 28,
   "id": "6ef32c10",
   "metadata": {},
   "outputs": [],
   "source": [
    "# Import department data \n",
    "\n",
    "df_dep = pd.read_csv(os.path.join(path, '02 Data', 'Original Data', 'departments.csv'), index_col = False)"
   ]
  },
  {
   "cell_type": "code",
   "execution_count": 29,
   "id": "c2bcf34a",
   "metadata": {},
   "outputs": [
    {
     "data": {
      "text/html": [
       "<div>\n",
       "<style scoped>\n",
       "    .dataframe tbody tr th:only-of-type {\n",
       "        vertical-align: middle;\n",
       "    }\n",
       "\n",
       "    .dataframe tbody tr th {\n",
       "        vertical-align: top;\n",
       "    }\n",
       "\n",
       "    .dataframe thead th {\n",
       "        text-align: right;\n",
       "    }\n",
       "</style>\n",
       "<table border=\"1\" class=\"dataframe\">\n",
       "  <thead>\n",
       "    <tr style=\"text-align: right;\">\n",
       "      <th></th>\n",
       "      <th>department_id</th>\n",
       "      <th>1</th>\n",
       "      <th>2</th>\n",
       "      <th>3</th>\n",
       "      <th>4</th>\n",
       "      <th>5</th>\n",
       "      <th>6</th>\n",
       "      <th>7</th>\n",
       "      <th>8</th>\n",
       "      <th>9</th>\n",
       "      <th>10</th>\n",
       "      <th>11</th>\n",
       "      <th>12</th>\n",
       "      <th>13</th>\n",
       "      <th>14</th>\n",
       "      <th>15</th>\n",
       "      <th>16</th>\n",
       "      <th>17</th>\n",
       "      <th>18</th>\n",
       "      <th>19</th>\n",
       "      <th>20</th>\n",
       "      <th>21</th>\n",
       "    </tr>\n",
       "  </thead>\n",
       "  <tbody>\n",
       "    <tr>\n",
       "      <th>0</th>\n",
       "      <td>department</td>\n",
       "      <td>frozen</td>\n",
       "      <td>other</td>\n",
       "      <td>bakery</td>\n",
       "      <td>produce</td>\n",
       "      <td>alcohol</td>\n",
       "      <td>international</td>\n",
       "      <td>beverages</td>\n",
       "      <td>pets</td>\n",
       "      <td>dry goods pasta</td>\n",
       "      <td>bulk</td>\n",
       "      <td>personal care</td>\n",
       "      <td>meat seafood</td>\n",
       "      <td>pantry</td>\n",
       "      <td>breakfast</td>\n",
       "      <td>canned goods</td>\n",
       "      <td>dairy eggs</td>\n",
       "      <td>household</td>\n",
       "      <td>babies</td>\n",
       "      <td>snacks</td>\n",
       "      <td>deli</td>\n",
       "      <td>missing</td>\n",
       "    </tr>\n",
       "  </tbody>\n",
       "</table>\n",
       "</div>"
      ],
      "text/plain": [
       "  department_id       1      2       3        4        5              6  \\\n",
       "0    department  frozen  other  bakery  produce  alcohol  international   \n",
       "\n",
       "           7     8                9    10             11            12  \\\n",
       "0  beverages  pets  dry goods pasta  bulk  personal care  meat seafood   \n",
       "\n",
       "       13         14            15          16         17      18      19  \\\n",
       "0  pantry  breakfast  canned goods  dairy eggs  household  babies  snacks   \n",
       "\n",
       "     20       21  \n",
       "0  deli  missing  "
      ]
     },
     "execution_count": 29,
     "metadata": {},
     "output_type": "execute_result"
    }
   ],
   "source": [
    "# Check import\n",
    "\n",
    "df_dep.head()"
   ]
  },
  {
   "cell_type": "code",
   "execution_count": 30,
   "id": "371c62f4",
   "metadata": {},
   "outputs": [
    {
     "data": {
      "text/html": [
       "<div>\n",
       "<style scoped>\n",
       "    .dataframe tbody tr th:only-of-type {\n",
       "        vertical-align: middle;\n",
       "    }\n",
       "\n",
       "    .dataframe tbody tr th {\n",
       "        vertical-align: top;\n",
       "    }\n",
       "\n",
       "    .dataframe thead th {\n",
       "        text-align: right;\n",
       "    }\n",
       "</style>\n",
       "<table border=\"1\" class=\"dataframe\">\n",
       "  <thead>\n",
       "    <tr style=\"text-align: right;\">\n",
       "      <th></th>\n",
       "      <th>0</th>\n",
       "    </tr>\n",
       "  </thead>\n",
       "  <tbody>\n",
       "    <tr>\n",
       "      <th>department_id</th>\n",
       "      <td>department</td>\n",
       "    </tr>\n",
       "    <tr>\n",
       "      <th>1</th>\n",
       "      <td>frozen</td>\n",
       "    </tr>\n",
       "    <tr>\n",
       "      <th>2</th>\n",
       "      <td>other</td>\n",
       "    </tr>\n",
       "    <tr>\n",
       "      <th>3</th>\n",
       "      <td>bakery</td>\n",
       "    </tr>\n",
       "    <tr>\n",
       "      <th>4</th>\n",
       "      <td>produce</td>\n",
       "    </tr>\n",
       "    <tr>\n",
       "      <th>5</th>\n",
       "      <td>alcohol</td>\n",
       "    </tr>\n",
       "    <tr>\n",
       "      <th>6</th>\n",
       "      <td>international</td>\n",
       "    </tr>\n",
       "    <tr>\n",
       "      <th>7</th>\n",
       "      <td>beverages</td>\n",
       "    </tr>\n",
       "    <tr>\n",
       "      <th>8</th>\n",
       "      <td>pets</td>\n",
       "    </tr>\n",
       "    <tr>\n",
       "      <th>9</th>\n",
       "      <td>dry goods pasta</td>\n",
       "    </tr>\n",
       "    <tr>\n",
       "      <th>10</th>\n",
       "      <td>bulk</td>\n",
       "    </tr>\n",
       "    <tr>\n",
       "      <th>11</th>\n",
       "      <td>personal care</td>\n",
       "    </tr>\n",
       "    <tr>\n",
       "      <th>12</th>\n",
       "      <td>meat seafood</td>\n",
       "    </tr>\n",
       "    <tr>\n",
       "      <th>13</th>\n",
       "      <td>pantry</td>\n",
       "    </tr>\n",
       "    <tr>\n",
       "      <th>14</th>\n",
       "      <td>breakfast</td>\n",
       "    </tr>\n",
       "    <tr>\n",
       "      <th>15</th>\n",
       "      <td>canned goods</td>\n",
       "    </tr>\n",
       "    <tr>\n",
       "      <th>16</th>\n",
       "      <td>dairy eggs</td>\n",
       "    </tr>\n",
       "    <tr>\n",
       "      <th>17</th>\n",
       "      <td>household</td>\n",
       "    </tr>\n",
       "    <tr>\n",
       "      <th>18</th>\n",
       "      <td>babies</td>\n",
       "    </tr>\n",
       "    <tr>\n",
       "      <th>19</th>\n",
       "      <td>snacks</td>\n",
       "    </tr>\n",
       "    <tr>\n",
       "      <th>20</th>\n",
       "      <td>deli</td>\n",
       "    </tr>\n",
       "    <tr>\n",
       "      <th>21</th>\n",
       "      <td>missing</td>\n",
       "    </tr>\n",
       "  </tbody>\n",
       "</table>\n",
       "</div>"
      ],
      "text/plain": [
       "                             0\n",
       "department_id       department\n",
       "1                       frozen\n",
       "2                        other\n",
       "3                       bakery\n",
       "4                      produce\n",
       "5                      alcohol\n",
       "6                international\n",
       "7                    beverages\n",
       "8                         pets\n",
       "9              dry goods pasta\n",
       "10                        bulk\n",
       "11               personal care\n",
       "12                meat seafood\n",
       "13                      pantry\n",
       "14                   breakfast\n",
       "15                canned goods\n",
       "16                  dairy eggs\n",
       "17                   household\n",
       "18                      babies\n",
       "19                      snacks\n",
       "20                        deli\n",
       "21                     missing"
      ]
     },
     "execution_count": 30,
     "metadata": {},
     "output_type": "execute_result"
    }
   ],
   "source": [
    "# Transpose\n",
    "\n",
    "df_dep.T"
   ]
  },
  {
   "cell_type": "code",
   "execution_count": 31,
   "id": "58330b37",
   "metadata": {
    "collapsed": true
   },
   "outputs": [
    {
     "name": "stderr",
     "output_type": "stream",
     "text": [
      "/Users/chrisherin/opt/anaconda3/lib/python3.8/site-packages/pandas/core/indexing.py:1599: SettingWithCopyWarning: \n",
      "A value is trying to be set on a copy of a slice from a DataFrame.\n",
      "Try using .loc[row_indexer,col_indexer] = value instead\n",
      "\n",
      "See the caveats in the documentation: https://pandas.pydata.org/pandas-docs/stable/user_guide/indexing.html#returning-a-view-versus-a-copy\n",
      "  self.obj[key] = infer_fill_value(value)\n",
      "/Users/chrisherin/opt/anaconda3/lib/python3.8/site-packages/pandas/core/indexing.py:1720: SettingWithCopyWarning: \n",
      "A value is trying to be set on a copy of a slice from a DataFrame.\n",
      "Try using .loc[row_indexer,col_indexer] = value instead\n",
      "\n",
      "See the caveats in the documentation: https://pandas.pydata.org/pandas-docs/stable/user_guide/indexing.html#returning-a-view-versus-a-copy\n",
      "  self._setitem_single_column(loc, value, pi)\n",
      "/Users/chrisherin/opt/anaconda3/lib/python3.8/site-packages/pandas/core/indexing.py:1720: SettingWithCopyWarning: \n",
      "A value is trying to be set on a copy of a slice from a DataFrame.\n",
      "Try using .loc[row_indexer,col_indexer] = value instead\n",
      "\n",
      "See the caveats in the documentation: https://pandas.pydata.org/pandas-docs/stable/user_guide/indexing.html#returning-a-view-versus-a-copy\n",
      "  self._setitem_single_column(loc, value, pi)\n",
      "/Users/chrisherin/opt/anaconda3/lib/python3.8/site-packages/pandas/core/indexing.py:1720: SettingWithCopyWarning: \n",
      "A value is trying to be set on a copy of a slice from a DataFrame.\n",
      "Try using .loc[row_indexer,col_indexer] = value instead\n",
      "\n",
      "See the caveats in the documentation: https://pandas.pydata.org/pandas-docs/stable/user_guide/indexing.html#returning-a-view-versus-a-copy\n",
      "  self._setitem_single_column(loc, value, pi)\n",
      "/Users/chrisherin/opt/anaconda3/lib/python3.8/site-packages/pandas/core/indexing.py:1720: SettingWithCopyWarning: \n",
      "A value is trying to be set on a copy of a slice from a DataFrame.\n",
      "Try using .loc[row_indexer,col_indexer] = value instead\n",
      "\n",
      "See the caveats in the documentation: https://pandas.pydata.org/pandas-docs/stable/user_guide/indexing.html#returning-a-view-versus-a-copy\n",
      "  self._setitem_single_column(loc, value, pi)\n",
      "/Users/chrisherin/opt/anaconda3/lib/python3.8/site-packages/pandas/core/indexing.py:1720: SettingWithCopyWarning: \n",
      "A value is trying to be set on a copy of a slice from a DataFrame.\n",
      "Try using .loc[row_indexer,col_indexer] = value instead\n",
      "\n",
      "See the caveats in the documentation: https://pandas.pydata.org/pandas-docs/stable/user_guide/indexing.html#returning-a-view-versus-a-copy\n",
      "  self._setitem_single_column(loc, value, pi)\n",
      "/Users/chrisherin/opt/anaconda3/lib/python3.8/site-packages/pandas/core/indexing.py:1720: SettingWithCopyWarning: \n",
      "A value is trying to be set on a copy of a slice from a DataFrame.\n",
      "Try using .loc[row_indexer,col_indexer] = value instead\n",
      "\n",
      "See the caveats in the documentation: https://pandas.pydata.org/pandas-docs/stable/user_guide/indexing.html#returning-a-view-versus-a-copy\n",
      "  self._setitem_single_column(loc, value, pi)\n",
      "/Users/chrisherin/opt/anaconda3/lib/python3.8/site-packages/pandas/core/indexing.py:1720: SettingWithCopyWarning: \n",
      "A value is trying to be set on a copy of a slice from a DataFrame.\n",
      "Try using .loc[row_indexer,col_indexer] = value instead\n",
      "\n",
      "See the caveats in the documentation: https://pandas.pydata.org/pandas-docs/stable/user_guide/indexing.html#returning-a-view-versus-a-copy\n",
      "  self._setitem_single_column(loc, value, pi)\n",
      "/Users/chrisherin/opt/anaconda3/lib/python3.8/site-packages/pandas/core/indexing.py:1720: SettingWithCopyWarning: \n",
      "A value is trying to be set on a copy of a slice from a DataFrame.\n",
      "Try using .loc[row_indexer,col_indexer] = value instead\n",
      "\n",
      "See the caveats in the documentation: https://pandas.pydata.org/pandas-docs/stable/user_guide/indexing.html#returning-a-view-versus-a-copy\n",
      "  self._setitem_single_column(loc, value, pi)\n",
      "/Users/chrisherin/opt/anaconda3/lib/python3.8/site-packages/pandas/core/indexing.py:1720: SettingWithCopyWarning: \n",
      "A value is trying to be set on a copy of a slice from a DataFrame.\n",
      "Try using .loc[row_indexer,col_indexer] = value instead\n",
      "\n",
      "See the caveats in the documentation: https://pandas.pydata.org/pandas-docs/stable/user_guide/indexing.html#returning-a-view-versus-a-copy\n",
      "  self._setitem_single_column(loc, value, pi)\n",
      "/Users/chrisherin/opt/anaconda3/lib/python3.8/site-packages/pandas/core/indexing.py:1720: SettingWithCopyWarning: \n",
      "A value is trying to be set on a copy of a slice from a DataFrame.\n",
      "Try using .loc[row_indexer,col_indexer] = value instead\n",
      "\n",
      "See the caveats in the documentation: https://pandas.pydata.org/pandas-docs/stable/user_guide/indexing.html#returning-a-view-versus-a-copy\n",
      "  self._setitem_single_column(loc, value, pi)\n",
      "/Users/chrisherin/opt/anaconda3/lib/python3.8/site-packages/pandas/core/indexing.py:1720: SettingWithCopyWarning: \n",
      "A value is trying to be set on a copy of a slice from a DataFrame.\n",
      "Try using .loc[row_indexer,col_indexer] = value instead\n",
      "\n",
      "See the caveats in the documentation: https://pandas.pydata.org/pandas-docs/stable/user_guide/indexing.html#returning-a-view-versus-a-copy\n",
      "  self._setitem_single_column(loc, value, pi)\n",
      "/Users/chrisherin/opt/anaconda3/lib/python3.8/site-packages/pandas/core/indexing.py:1720: SettingWithCopyWarning: \n",
      "A value is trying to be set on a copy of a slice from a DataFrame.\n",
      "Try using .loc[row_indexer,col_indexer] = value instead\n",
      "\n",
      "See the caveats in the documentation: https://pandas.pydata.org/pandas-docs/stable/user_guide/indexing.html#returning-a-view-versus-a-copy\n",
      "  self._setitem_single_column(loc, value, pi)\n",
      "/Users/chrisherin/opt/anaconda3/lib/python3.8/site-packages/pandas/core/indexing.py:1720: SettingWithCopyWarning: \n",
      "A value is trying to be set on a copy of a slice from a DataFrame.\n",
      "Try using .loc[row_indexer,col_indexer] = value instead\n",
      "\n",
      "See the caveats in the documentation: https://pandas.pydata.org/pandas-docs/stable/user_guide/indexing.html#returning-a-view-versus-a-copy\n",
      "  self._setitem_single_column(loc, value, pi)\n",
      "/Users/chrisherin/opt/anaconda3/lib/python3.8/site-packages/pandas/core/indexing.py:1720: SettingWithCopyWarning: \n",
      "A value is trying to be set on a copy of a slice from a DataFrame.\n",
      "Try using .loc[row_indexer,col_indexer] = value instead\n",
      "\n",
      "See the caveats in the documentation: https://pandas.pydata.org/pandas-docs/stable/user_guide/indexing.html#returning-a-view-versus-a-copy\n",
      "  self._setitem_single_column(loc, value, pi)\n",
      "/Users/chrisherin/opt/anaconda3/lib/python3.8/site-packages/pandas/core/indexing.py:1720: SettingWithCopyWarning: \n",
      "A value is trying to be set on a copy of a slice from a DataFrame.\n",
      "Try using .loc[row_indexer,col_indexer] = value instead\n",
      "\n",
      "See the caveats in the documentation: https://pandas.pydata.org/pandas-docs/stable/user_guide/indexing.html#returning-a-view-versus-a-copy\n",
      "  self._setitem_single_column(loc, value, pi)\n",
      "/Users/chrisherin/opt/anaconda3/lib/python3.8/site-packages/pandas/core/indexing.py:1720: SettingWithCopyWarning: \n",
      "A value is trying to be set on a copy of a slice from a DataFrame.\n",
      "Try using .loc[row_indexer,col_indexer] = value instead\n",
      "\n",
      "See the caveats in the documentation: https://pandas.pydata.org/pandas-docs/stable/user_guide/indexing.html#returning-a-view-versus-a-copy\n",
      "  self._setitem_single_column(loc, value, pi)\n",
      "/Users/chrisherin/opt/anaconda3/lib/python3.8/site-packages/pandas/core/indexing.py:1720: SettingWithCopyWarning: \n",
      "A value is trying to be set on a copy of a slice from a DataFrame.\n",
      "Try using .loc[row_indexer,col_indexer] = value instead\n",
      "\n",
      "See the caveats in the documentation: https://pandas.pydata.org/pandas-docs/stable/user_guide/indexing.html#returning-a-view-versus-a-copy\n",
      "  self._setitem_single_column(loc, value, pi)\n",
      "/Users/chrisherin/opt/anaconda3/lib/python3.8/site-packages/pandas/core/indexing.py:1720: SettingWithCopyWarning: \n",
      "A value is trying to be set on a copy of a slice from a DataFrame.\n",
      "Try using .loc[row_indexer,col_indexer] = value instead\n",
      "\n",
      "See the caveats in the documentation: https://pandas.pydata.org/pandas-docs/stable/user_guide/indexing.html#returning-a-view-versus-a-copy\n",
      "  self._setitem_single_column(loc, value, pi)\n",
      "/Users/chrisherin/opt/anaconda3/lib/python3.8/site-packages/pandas/core/indexing.py:1720: SettingWithCopyWarning: \n",
      "A value is trying to be set on a copy of a slice from a DataFrame.\n",
      "Try using .loc[row_indexer,col_indexer] = value instead\n",
      "\n",
      "See the caveats in the documentation: https://pandas.pydata.org/pandas-docs/stable/user_guide/indexing.html#returning-a-view-versus-a-copy\n",
      "  self._setitem_single_column(loc, value, pi)\n"
     ]
    },
    {
     "name": "stderr",
     "output_type": "stream",
     "text": [
      "/Users/chrisherin/opt/anaconda3/lib/python3.8/site-packages/pandas/core/indexing.py:1720: SettingWithCopyWarning: \n",
      "A value is trying to be set on a copy of a slice from a DataFrame.\n",
      "Try using .loc[row_indexer,col_indexer] = value instead\n",
      "\n",
      "See the caveats in the documentation: https://pandas.pydata.org/pandas-docs/stable/user_guide/indexing.html#returning-a-view-versus-a-copy\n",
      "  self._setitem_single_column(loc, value, pi)\n",
      "/Users/chrisherin/opt/anaconda3/lib/python3.8/site-packages/pandas/core/indexing.py:1720: SettingWithCopyWarning: \n",
      "A value is trying to be set on a copy of a slice from a DataFrame.\n",
      "Try using .loc[row_indexer,col_indexer] = value instead\n",
      "\n",
      "See the caveats in the documentation: https://pandas.pydata.org/pandas-docs/stable/user_guide/indexing.html#returning-a-view-versus-a-copy\n",
      "  self._setitem_single_column(loc, value, pi)\n"
     ]
    }
   ],
   "source": [
    "# Create column for 'dept_name'\n",
    "\n",
    "\n",
    "df_10RC.loc[df_10RC['department_id'] == 1, 'dept_name'] = 'frozen'\n",
    "df_10RC.loc[df_10RC['department_id'] == 2, 'dept_name'] = 'other'\n",
    "df_10RC.loc[df_10RC['department_id'] == 3, 'dept_name'] = 'bakery'\n",
    "df_10RC.loc[df_10RC['department_id'] == 4, 'dept_name'] = 'produce'\n",
    "df_10RC.loc[df_10RC['department_id'] == 5, 'dept_name'] = 'alcohol'\n",
    "df_10RC.loc[df_10RC['department_id'] == 6, 'dept_name'] = 'international'\n",
    "df_10RC.loc[df_10RC['department_id'] == 7, 'dept_name'] = 'beverages'\n",
    "df_10RC.loc[df_10RC['department_id'] == 8, 'dept_name'] = 'pets'\n",
    "df_10RC.loc[df_10RC['department_id'] == 9, 'dept_name'] = 'dry goods pasta'\n",
    "df_10RC.loc[df_10RC['department_id'] == 10, 'dept_name'] = 'bulk'\n",
    "df_10RC.loc[df_10RC['department_id'] == 11, 'dept_name'] = 'personal care'\n",
    "df_10RC.loc[df_10RC['department_id'] == 12, 'dept_name'] = 'meat seafood'\n",
    "df_10RC.loc[df_10RC['department_id'] == 13, 'dept_name'] = 'pantry'\n",
    "df_10RC.loc[df_10RC['department_id'] == 14, 'dept_name'] = 'breakfast'\n",
    "df_10RC.loc[df_10RC['department_id'] == 15, 'dept_name'] = 'canned goods'\n",
    "df_10RC.loc[df_10RC['department_id'] == 16, 'dept_name'] = 'dairy eggs'\n",
    "df_10RC.loc[df_10RC['department_id'] == 17, 'dept_name'] = 'households'\n",
    "df_10RC.loc[df_10RC['department_id'] == 18, 'dept_name'] = 'babies'\n",
    "df_10RC.loc[df_10RC['department_id'] == 19, 'dept_name'] = 'snacks'\n",
    "df_10RC.loc[df_10RC['department_id'] == 20, 'dept_name'] = 'deli'\n",
    "df_10RC.loc[df_10RC['department_id'] == 21, 'dept_name'] = 'missing'"
   ]
  },
  {
   "cell_type": "code",
   "execution_count": 32,
   "id": "3b971185",
   "metadata": {
    "scrolled": false
   },
   "outputs": [
    {
     "data": {
      "text/plain": [
       "produce            9079276\n",
       "dairy eggs         5177183\n",
       "snacks             2766406\n",
       "beverages          2571901\n",
       "frozen             2121732\n",
       "pantry             1782705\n",
       "bakery             1120828\n",
       "canned goods       1012074\n",
       "deli               1003834\n",
       "dry goods pasta     822136\n",
       "households          699858\n",
       "meat seafood        674781\n",
       "breakfast           670850\n",
       "personal care       424306\n",
       "babies              410392\n",
       "international       255991\n",
       "alcohol             144627\n",
       "pets                 93060\n",
       "missing              64768\n",
       "other                34411\n",
       "bulk                 33451\n",
       "Name: dept_name, dtype: int64"
      ]
     },
     "execution_count": 32,
     "metadata": {},
     "output_type": "execute_result"
    }
   ],
   "source": [
    "# Check 'dept_name' values\n",
    "\n",
    "df_10RC['dept_name'].value_counts()"
   ]
  },
  {
   "cell_type": "code",
   "execution_count": 33,
   "id": "88a22457",
   "metadata": {},
   "outputs": [],
   "source": [
    "df_10RC['dept_name'].value_counts().to_clipboard()"
   ]
  },
  {
   "cell_type": "markdown",
   "id": "b8424383",
   "metadata": {},
   "source": [
    "\n"
   ]
  },
  {
   "cell_type": "markdown",
   "id": "4893762d",
   "metadata": {},
   "source": [
    ":: Busy time of day"
   ]
  },
  {
   "cell_type": "code",
   "execution_count": 40,
   "id": "12c0b05a",
   "metadata": {
    "scrolled": true
   },
   "outputs": [
    {
     "data": {
      "text/plain": [
       "0      208217\n",
       "1      109706\n",
       "2       65744\n",
       "3       48835\n",
       "4       50803\n",
       "5       84515\n",
       "6      281308\n",
       "7      864083\n",
       "8     1660909\n",
       "9     2366074\n",
       "10    2652367\n",
       "11    2617288\n",
       "12    2498043\n",
       "13    2541577\n",
       "14    2570258\n",
       "15    2538299\n",
       "16    2415879\n",
       "17    1984111\n",
       "18    1552568\n",
       "19    1194931\n",
       "20     931757\n",
       "21     763821\n",
       "22     607557\n",
       "23     384839\n",
       "Name: order_hour_of_day, dtype: int64"
      ]
     },
     "execution_count": 40,
     "metadata": {},
     "output_type": "execute_result"
    }
   ],
   "source": [
    "# Check hour of day sales\n",
    "\n",
    "df_10RC['order_hour_of_day'].value_counts().sort_index()"
   ]
  },
  {
   "cell_type": "code",
   "execution_count": 34,
   "id": "d96e8478",
   "metadata": {},
   "outputs": [],
   "source": [
    "# Create busy time of day flag (busy_tod)\n",
    "\n",
    "busy_tod = []\n",
    "\n",
    "for value in df_10RC['order_hour_of_day']:\n",
    "    if (value >= 9) and (value <=17): \n",
    "        busy_tod.append('busy time')\n",
    "    elif (value > 17) or (value < 9):\n",
    "        busy_tod.append('slow time')\n",
    "    else: \n",
    "        busy_tod.append('no data')"
   ]
  },
  {
   "cell_type": "code",
   "execution_count": 35,
   "id": "b77d545b",
   "metadata": {
    "collapsed": true
   },
   "outputs": [
    {
     "name": "stderr",
     "output_type": "stream",
     "text": [
      "<ipython-input-35-5e1a93d0d089>:3: SettingWithCopyWarning: \n",
      "A value is trying to be set on a copy of a slice from a DataFrame.\n",
      "Try using .loc[row_indexer,col_indexer] = value instead\n",
      "\n",
      "See the caveats in the documentation: https://pandas.pydata.org/pandas-docs/stable/user_guide/indexing.html#returning-a-view-versus-a-copy\n",
      "  df_10RC['busy_tod'] = busy_tod\n"
     ]
    }
   ],
   "source": [
    "# Add 'busy_tod' to df\n",
    "\n",
    "df_10RC['busy_tod'] = busy_tod"
   ]
  },
  {
   "cell_type": "code",
   "execution_count": 36,
   "id": "fb226c16",
   "metadata": {},
   "outputs": [
    {
     "data": {
      "text/plain": [
       "busy time    22183896\n",
       "slow time     8809593\n",
       "Name: busy_tod, dtype: int64"
      ]
     },
     "execution_count": 36,
     "metadata": {},
     "output_type": "execute_result"
    }
   ],
   "source": [
    "# Check 'busy_tod' values\n",
    "\n",
    "df_10RC['busy_tod'].value_counts()"
   ]
  },
  {
   "cell_type": "code",
   "execution_count": 37,
   "id": "6584b802",
   "metadata": {},
   "outputs": [],
   "source": [
    "df_10RC['busy_tod'].value_counts().to_clipboard()"
   ]
  },
  {
   "cell_type": "markdown",
   "id": "14185498",
   "metadata": {},
   "source": [
    "\n"
   ]
  },
  {
   "cell_type": "markdown",
   "id": "6777ab25",
   "metadata": {},
   "source": [
    ":: final checks"
   ]
  },
  {
   "cell_type": "code",
   "execution_count": 31,
   "id": "6ede0e6e",
   "metadata": {},
   "outputs": [
    {
     "data": {
      "text/html": [
       "<div>\n",
       "<style scoped>\n",
       "    .dataframe tbody tr th:only-of-type {\n",
       "        vertical-align: middle;\n",
       "    }\n",
       "\n",
       "    .dataframe tbody tr th {\n",
       "        vertical-align: top;\n",
       "    }\n",
       "\n",
       "    .dataframe thead th {\n",
       "        text-align: right;\n",
       "    }\n",
       "</style>\n",
       "<table border=\"1\" class=\"dataframe\">\n",
       "  <thead>\n",
       "    <tr style=\"text-align: right;\">\n",
       "      <th></th>\n",
       "      <th>order_id</th>\n",
       "      <th>user_id</th>\n",
       "      <th>order_number</th>\n",
       "      <th>orders_day_of_week</th>\n",
       "      <th>order_hour_of_day</th>\n",
       "      <th>days_since_prior_order</th>\n",
       "      <th>product_id</th>\n",
       "      <th>add_to_cart_order</th>\n",
       "      <th>reordered</th>\n",
       "      <th>_merge</th>\n",
       "      <th>product_name</th>\n",
       "      <th>aisle_id</th>\n",
       "      <th>department_id</th>\n",
       "      <th>prices</th>\n",
       "      <th>price_range_loc</th>\n",
       "      <th>busiest_day</th>\n",
       "      <th>busy_days</th>\n",
       "      <th>busiest_period_of_day</th>\n",
       "      <th>max_order</th>\n",
       "      <th>loyalty_flag</th>\n",
       "      <th>spending</th>\n",
       "      <th>spending_flag</th>\n",
       "      <th>frequency</th>\n",
       "      <th>freq_flag</th>\n",
       "      <th>first_name</th>\n",
       "      <th>last_name</th>\n",
       "      <th>gender</th>\n",
       "      <th>state</th>\n",
       "      <th>age</th>\n",
       "      <th>date_joined</th>\n",
       "      <th>num_dep</th>\n",
       "      <th>marital_status</th>\n",
       "      <th>income</th>\n",
       "      <th>region</th>\n",
       "      <th>exclusion_flag</th>\n",
       "      <th>busy_tod</th>\n",
       "    </tr>\n",
       "  </thead>\n",
       "  <tbody>\n",
       "    <tr>\n",
       "      <th>0</th>\n",
       "      <td>2539329</td>\n",
       "      <td>1</td>\n",
       "      <td>1</td>\n",
       "      <td>2</td>\n",
       "      <td>8</td>\n",
       "      <td>NaN</td>\n",
       "      <td>196</td>\n",
       "      <td>1</td>\n",
       "      <td>0</td>\n",
       "      <td>both</td>\n",
       "      <td>Soda</td>\n",
       "      <td>77.0</td>\n",
       "      <td>7.0</td>\n",
       "      <td>9.0</td>\n",
       "      <td>Mid-range product</td>\n",
       "      <td>regularly busy</td>\n",
       "      <td>regularly busy</td>\n",
       "      <td>Average orders</td>\n",
       "      <td>10</td>\n",
       "      <td>New customer</td>\n",
       "      <td>6.367797</td>\n",
       "      <td>Low spender</td>\n",
       "      <td>20.5</td>\n",
       "      <td>non-frequent customer</td>\n",
       "      <td>Linda</td>\n",
       "      <td>Nguyen</td>\n",
       "      <td>Female</td>\n",
       "      <td>Alabama</td>\n",
       "      <td>31</td>\n",
       "      <td>2/17/2019</td>\n",
       "      <td>3</td>\n",
       "      <td>married</td>\n",
       "      <td>40423</td>\n",
       "      <td>South</td>\n",
       "      <td>regular cust</td>\n",
       "      <td>slow time</td>\n",
       "    </tr>\n",
       "    <tr>\n",
       "      <th>1</th>\n",
       "      <td>2539329</td>\n",
       "      <td>1</td>\n",
       "      <td>1</td>\n",
       "      <td>2</td>\n",
       "      <td>8</td>\n",
       "      <td>NaN</td>\n",
       "      <td>14084</td>\n",
       "      <td>2</td>\n",
       "      <td>0</td>\n",
       "      <td>both</td>\n",
       "      <td>Organic Unsweetened Vanilla Almond Milk</td>\n",
       "      <td>91.0</td>\n",
       "      <td>16.0</td>\n",
       "      <td>12.5</td>\n",
       "      <td>Mid-range product</td>\n",
       "      <td>regularly busy</td>\n",
       "      <td>regularly busy</td>\n",
       "      <td>Average orders</td>\n",
       "      <td>10</td>\n",
       "      <td>New customer</td>\n",
       "      <td>6.367797</td>\n",
       "      <td>Low spender</td>\n",
       "      <td>20.5</td>\n",
       "      <td>non-frequent customer</td>\n",
       "      <td>Linda</td>\n",
       "      <td>Nguyen</td>\n",
       "      <td>Female</td>\n",
       "      <td>Alabama</td>\n",
       "      <td>31</td>\n",
       "      <td>2/17/2019</td>\n",
       "      <td>3</td>\n",
       "      <td>married</td>\n",
       "      <td>40423</td>\n",
       "      <td>South</td>\n",
       "      <td>regular cust</td>\n",
       "      <td>slow time</td>\n",
       "    </tr>\n",
       "    <tr>\n",
       "      <th>2</th>\n",
       "      <td>2539329</td>\n",
       "      <td>1</td>\n",
       "      <td>1</td>\n",
       "      <td>2</td>\n",
       "      <td>8</td>\n",
       "      <td>NaN</td>\n",
       "      <td>12427</td>\n",
       "      <td>3</td>\n",
       "      <td>0</td>\n",
       "      <td>both</td>\n",
       "      <td>Original Beef Jerky</td>\n",
       "      <td>23.0</td>\n",
       "      <td>19.0</td>\n",
       "      <td>4.4</td>\n",
       "      <td>Low-range product</td>\n",
       "      <td>regularly busy</td>\n",
       "      <td>regularly busy</td>\n",
       "      <td>Average orders</td>\n",
       "      <td>10</td>\n",
       "      <td>New customer</td>\n",
       "      <td>6.367797</td>\n",
       "      <td>Low spender</td>\n",
       "      <td>20.5</td>\n",
       "      <td>non-frequent customer</td>\n",
       "      <td>Linda</td>\n",
       "      <td>Nguyen</td>\n",
       "      <td>Female</td>\n",
       "      <td>Alabama</td>\n",
       "      <td>31</td>\n",
       "      <td>2/17/2019</td>\n",
       "      <td>3</td>\n",
       "      <td>married</td>\n",
       "      <td>40423</td>\n",
       "      <td>South</td>\n",
       "      <td>regular cust</td>\n",
       "      <td>slow time</td>\n",
       "    </tr>\n",
       "    <tr>\n",
       "      <th>3</th>\n",
       "      <td>2539329</td>\n",
       "      <td>1</td>\n",
       "      <td>1</td>\n",
       "      <td>2</td>\n",
       "      <td>8</td>\n",
       "      <td>NaN</td>\n",
       "      <td>26088</td>\n",
       "      <td>4</td>\n",
       "      <td>0</td>\n",
       "      <td>both</td>\n",
       "      <td>Aged White Cheddar Popcorn</td>\n",
       "      <td>23.0</td>\n",
       "      <td>19.0</td>\n",
       "      <td>4.7</td>\n",
       "      <td>Low-range product</td>\n",
       "      <td>regularly busy</td>\n",
       "      <td>regularly busy</td>\n",
       "      <td>Average orders</td>\n",
       "      <td>10</td>\n",
       "      <td>New customer</td>\n",
       "      <td>6.367797</td>\n",
       "      <td>Low spender</td>\n",
       "      <td>20.5</td>\n",
       "      <td>non-frequent customer</td>\n",
       "      <td>Linda</td>\n",
       "      <td>Nguyen</td>\n",
       "      <td>Female</td>\n",
       "      <td>Alabama</td>\n",
       "      <td>31</td>\n",
       "      <td>2/17/2019</td>\n",
       "      <td>3</td>\n",
       "      <td>married</td>\n",
       "      <td>40423</td>\n",
       "      <td>South</td>\n",
       "      <td>regular cust</td>\n",
       "      <td>slow time</td>\n",
       "    </tr>\n",
       "    <tr>\n",
       "      <th>4</th>\n",
       "      <td>2539329</td>\n",
       "      <td>1</td>\n",
       "      <td>1</td>\n",
       "      <td>2</td>\n",
       "      <td>8</td>\n",
       "      <td>NaN</td>\n",
       "      <td>26405</td>\n",
       "      <td>5</td>\n",
       "      <td>0</td>\n",
       "      <td>both</td>\n",
       "      <td>XL Pick-A-Size Paper Towel Rolls</td>\n",
       "      <td>54.0</td>\n",
       "      <td>17.0</td>\n",
       "      <td>1.0</td>\n",
       "      <td>Low-range product</td>\n",
       "      <td>regularly busy</td>\n",
       "      <td>regularly busy</td>\n",
       "      <td>Average orders</td>\n",
       "      <td>10</td>\n",
       "      <td>New customer</td>\n",
       "      <td>6.367797</td>\n",
       "      <td>Low spender</td>\n",
       "      <td>20.5</td>\n",
       "      <td>non-frequent customer</td>\n",
       "      <td>Linda</td>\n",
       "      <td>Nguyen</td>\n",
       "      <td>Female</td>\n",
       "      <td>Alabama</td>\n",
       "      <td>31</td>\n",
       "      <td>2/17/2019</td>\n",
       "      <td>3</td>\n",
       "      <td>married</td>\n",
       "      <td>40423</td>\n",
       "      <td>South</td>\n",
       "      <td>regular cust</td>\n",
       "      <td>slow time</td>\n",
       "    </tr>\n",
       "  </tbody>\n",
       "</table>\n",
       "</div>"
      ],
      "text/plain": [
       "   order_id user_id  order_number  orders_day_of_week  order_hour_of_day  \\\n",
       "0   2539329       1             1                   2                  8   \n",
       "1   2539329       1             1                   2                  8   \n",
       "2   2539329       1             1                   2                  8   \n",
       "3   2539329       1             1                   2                  8   \n",
       "4   2539329       1             1                   2                  8   \n",
       "\n",
       "   days_since_prior_order  product_id  add_to_cart_order  reordered _merge  \\\n",
       "0                     NaN         196                  1          0   both   \n",
       "1                     NaN       14084                  2          0   both   \n",
       "2                     NaN       12427                  3          0   both   \n",
       "3                     NaN       26088                  4          0   both   \n",
       "4                     NaN       26405                  5          0   both   \n",
       "\n",
       "                              product_name  aisle_id  department_id  prices  \\\n",
       "0                                     Soda      77.0            7.0     9.0   \n",
       "1  Organic Unsweetened Vanilla Almond Milk      91.0           16.0    12.5   \n",
       "2                      Original Beef Jerky      23.0           19.0     4.4   \n",
       "3               Aged White Cheddar Popcorn      23.0           19.0     4.7   \n",
       "4         XL Pick-A-Size Paper Towel Rolls      54.0           17.0     1.0   \n",
       "\n",
       "     price_range_loc     busiest_day       busy_days busiest_period_of_day  \\\n",
       "0  Mid-range product  regularly busy  regularly busy        Average orders   \n",
       "1  Mid-range product  regularly busy  regularly busy        Average orders   \n",
       "2  Low-range product  regularly busy  regularly busy        Average orders   \n",
       "3  Low-range product  regularly busy  regularly busy        Average orders   \n",
       "4  Low-range product  regularly busy  regularly busy        Average orders   \n",
       "\n",
       "   max_order  loyalty_flag  spending spending_flag  frequency  \\\n",
       "0         10  New customer  6.367797   Low spender       20.5   \n",
       "1         10  New customer  6.367797   Low spender       20.5   \n",
       "2         10  New customer  6.367797   Low spender       20.5   \n",
       "3         10  New customer  6.367797   Low spender       20.5   \n",
       "4         10  New customer  6.367797   Low spender       20.5   \n",
       "\n",
       "               freq_flag first_name last_name  gender    state  age  \\\n",
       "0  non-frequent customer      Linda    Nguyen  Female  Alabama   31   \n",
       "1  non-frequent customer      Linda    Nguyen  Female  Alabama   31   \n",
       "2  non-frequent customer      Linda    Nguyen  Female  Alabama   31   \n",
       "3  non-frequent customer      Linda    Nguyen  Female  Alabama   31   \n",
       "4  non-frequent customer      Linda    Nguyen  Female  Alabama   31   \n",
       "\n",
       "  date_joined  num_dep marital_status  income region exclusion_flag   busy_tod  \n",
       "0   2/17/2019        3        married   40423  South   regular cust  slow time  \n",
       "1   2/17/2019        3        married   40423  South   regular cust  slow time  \n",
       "2   2/17/2019        3        married   40423  South   regular cust  slow time  \n",
       "3   2/17/2019        3        married   40423  South   regular cust  slow time  \n",
       "4   2/17/2019        3        married   40423  South   regular cust  slow time  "
      ]
     },
     "execution_count": 31,
     "metadata": {},
     "output_type": "execute_result"
    }
   ],
   "source": [
    "# Check df_10RC for code completion\n",
    "\n",
    "df_10RC.head()"
   ]
  },
  {
   "cell_type": "code",
   "execution_count": 42,
   "id": "755c7171",
   "metadata": {},
   "outputs": [
    {
     "data": {
      "text/plain": [
       "(30993489, 39)"
      ]
     },
     "execution_count": 42,
     "metadata": {},
     "output_type": "execute_result"
    }
   ],
   "source": [
    "# Check df_10RC changes shape\n",
    "\n",
    "df_10RC.shape"
   ]
  },
  {
   "cell_type": "code",
   "execution_count": 43,
   "id": "0cd10e58",
   "metadata": {},
   "outputs": [],
   "source": [
    "# Save df_10RC version\n",
    "\n",
    "df_10RC.to_pickle(os.path.join(path,'02 Data','Prepared Data','reg_act_cust_profile.pkl'))"
   ]
  },
  {
   "cell_type": "markdown",
   "id": "f924fee6",
   "metadata": {},
   "source": [
    ":: Data saved with customer profiling. Still containing PII. If transfering outside confidential arena, must remove PII before sharing. \n",
    "- Please adivse on further sharing needs from here"
   ]
  },
  {
   "cell_type": "markdown",
   "id": "841cb864",
   "metadata": {},
   "source": [
    "\n"
   ]
  },
  {
   "cell_type": "markdown",
   "id": "dbcf850b",
   "metadata": {},
   "source": [
    "\n"
   ]
  },
  {
   "cell_type": "markdown",
   "id": "51b77b99",
   "metadata": {},
   "source": [
    "6. Create an appropriate visualization to show the distribution of profiles."
   ]
  },
  {
   "cell_type": "markdown",
   "id": "00305a82",
   "metadata": {},
   "source": [
    ":: Age bar chart"
   ]
  },
  {
   "cell_type": "code",
   "execution_count": 44,
   "id": "60fc0e39",
   "metadata": {},
   "outputs": [
    {
     "data": {
      "text/plain": [
       "Text(0.5, 0, 'Age Groups')"
      ]
     },
     "execution_count": 44,
     "metadata": {},
     "output_type": "execute_result"
    },
    {
     "data": {
      "image/png": "[encoded data removed]",
      "text/plain": [
       "<Figure size 432x288 with 1 Axes>"
      ]
     },
     "metadata": {
      "needs_background": "light"
     },
     "output_type": "display_data"
    }
   ],
   "source": [
    "# Create a bar chart for age groups\n",
    "\n",
    "bar_age = df_10RC['age_group'].value_counts().sort_index().plot.bar(color = sns.color_palette('mako_r', 8))\n",
    "plt.xlabel('Age Groups')"
   ]
  },
  {
   "cell_type": "code",
   "execution_count": 45,
   "id": "f5623100",
   "metadata": {},
   "outputs": [],
   "source": [
    "# Export bar chart\n",
    "\n",
    "bar_age.figure.savefig(os.path.join(path, '04 Analysis','Visualizations', 'bar_age.png'))"
   ]
  },
  {
   "cell_type": "markdown",
   "id": "aa62c2b7",
   "metadata": {},
   "source": [
    "\n"
   ]
  },
  {
   "cell_type": "markdown",
   "id": "8eebba21",
   "metadata": {},
   "source": [
    ":: Marital Status pie chart"
   ]
  },
  {
   "cell_type": "code",
   "execution_count": 133,
   "id": "49f3c5a0",
   "metadata": {},
   "outputs": [
    {
     "data": {
      "text/plain": [
       "Text(108.68, 0.5, '')"
      ]
     },
     "execution_count": 133,
     "metadata": {},
     "output_type": "execute_result"
    },
    {
     "data": {
      "image/png": "[encoded data removed]",
      "text/plain": [
       "<Figure size 432x288 with 1 Axes>"
      ]
     },
     "metadata": {},
     "output_type": "display_data"
    }
   ],
   "source": [
    "# Create pie chart for marital status\n",
    "\n",
    "pie_marital_status = df_10RC['marital_status'].value_counts().sort_index().plot.pie(autopct='%1.1f%%', colors = sns.color_palette('mako_r', 4))\n",
    "plt.tight_layout()\n",
    "plt.xlabel('Marital Status')\n",
    "plt.ylabel('')"
   ]
  },
  {
   "cell_type": "code",
   "execution_count": 134,
   "id": "25f79b94",
   "metadata": {},
   "outputs": [],
   "source": [
    "# Export pie chart\n",
    "\n",
    "pie_marital_status.figure.savefig(os.path.join(path, '04 Analysis','Visualizations', 'pie_marital_status.png'))"
   ]
  },
  {
   "cell_type": "markdown",
   "id": "340ccad4",
   "metadata": {},
   "source": [
    "\n"
   ]
  },
  {
   "cell_type": "markdown",
   "id": "c26c319c",
   "metadata": {},
   "source": [
    ":: Parental Status pie chart"
   ]
  },
  {
   "cell_type": "code",
   "execution_count": 48,
   "id": "91dad184",
   "metadata": {},
   "outputs": [
    {
     "data": {
      "text/plain": [
       "Text(108.68, 0.5, '')"
      ]
     },
     "execution_count": 48,
     "metadata": {},
     "output_type": "execute_result"
    },
    {
     "data": {
      "image/png": "[encoded data removed]",
      "text/plain": [
       "<Figure size 432x288 with 1 Axes>"
      ]
     },
     "metadata": {},
     "output_type": "display_data"
    }
   ],
   "source": [
    "# Create pie chart for parental status\n",
    "\n",
    "pie_parental_status = df_10RC['parental_status'].value_counts().sort_index().plot.pie(autopct='%1.1f%%', colors = sns.color_palette('colorblind', 4))\n",
    "plt.tight_layout()\n",
    "plt.xlabel('Parental Status')\n",
    "plt.ylabel('')"
   ]
  },
  {
   "cell_type": "code",
   "execution_count": 49,
   "id": "526908e8",
   "metadata": {},
   "outputs": [],
   "source": [
    "# Export pie chart\n",
    "\n",
    "pie_parental_status.figure.savefig(os.path.join(path, '04 Analysis','Visualizations', 'pie_parental_status.png'))"
   ]
  },
  {
   "cell_type": "markdown",
   "id": "803d4b3f",
   "metadata": {},
   "source": [
    "\n"
   ]
  },
  {
   "cell_type": "markdown",
   "id": "a724abd4",
   "metadata": {},
   "source": [
    ":: Income charts"
   ]
  },
  {
   "cell_type": "code",
   "execution_count": 50,
   "id": "0d896757",
   "metadata": {},
   "outputs": [
    {
     "data": {
      "text/plain": [
       "Text(0.5, 0, 'Income Histogram')"
      ]
     },
     "execution_count": 50,
     "metadata": {},
     "output_type": "execute_result"
    },
    {
     "data": {
      "image/png": "[encoded data removed]",
      "text/plain": [
       "<Figure size 432x288 with 1 Axes>"
      ]
     },
     "metadata": {
      "needs_background": "light"
     },
     "output_type": "display_data"
    }
   ],
   "source": [
    "# Create histogram for income\n",
    "\n",
    "hist_income = df_10RC['income'].plot.hist(bins = 50)\n",
    "plt.xlabel('Income Histogram')"
   ]
  },
  {
   "cell_type": "code",
   "execution_count": 51,
   "id": "95aebcd4",
   "metadata": {},
   "outputs": [],
   "source": [
    "# Export hist\n",
    "\n",
    "hist_income.figure.savefig(os.path.join(path, '04 Analysis','Visualizations', 'hist_income.png'))"
   ]
  },
  {
   "cell_type": "code",
   "execution_count": 52,
   "id": "5401d8dc",
   "metadata": {},
   "outputs": [
    {
     "data": {
      "text/plain": [
       "(array([0, 1, 2, 3, 4, 5]),\n",
       " [Text(0, 0, '025000-050000'),\n",
       "  Text(1, 0, '050000-075000'),\n",
       "  Text(2, 0, '075000-100000'),\n",
       "  Text(3, 0, '100000-125000'),\n",
       "  Text(4, 0, '125000-150000'),\n",
       "  Text(5, 0, '150000+')])"
      ]
     },
     "execution_count": 52,
     "metadata": {},
     "output_type": "execute_result"
    },
    {
     "data": {
      "image/png": "[encoded data removed]",
      "text/plain": [
       "<Figure size 432x288 with 1 Axes>"
      ]
     },
     "metadata": {
      "needs_background": "light"
     },
     "output_type": "display_data"
    }
   ],
   "source": [
    "# Create a bar chart for income brackets\n",
    "\n",
    "bar_incomeb = df_10RC['income_b'].value_counts().sort_index().plot.bar(color = sns.color_palette('mako_r', 6))\n",
    "plt.xlabel('Income Brackets')\n",
    "plt.tight_layout()\n",
    "plt.xticks(rotation = 20, horizontalalignment = 'right')"
   ]
  },
  {
   "cell_type": "code",
   "execution_count": 53,
   "id": "75992eb7",
   "metadata": {},
   "outputs": [],
   "source": [
    "# Export bar chart\n",
    "\n",
    "bar_incomeb.figure.savefig(os.path.join(path, '04 Analysis','Visualizations', 'bar_incomeb.png'))"
   ]
  },
  {
   "cell_type": "code",
   "execution_count": 54,
   "id": "47232c08",
   "metadata": {
    "scrolled": true
   },
   "outputs": [
    {
     "data": {
      "text/plain": [
       "Text(108.68, 0.5, '')"
      ]
     },
     "execution_count": 54,
     "metadata": {},
     "output_type": "execute_result"
    },
    {
     "data": {
      "image/png": "[encoded data removed]",
      "text/plain": [
       "<Figure size 432x288 with 1 Axes>"
      ]
     },
     "metadata": {},
     "output_type": "display_data"
    }
   ],
   "source": [
    "# Create pie chart for income\n",
    "\n",
    "pie_incomeb = df_10RC['income_b'].value_counts().sort_index().plot.pie(autopct='%1.1f%%', colors = sns.color_palette('mako_r', 6))\n",
    "plt.tight_layout()\n",
    "plt.xlabel('Income Brackets')\n",
    "plt.ylabel('')"
   ]
  },
  {
   "cell_type": "code",
   "execution_count": 55,
   "id": "07a5125f",
   "metadata": {},
   "outputs": [],
   "source": [
    "# Export pie chart\n",
    "\n",
    "pie_incomeb.figure.savefig(os.path.join(path, '04 Analysis','Visualizations', 'pie_incomeb.png'))"
   ]
  },
  {
   "cell_type": "markdown",
   "id": "8c8f618c",
   "metadata": {},
   "source": [
    "\n"
   ]
  },
  {
   "cell_type": "markdown",
   "id": "81be71b4",
   "metadata": {},
   "source": [
    ":: Departments"
   ]
  },
  {
   "cell_type": "code",
   "execution_count": 56,
   "id": "13858ebd",
   "metadata": {},
   "outputs": [
    {
     "data": {
      "text/plain": [
       "Text(108.68, 0.5, '')"
      ]
     },
     "execution_count": 56,
     "metadata": {},
     "output_type": "execute_result"
    },
    {
     "data": {
      "image/png": "[encoded data removed]",
      "text/plain": [
       "<Figure size 432x288 with 1 Axes>"
      ]
     },
     "metadata": {},
     "output_type": "display_data"
    }
   ],
   "source": [
    "# Create pie chart for departments\n",
    "\n",
    "pie_dept = df_10RC['dept_name'].value_counts().sort_index().plot.pie(autopct='%1.1f%%', colors = sns.color_palette('colorblind'))\n",
    "plt.tight_layout()\n",
    "plt.xlabel('Departments')\n",
    "plt.ylabel('')"
   ]
  },
  {
   "cell_type": "code",
   "execution_count": 57,
   "id": "66bc93b4",
   "metadata": {},
   "outputs": [],
   "source": [
    "# Export pie chart\n",
    "\n",
    "pie_dept.figure.savefig(os.path.join(path, '04 Analysis','Visualizations', 'pie_dept.png'))"
   ]
  },
  {
   "cell_type": "code",
   "execution_count": 58,
   "id": "d790b1bf",
   "metadata": {},
   "outputs": [
    {
     "data": {
      "text/plain": [
       "Text(0.5, 0, 'Departments')"
      ]
     },
     "execution_count": 58,
     "metadata": {},
     "output_type": "execute_result"
    },
    {
     "data": {
      "image/png": "[encoded data removed]",
      "text/plain": [
       "<Figure size 432x288 with 1 Axes>"
      ]
     },
     "metadata": {
      "needs_background": "light"
     },
     "output_type": "display_data"
    }
   ],
   "source": [
    "# Create a bar chart for departments\n",
    "\n",
    "bar_dept = df_10RC['dept_name'].value_counts().sort_index().plot.bar(color = sns.color_palette('mako_r', 21))\n",
    "plt.xlabel('Departments')"
   ]
  },
  {
   "cell_type": "code",
   "execution_count": 59,
   "id": "aa92476a",
   "metadata": {},
   "outputs": [],
   "source": [
    "# Export bar chart\n",
    "\n",
    "bar_dept.figure.savefig(os.path.join(path, '04 Analysis','Visualizations', 'bar_dept.png'))"
   ]
  },
  {
   "cell_type": "code",
   "execution_count": 57,
   "id": "78bcdd13",
   "metadata": {
    "scrolled": false
   },
   "outputs": [
    {
     "data": {
      "text/plain": [
       "produce            9079276\n",
       "dairy eggs         5177183\n",
       "snacks             2766406\n",
       "beverages          2571901\n",
       "frozen             2121732\n",
       "pantry             1782705\n",
       "bakery             1120828\n",
       "canned goods       1012074\n",
       "deli               1003834\n",
       "dry goods pasta     822136\n",
       "households          699858\n",
       "meat seafood        674781\n",
       "breakfast           670850\n",
       "personal care       424306\n",
       "babies              410392\n",
       "international       255991\n",
       "alcohol             144627\n",
       "pets                 93060\n",
       "missing              64768\n",
       "other                34411\n",
       "bulk                 33451\n",
       "Name: dept_name, dtype: int64"
      ]
     },
     "execution_count": 57,
     "metadata": {},
     "output_type": "execute_result"
    }
   ],
   "source": [
    "df_10RC['dept_name'].value_counts()"
   ]
  },
  {
   "cell_type": "markdown",
   "id": "77f64aa5",
   "metadata": {},
   "source": [
    "\n"
   ]
  },
  {
   "cell_type": "markdown",
   "id": "6ffd3d6d",
   "metadata": {},
   "source": [
    ":: Hours of the day"
   ]
  },
  {
   "cell_type": "code",
   "execution_count": 60,
   "id": "b997b9a5",
   "metadata": {
    "scrolled": true
   },
   "outputs": [
    {
     "data": {
      "text/plain": [
       "Text(0.5, 0, 'Orders per hour of the day')"
      ]
     },
     "execution_count": 60,
     "metadata": {},
     "output_type": "execute_result"
    },
    {
     "data": {
      "image/png": "[encoded data removed]",
      "text/plain": [
       "<Figure size 432x288 with 1 Axes>"
      ]
     },
     "metadata": {
      "needs_background": "light"
     },
     "output_type": "display_data"
    }
   ],
   "source": [
    "# Create bar chart for 'order_hour_of_day'\n",
    "\n",
    "bar_hour_of_day = df_10RC['order_hour_of_day'].value_counts().sort_index().plot.bar(color = sns.color_palette('mako_r', 24))\n",
    "plt.xlabel('Orders per hour of the day')"
   ]
  },
  {
   "cell_type": "code",
   "execution_count": 61,
   "id": "74fba214",
   "metadata": {},
   "outputs": [],
   "source": [
    "# Export bar chart\n",
    "\n",
    "bar_hour_of_day.figure.savefig(os.path.join(path, '04 Analysis','Visualizations', 'bar_hour_of_day.png'))"
   ]
  },
  {
   "cell_type": "code",
   "execution_count": 32,
   "id": "accfcb34",
   "metadata": {},
   "outputs": [
    {
     "data": {
      "text/plain": [
       "Text(108.68, 0.5, '')"
      ]
     },
     "execution_count": 32,
     "metadata": {},
     "output_type": "execute_result"
    },
    {
     "data": {
      "image/png": "[encoded data removed]",
      "text/plain": [
       "<Figure size 432x288 with 1 Axes>"
      ]
     },
     "metadata": {},
     "output_type": "display_data"
    }
   ],
   "source": [
    "# Create pie chart for 'busy_tod'\n",
    "\n",
    "pie_ords_tod = df_10RC['busy_tod'].value_counts().sort_index().plot.pie(autopct='%1.1f%%', colors = sns.color_palette('mako_r', 2))\n",
    "plt.tight_layout()\n",
    "plt.xlabel('Orders by Time of Day')\n",
    "plt.ylabel('')"
   ]
  },
  {
   "cell_type": "code",
   "execution_count": 33,
   "id": "8430c018",
   "metadata": {},
   "outputs": [],
   "source": [
    "# Export pie chart\n",
    "\n",
    "pie_ords_tod.figure.savefig(os.path.join(path, '04 Analysis','Visualizations', 'pie_ords_tod.png'))"
   ]
  },
  {
   "cell_type": "markdown",
   "id": "364983d7",
   "metadata": {},
   "source": [
    "\n"
   ]
  },
  {
   "cell_type": "markdown",
   "id": "feab1209",
   "metadata": {},
   "source": [
    ":: Day of the week"
   ]
  },
  {
   "cell_type": "code",
   "execution_count": 38,
   "id": "efb51ae8",
   "metadata": {
    "collapsed": true
   },
   "outputs": [
    {
     "name": "stderr",
     "output_type": "stream",
     "text": [
      "/Users/chrisherin/opt/anaconda3/lib/python3.8/site-packages/pandas/core/indexing.py:1599: SettingWithCopyWarning: \n",
      "A value is trying to be set on a copy of a slice from a DataFrame.\n",
      "Try using .loc[row_indexer,col_indexer] = value instead\n",
      "\n",
      "See the caveats in the documentation: https://pandas.pydata.org/pandas-docs/stable/user_guide/indexing.html#returning-a-view-versus-a-copy\n",
      "  self.obj[key] = infer_fill_value(value)\n",
      "/Users/chrisherin/opt/anaconda3/lib/python3.8/site-packages/pandas/core/indexing.py:1720: SettingWithCopyWarning: \n",
      "A value is trying to be set on a copy of a slice from a DataFrame.\n",
      "Try using .loc[row_indexer,col_indexer] = value instead\n",
      "\n",
      "See the caveats in the documentation: https://pandas.pydata.org/pandas-docs/stable/user_guide/indexing.html#returning-a-view-versus-a-copy\n",
      "  self._setitem_single_column(loc, value, pi)\n",
      "/Users/chrisherin/opt/anaconda3/lib/python3.8/site-packages/pandas/core/indexing.py:1720: SettingWithCopyWarning: \n",
      "A value is trying to be set on a copy of a slice from a DataFrame.\n",
      "Try using .loc[row_indexer,col_indexer] = value instead\n",
      "\n",
      "See the caveats in the documentation: https://pandas.pydata.org/pandas-docs/stable/user_guide/indexing.html#returning-a-view-versus-a-copy\n",
      "  self._setitem_single_column(loc, value, pi)\n",
      "/Users/chrisherin/opt/anaconda3/lib/python3.8/site-packages/pandas/core/indexing.py:1720: SettingWithCopyWarning: \n",
      "A value is trying to be set on a copy of a slice from a DataFrame.\n",
      "Try using .loc[row_indexer,col_indexer] = value instead\n",
      "\n",
      "See the caveats in the documentation: https://pandas.pydata.org/pandas-docs/stable/user_guide/indexing.html#returning-a-view-versus-a-copy\n",
      "  self._setitem_single_column(loc, value, pi)\n",
      "/Users/chrisherin/opt/anaconda3/lib/python3.8/site-packages/pandas/core/indexing.py:1720: SettingWithCopyWarning: \n",
      "A value is trying to be set on a copy of a slice from a DataFrame.\n",
      "Try using .loc[row_indexer,col_indexer] = value instead\n",
      "\n",
      "See the caveats in the documentation: https://pandas.pydata.org/pandas-docs/stable/user_guide/indexing.html#returning-a-view-versus-a-copy\n",
      "  self._setitem_single_column(loc, value, pi)\n",
      "/Users/chrisherin/opt/anaconda3/lib/python3.8/site-packages/pandas/core/indexing.py:1720: SettingWithCopyWarning: \n",
      "A value is trying to be set on a copy of a slice from a DataFrame.\n",
      "Try using .loc[row_indexer,col_indexer] = value instead\n",
      "\n",
      "See the caveats in the documentation: https://pandas.pydata.org/pandas-docs/stable/user_guide/indexing.html#returning-a-view-versus-a-copy\n",
      "  self._setitem_single_column(loc, value, pi)\n",
      "/Users/chrisherin/opt/anaconda3/lib/python3.8/site-packages/pandas/core/indexing.py:1720: SettingWithCopyWarning: \n",
      "A value is trying to be set on a copy of a slice from a DataFrame.\n",
      "Try using .loc[row_indexer,col_indexer] = value instead\n",
      "\n",
      "See the caveats in the documentation: https://pandas.pydata.org/pandas-docs/stable/user_guide/indexing.html#returning-a-view-versus-a-copy\n",
      "  self._setitem_single_column(loc, value, pi)\n",
      "/Users/chrisherin/opt/anaconda3/lib/python3.8/site-packages/pandas/core/indexing.py:1720: SettingWithCopyWarning: \n",
      "A value is trying to be set on a copy of a slice from a DataFrame.\n",
      "Try using .loc[row_indexer,col_indexer] = value instead\n",
      "\n",
      "See the caveats in the documentation: https://pandas.pydata.org/pandas-docs/stable/user_guide/indexing.html#returning-a-view-versus-a-copy\n",
      "  self._setitem_single_column(loc, value, pi)\n"
     ]
    }
   ],
   "source": [
    "# Create day of week name column\n",
    "\n",
    "df_10RC.loc[df_10RC['orders_day_of_week'] == 0, 'day_name'] = 'saturday'\n",
    "df_10RC.loc[df_10RC['orders_day_of_week'] == 1, 'day_name'] = 'sunday'\n",
    "df_10RC.loc[df_10RC['orders_day_of_week'] == 2, 'day_name'] = 'monday'\n",
    "df_10RC.loc[df_10RC['orders_day_of_week'] == 3, 'day_name'] = 'tuesday'\n",
    "df_10RC.loc[df_10RC['orders_day_of_week'] == 4, 'day_name'] = 'wednesday'\n",
    "df_10RC.loc[df_10RC['orders_day_of_week'] == 5, 'day_name'] = 'thursday'\n",
    "df_10RC.loc[df_10RC['orders_day_of_week'] == 6, 'day_name'] = 'friday'\n"
   ]
  },
  {
   "cell_type": "code",
   "execution_count": 39,
   "id": "40bec68d",
   "metadata": {},
   "outputs": [
    {
     "data": {
      "text/plain": [
       "saturday     5913988\n",
       "sunday       5417154\n",
       "friday       4295043\n",
       "thursday     4037411\n",
       "monday       4028561\n",
       "tuesday      3673006\n",
       "wednesday    3628326\n",
       "Name: day_name, dtype: int64"
      ]
     },
     "execution_count": 39,
     "metadata": {},
     "output_type": "execute_result"
    }
   ],
   "source": [
    "# Check 'day_name' column\n",
    "\n",
    "df_10RC['day_name'].value_counts()"
   ]
  },
  {
   "cell_type": "code",
   "execution_count": 40,
   "id": "bb59c80e",
   "metadata": {},
   "outputs": [],
   "source": [
    "df_10RC['day_name'].value_counts().to_clipboard()"
   ]
  },
  {
   "cell_type": "code",
   "execution_count": 64,
   "id": "9eda6373",
   "metadata": {},
   "outputs": [
    {
     "data": {
      "text/plain": [
       "Text(0.5, 0, 'Orders per day of the week')"
      ]
     },
     "execution_count": 64,
     "metadata": {},
     "output_type": "execute_result"
    },
    {
     "data": {
      "image/png": "[encoded data removed]",
      "text/plain": [
       "<Figure size 432x288 with 1 Axes>"
      ]
     },
     "metadata": {
      "needs_background": "light"
     },
     "output_type": "display_data"
    }
   ],
   "source": [
    "# Create bar chart for 'orders_day_of_week'\n",
    "\n",
    "bar_dow = df_10RC['day_name'].value_counts().sort_index().plot.bar(color = sns.color_palette('mako_r', 7))\n",
    "plt.xlabel('Orders per day of the week')"
   ]
  },
  {
   "cell_type": "code",
   "execution_count": 65,
   "id": "2e0b3a5c",
   "metadata": {},
   "outputs": [],
   "source": [
    "# Export bar chart\n",
    "\n",
    "bar_dow.figure.savefig(os.path.join(path, '04 Analysis','Visualizations', 'bar_day_of_week.png'))"
   ]
  },
  {
   "cell_type": "markdown",
   "id": "2d4b68a6",
   "metadata": {},
   "source": [
    ":: Price Range"
   ]
  },
  {
   "cell_type": "code",
   "execution_count": 55,
   "id": "8dd6a3f2",
   "metadata": {
    "scrolled": true
   },
   "outputs": [
    {
     "data": {
      "text/plain": [
       "Text(0, 0.5, '')"
      ]
     },
     "execution_count": 55,
     "metadata": {},
     "output_type": "execute_result"
    },
    {
     "data": {
      "image/png": "[encoded data removed]",
      "text/plain": [
       "<Figure size 432x288 with 1 Axes>"
      ]
     },
     "metadata": {},
     "output_type": "display_data"
    }
   ],
   "source": [
    "# Create pie chart for 'busy_tod'\n",
    "\n",
    "pie_price_range = df_10RC['price_range_loc'].value_counts().sort_index().plot.pie(autopct='%1.1f%%', colors = sns.color_palette('mako_r', 3))\n",
    "plt.xlabel('Orders by Price Range')\n",
    "plt.ylabel('')"
   ]
  },
  {
   "cell_type": "code",
   "execution_count": 56,
   "id": "74ccff2d",
   "metadata": {},
   "outputs": [],
   "source": [
    "# Export pie chart\n",
    "\n",
    "pie_price_range.figure.savefig(os.path.join(path, '04 Analysis','Visualizations', 'pie_price_range.png'))"
   ]
  },
  {
   "cell_type": "markdown",
   "id": "5b64880f",
   "metadata": {},
   "source": [
    ":: Loyalty"
   ]
  },
  {
   "cell_type": "code",
   "execution_count": 19,
   "id": "f34e3900",
   "metadata": {},
   "outputs": [
    {
     "data": {
      "text/plain": [
       "Text(0, 0.5, '')"
      ]
     },
     "execution_count": 19,
     "metadata": {},
     "output_type": "execute_result"
    },
    {
     "data": {
      "image/png": "[encoded data removed]",
      "text/plain": [
       "<Figure size 432x288 with 1 Axes>"
      ]
     },
     "metadata": {},
     "output_type": "display_data"
    }
   ],
   "source": [
    "# Create pie chart for 'loyalty'\n",
    "\n",
    "pie_loyalty = df_10RC['loyalty_flag'].value_counts().sort_index().plot.pie(autopct='%1.1f%%', colors = sns.color_palette('mako_r', 3))\n",
    "plt.xlabel('Orders by Customer order count')\n",
    "plt.ylabel('')"
   ]
  },
  {
   "cell_type": "code",
   "execution_count": 21,
   "id": "40944005",
   "metadata": {},
   "outputs": [],
   "source": [
    "# Export pie chart\n",
    "\n",
    "pie_loyalty.figure.savefig(os.path.join(path, '04 Analysis','Visualizations', 'pie_loyalty.png'))"
   ]
  },
  {
   "cell_type": "code",
   "execution_count": 41,
   "id": "4bbd5c8e",
   "metadata": {},
   "outputs": [
    {
     "data": {
      "text/plain": [
       "Regular customer    15891507\n",
       "Loyal customer      10294027\n",
       "New customer         4807955\n",
       "Name: loyalty_flag, dtype: int64"
      ]
     },
     "execution_count": 41,
     "metadata": {},
     "output_type": "execute_result"
    }
   ],
   "source": [
    "# Loyalty details\n",
    "\n",
    "df_10RC['loyalty_flag'].value_counts()"
   ]
  },
  {
   "cell_type": "code",
   "execution_count": 42,
   "id": "046d1617",
   "metadata": {},
   "outputs": [],
   "source": [
    "df_10RC['loyalty_flag'].value_counts().to_clipboard()"
   ]
  },
  {
   "cell_type": "markdown",
   "id": "4dc5657d",
   "metadata": {},
   "source": [
    ":: Regional "
   ]
  },
  {
   "cell_type": "code",
   "execution_count": 33,
   "id": "cae96fbc",
   "metadata": {
    "scrolled": true
   },
   "outputs": [
    {
     "data": {
      "text/plain": [
       "Text(0, 0.5, '')"
      ]
     },
     "execution_count": 33,
     "metadata": {},
     "output_type": "execute_result"
    },
    {
     "data": {
      "image/png": "[encoded data removed]",
      "text/plain": [
       "<Figure size 432x288 with 1 Axes>"
      ]
     },
     "metadata": {},
     "output_type": "display_data"
    }
   ],
   "source": [
    "# Create pie chart for 'region'\n",
    "\n",
    "pie_region = df_10RC['region'].value_counts().sort_index().plot.pie(autopct='%1.1f%%', colors = sns.color_palette('mako_r', 4))\n",
    "plt.xlabel('Orders by Regional distribution')\n",
    "plt.ylabel('')"
   ]
  },
  {
   "cell_type": "code",
   "execution_count": 34,
   "id": "5712ba69",
   "metadata": {},
   "outputs": [],
   "source": [
    "# Export pie chart\n",
    "\n",
    "pie_region.figure.savefig(os.path.join(path, '04 Analysis','Visualizations', 'pie_region.png'))"
   ]
  },
  {
   "cell_type": "code",
   "execution_count": 35,
   "id": "3115a257",
   "metadata": {
    "scrolled": true
   },
   "outputs": [
    {
     "data": {
      "text/plain": [
       "Text(0.5, 0, 'Orders per Regional distribution')"
      ]
     },
     "execution_count": 35,
     "metadata": {},
     "output_type": "execute_result"
    },
    {
     "data": {
      "image/png": "[encoded data removed]",
      "text/plain": [
       "<Figure size 432x288 with 1 Axes>"
      ]
     },
     "metadata": {
      "needs_background": "light"
     },
     "output_type": "display_data"
    }
   ],
   "source": [
    "# Create bar chart for 'region'\n",
    "\n",
    "bar_region = df_10RC['region'].value_counts().sort_index().plot.bar(color = sns.color_palette('mako_r', 4))\n",
    "plt.xlabel('Orders per Regional distribution')"
   ]
  },
  {
   "cell_type": "code",
   "execution_count": 36,
   "id": "c980586e",
   "metadata": {},
   "outputs": [],
   "source": [
    "# Export bar chart\n",
    "\n",
    "bar_region.figure.savefig(os.path.join(path, '04 Analysis','Visualizations', 'bar_region.png'))"
   ]
  },
  {
   "cell_type": "markdown",
   "id": "6ecda40e",
   "metadata": {},
   "source": [
    "\n"
   ]
  },
  {
   "cell_type": "markdown",
   "id": "86c3b76b",
   "metadata": {},
   "source": [
    "7. Aggregate the max, mean, and min variables on a customer-profile level for usage frequency and expenditure."
   ]
  },
  {
   "cell_type": "markdown",
   "id": "c2afce4f",
   "metadata": {},
   "source": [
    ":: Age - expenditure and frequency"
   ]
  },
  {
   "cell_type": "code",
   "execution_count": 43,
   "id": "95e26f0f",
   "metadata": {},
   "outputs": [],
   "source": [
    "# Expenditure by age group\n",
    "\n",
    "expenditure_age = df_10RC.groupby('age_group').agg({'prices': ['mean', 'min', 'max']})"
   ]
  },
  {
   "cell_type": "code",
   "execution_count": 44,
   "id": "57fcff48",
   "metadata": {},
   "outputs": [
    {
     "data": {
      "text/html": [
       "<div>\n",
       "<style scoped>\n",
       "    .dataframe tbody tr th:only-of-type {\n",
       "        vertical-align: middle;\n",
       "    }\n",
       "\n",
       "    .dataframe tbody tr th {\n",
       "        vertical-align: top;\n",
       "    }\n",
       "\n",
       "    .dataframe thead tr th {\n",
       "        text-align: left;\n",
       "    }\n",
       "\n",
       "    .dataframe thead tr:last-of-type th {\n",
       "        text-align: right;\n",
       "    }\n",
       "</style>\n",
       "<table border=\"1\" class=\"dataframe\">\n",
       "  <thead>\n",
       "    <tr>\n",
       "      <th></th>\n",
       "      <th colspan=\"3\" halign=\"left\">prices</th>\n",
       "    </tr>\n",
       "    <tr>\n",
       "      <th></th>\n",
       "      <th>mean</th>\n",
       "      <th>min</th>\n",
       "      <th>max</th>\n",
       "    </tr>\n",
       "    <tr>\n",
       "      <th>age_group</th>\n",
       "      <th></th>\n",
       "      <th></th>\n",
       "      <th></th>\n",
       "    </tr>\n",
       "  </thead>\n",
       "  <tbody>\n",
       "    <tr>\n",
       "      <th>18-20</th>\n",
       "      <td>7.794831</td>\n",
       "      <td>1.0</td>\n",
       "      <td>25.0</td>\n",
       "    </tr>\n",
       "    <tr>\n",
       "      <th>21-30</th>\n",
       "      <td>7.777369</td>\n",
       "      <td>1.0</td>\n",
       "      <td>25.0</td>\n",
       "    </tr>\n",
       "    <tr>\n",
       "      <th>31-40</th>\n",
       "      <td>7.790979</td>\n",
       "      <td>1.0</td>\n",
       "      <td>25.0</td>\n",
       "    </tr>\n",
       "    <tr>\n",
       "      <th>41-50</th>\n",
       "      <td>7.799890</td>\n",
       "      <td>1.0</td>\n",
       "      <td>25.0</td>\n",
       "    </tr>\n",
       "    <tr>\n",
       "      <th>51-60</th>\n",
       "      <td>7.781205</td>\n",
       "      <td>1.0</td>\n",
       "      <td>25.0</td>\n",
       "    </tr>\n",
       "    <tr>\n",
       "      <th>61-70</th>\n",
       "      <td>7.799809</td>\n",
       "      <td>1.0</td>\n",
       "      <td>25.0</td>\n",
       "    </tr>\n",
       "    <tr>\n",
       "      <th>71-80</th>\n",
       "      <td>7.791797</td>\n",
       "      <td>1.0</td>\n",
       "      <td>25.0</td>\n",
       "    </tr>\n",
       "    <tr>\n",
       "      <th>80+</th>\n",
       "      <td>7.803464</td>\n",
       "      <td>1.0</td>\n",
       "      <td>25.0</td>\n",
       "    </tr>\n",
       "  </tbody>\n",
       "</table>\n",
       "</div>"
      ],
      "text/plain": [
       "             prices           \n",
       "               mean  min   max\n",
       "age_group                     \n",
       "18-20      7.794831  1.0  25.0\n",
       "21-30      7.777369  1.0  25.0\n",
       "31-40      7.790979  1.0  25.0\n",
       "41-50      7.799890  1.0  25.0\n",
       "51-60      7.781205  1.0  25.0\n",
       "61-70      7.799809  1.0  25.0\n",
       "71-80      7.791797  1.0  25.0\n",
       "80+        7.803464  1.0  25.0"
      ]
     },
     "execution_count": 44,
     "metadata": {},
     "output_type": "execute_result"
    }
   ],
   "source": [
    "# Check\n",
    "\n",
    "expenditure_age"
   ]
  },
  {
   "cell_type": "code",
   "execution_count": 47,
   "id": "83c9e7be",
   "metadata": {},
   "outputs": [],
   "source": [
    "# Export to xls\n",
    "\n",
    "expenditure_age.to_clipboard()"
   ]
  },
  {
   "cell_type": "code",
   "execution_count": 48,
   "id": "30bd1566",
   "metadata": {},
   "outputs": [],
   "source": [
    "# Frequency by age group \n",
    "\n",
    "frequency_age = df_10RC.groupby('age_group').agg({'days_since_prior_order': ['mean', 'min', 'max']})"
   ]
  },
  {
   "cell_type": "code",
   "execution_count": 49,
   "id": "f0e9780e",
   "metadata": {},
   "outputs": [
    {
     "data": {
      "text/html": [
       "<div>\n",
       "<style scoped>\n",
       "    .dataframe tbody tr th:only-of-type {\n",
       "        vertical-align: middle;\n",
       "    }\n",
       "\n",
       "    .dataframe tbody tr th {\n",
       "        vertical-align: top;\n",
       "    }\n",
       "\n",
       "    .dataframe thead tr th {\n",
       "        text-align: left;\n",
       "    }\n",
       "\n",
       "    .dataframe thead tr:last-of-type th {\n",
       "        text-align: right;\n",
       "    }\n",
       "</style>\n",
       "<table border=\"1\" class=\"dataframe\">\n",
       "  <thead>\n",
       "    <tr>\n",
       "      <th></th>\n",
       "      <th colspan=\"3\" halign=\"left\">days_since_prior_order</th>\n",
       "    </tr>\n",
       "    <tr>\n",
       "      <th></th>\n",
       "      <th>mean</th>\n",
       "      <th>min</th>\n",
       "      <th>max</th>\n",
       "    </tr>\n",
       "    <tr>\n",
       "      <th>age_group</th>\n",
       "      <th></th>\n",
       "      <th></th>\n",
       "      <th></th>\n",
       "    </tr>\n",
       "  </thead>\n",
       "  <tbody>\n",
       "    <tr>\n",
       "      <th>18-20</th>\n",
       "      <td>10.879727</td>\n",
       "      <td>0.0</td>\n",
       "      <td>30.0</td>\n",
       "    </tr>\n",
       "    <tr>\n",
       "      <th>21-30</th>\n",
       "      <td>10.826257</td>\n",
       "      <td>0.0</td>\n",
       "      <td>30.0</td>\n",
       "    </tr>\n",
       "    <tr>\n",
       "      <th>31-40</th>\n",
       "      <td>10.780001</td>\n",
       "      <td>0.0</td>\n",
       "      <td>30.0</td>\n",
       "    </tr>\n",
       "    <tr>\n",
       "      <th>41-50</th>\n",
       "      <td>10.797482</td>\n",
       "      <td>0.0</td>\n",
       "      <td>30.0</td>\n",
       "    </tr>\n",
       "    <tr>\n",
       "      <th>51-60</th>\n",
       "      <td>10.855066</td>\n",
       "      <td>0.0</td>\n",
       "      <td>30.0</td>\n",
       "    </tr>\n",
       "    <tr>\n",
       "      <th>61-70</th>\n",
       "      <td>10.777195</td>\n",
       "      <td>0.0</td>\n",
       "      <td>30.0</td>\n",
       "    </tr>\n",
       "    <tr>\n",
       "      <th>71-80</th>\n",
       "      <td>10.802299</td>\n",
       "      <td>0.0</td>\n",
       "      <td>30.0</td>\n",
       "    </tr>\n",
       "    <tr>\n",
       "      <th>80+</th>\n",
       "      <td>10.838324</td>\n",
       "      <td>0.0</td>\n",
       "      <td>30.0</td>\n",
       "    </tr>\n",
       "  </tbody>\n",
       "</table>\n",
       "</div>"
      ],
      "text/plain": [
       "          days_since_prior_order           \n",
       "                            mean  min   max\n",
       "age_group                                  \n",
       "18-20                  10.879727  0.0  30.0\n",
       "21-30                  10.826257  0.0  30.0\n",
       "31-40                  10.780001  0.0  30.0\n",
       "41-50                  10.797482  0.0  30.0\n",
       "51-60                  10.855066  0.0  30.0\n",
       "61-70                  10.777195  0.0  30.0\n",
       "71-80                  10.802299  0.0  30.0\n",
       "80+                    10.838324  0.0  30.0"
      ]
     },
     "execution_count": 49,
     "metadata": {},
     "output_type": "execute_result"
    }
   ],
   "source": [
    "# Check\n",
    "\n",
    "frequency_age"
   ]
  },
  {
   "cell_type": "code",
   "execution_count": 50,
   "id": "ac6a90c9",
   "metadata": {},
   "outputs": [],
   "source": [
    "# Export to xls\n",
    "\n",
    "frequency_age.to_clipboard()"
   ]
  },
  {
   "cell_type": "markdown",
   "id": "a1cd4a1b",
   "metadata": {},
   "source": [
    "\n"
   ]
  },
  {
   "cell_type": "markdown",
   "id": "367b156c",
   "metadata": {},
   "source": [
    ":: Marital Status - expenditure and frequency"
   ]
  },
  {
   "cell_type": "code",
   "execution_count": 51,
   "id": "2e2ee520",
   "metadata": {},
   "outputs": [],
   "source": [
    "# Expenditure by marital status\n",
    "\n",
    "expenditure_maritalstatus = df_10RC.groupby('marital_status').agg({'prices': ['mean', 'min', 'max']})"
   ]
  },
  {
   "cell_type": "code",
   "execution_count": 52,
   "id": "8d0cb194",
   "metadata": {},
   "outputs": [
    {
     "data": {
      "text/html": [
       "<div>\n",
       "<style scoped>\n",
       "    .dataframe tbody tr th:only-of-type {\n",
       "        vertical-align: middle;\n",
       "    }\n",
       "\n",
       "    .dataframe tbody tr th {\n",
       "        vertical-align: top;\n",
       "    }\n",
       "\n",
       "    .dataframe thead tr th {\n",
       "        text-align: left;\n",
       "    }\n",
       "\n",
       "    .dataframe thead tr:last-of-type th {\n",
       "        text-align: right;\n",
       "    }\n",
       "</style>\n",
       "<table border=\"1\" class=\"dataframe\">\n",
       "  <thead>\n",
       "    <tr>\n",
       "      <th></th>\n",
       "      <th colspan=\"3\" halign=\"left\">prices</th>\n",
       "    </tr>\n",
       "    <tr>\n",
       "      <th></th>\n",
       "      <th>mean</th>\n",
       "      <th>min</th>\n",
       "      <th>max</th>\n",
       "    </tr>\n",
       "    <tr>\n",
       "      <th>marital_status</th>\n",
       "      <th></th>\n",
       "      <th></th>\n",
       "      <th></th>\n",
       "    </tr>\n",
       "  </thead>\n",
       "  <tbody>\n",
       "    <tr>\n",
       "      <th>divorced/widowed</th>\n",
       "      <td>7.801016</td>\n",
       "      <td>1.0</td>\n",
       "      <td>25.0</td>\n",
       "    </tr>\n",
       "    <tr>\n",
       "      <th>living with parents and siblings</th>\n",
       "      <td>7.800604</td>\n",
       "      <td>1.0</td>\n",
       "      <td>25.0</td>\n",
       "    </tr>\n",
       "    <tr>\n",
       "      <th>married</th>\n",
       "      <td>7.790278</td>\n",
       "      <td>1.0</td>\n",
       "      <td>25.0</td>\n",
       "    </tr>\n",
       "    <tr>\n",
       "      <th>single</th>\n",
       "      <td>7.783597</td>\n",
       "      <td>1.0</td>\n",
       "      <td>25.0</td>\n",
       "    </tr>\n",
       "  </tbody>\n",
       "</table>\n",
       "</div>"
      ],
      "text/plain": [
       "                                    prices           \n",
       "                                      mean  min   max\n",
       "marital_status                                       \n",
       "divorced/widowed                  7.801016  1.0  25.0\n",
       "living with parents and siblings  7.800604  1.0  25.0\n",
       "married                           7.790278  1.0  25.0\n",
       "single                            7.783597  1.0  25.0"
      ]
     },
     "execution_count": 52,
     "metadata": {},
     "output_type": "execute_result"
    }
   ],
   "source": [
    "# Check\n",
    "\n",
    "expenditure_maritalstatus"
   ]
  },
  {
   "cell_type": "code",
   "execution_count": 53,
   "id": "757095c5",
   "metadata": {},
   "outputs": [],
   "source": [
    "# Export to xls\n",
    "\n",
    "expenditure_maritalstatus.to_clipboard()"
   ]
  },
  {
   "cell_type": "code",
   "execution_count": 54,
   "id": "99c913ac",
   "metadata": {},
   "outputs": [],
   "source": [
    "# Frequency by marital status\n",
    "\n",
    "frequency_maritalstatus = df_10RC.groupby('marital_status').agg({'days_since_prior_order': ['mean', 'min', 'max']})"
   ]
  },
  {
   "cell_type": "code",
   "execution_count": 55,
   "id": "4cac025b",
   "metadata": {},
   "outputs": [
    {
     "data": {
      "text/html": [
       "<div>\n",
       "<style scoped>\n",
       "    .dataframe tbody tr th:only-of-type {\n",
       "        vertical-align: middle;\n",
       "    }\n",
       "\n",
       "    .dataframe tbody tr th {\n",
       "        vertical-align: top;\n",
       "    }\n",
       "\n",
       "    .dataframe thead tr th {\n",
       "        text-align: left;\n",
       "    }\n",
       "\n",
       "    .dataframe thead tr:last-of-type th {\n",
       "        text-align: right;\n",
       "    }\n",
       "</style>\n",
       "<table border=\"1\" class=\"dataframe\">\n",
       "  <thead>\n",
       "    <tr>\n",
       "      <th></th>\n",
       "      <th colspan=\"3\" halign=\"left\">days_since_prior_order</th>\n",
       "    </tr>\n",
       "    <tr>\n",
       "      <th></th>\n",
       "      <th>mean</th>\n",
       "      <th>min</th>\n",
       "      <th>max</th>\n",
       "    </tr>\n",
       "    <tr>\n",
       "      <th>marital_status</th>\n",
       "      <th></th>\n",
       "      <th></th>\n",
       "      <th></th>\n",
       "    </tr>\n",
       "  </thead>\n",
       "  <tbody>\n",
       "    <tr>\n",
       "      <th>divorced/widowed</th>\n",
       "      <td>10.750595</td>\n",
       "      <td>0.0</td>\n",
       "      <td>30.0</td>\n",
       "    </tr>\n",
       "    <tr>\n",
       "      <th>living with parents and siblings</th>\n",
       "      <td>10.750737</td>\n",
       "      <td>0.0</td>\n",
       "      <td>30.0</td>\n",
       "    </tr>\n",
       "    <tr>\n",
       "      <th>married</th>\n",
       "      <td>10.821062</td>\n",
       "      <td>0.0</td>\n",
       "      <td>30.0</td>\n",
       "    </tr>\n",
       "    <tr>\n",
       "      <th>single</th>\n",
       "      <td>10.813127</td>\n",
       "      <td>0.0</td>\n",
       "      <td>30.0</td>\n",
       "    </tr>\n",
       "  </tbody>\n",
       "</table>\n",
       "</div>"
      ],
      "text/plain": [
       "                                 days_since_prior_order           \n",
       "                                                   mean  min   max\n",
       "marital_status                                                    \n",
       "divorced/widowed                              10.750595  0.0  30.0\n",
       "living with parents and siblings              10.750737  0.0  30.0\n",
       "married                                       10.821062  0.0  30.0\n",
       "single                                        10.813127  0.0  30.0"
      ]
     },
     "execution_count": 55,
     "metadata": {},
     "output_type": "execute_result"
    }
   ],
   "source": [
    "# Check\n",
    "\n",
    "frequency_maritalstatus"
   ]
  },
  {
   "cell_type": "code",
   "execution_count": 56,
   "id": "3e12c886",
   "metadata": {},
   "outputs": [],
   "source": [
    "# Export to xls\n",
    "\n",
    "frequency_maritalstatus.to_clipboard()"
   ]
  },
  {
   "cell_type": "markdown",
   "id": "0712c5d3",
   "metadata": {},
   "source": [
    "\n"
   ]
  },
  {
   "cell_type": "markdown",
   "id": "f63155ae",
   "metadata": {},
   "source": [
    ":: Parental Status - expenditure and frequency"
   ]
  },
  {
   "cell_type": "code",
   "execution_count": 57,
   "id": "cedc2e6b",
   "metadata": {},
   "outputs": [],
   "source": [
    "# Expenditure by parental status\n",
    "\n",
    "expenditure_parentalstatus = df_10RC.groupby('parental_status').agg({'prices': ['mean', 'min', 'max']})"
   ]
  },
  {
   "cell_type": "code",
   "execution_count": 58,
   "id": "56a6186f",
   "metadata": {},
   "outputs": [
    {
     "data": {
      "text/html": [
       "<div>\n",
       "<style scoped>\n",
       "    .dataframe tbody tr th:only-of-type {\n",
       "        vertical-align: middle;\n",
       "    }\n",
       "\n",
       "    .dataframe tbody tr th {\n",
       "        vertical-align: top;\n",
       "    }\n",
       "\n",
       "    .dataframe thead tr th {\n",
       "        text-align: left;\n",
       "    }\n",
       "\n",
       "    .dataframe thead tr:last-of-type th {\n",
       "        text-align: right;\n",
       "    }\n",
       "</style>\n",
       "<table border=\"1\" class=\"dataframe\">\n",
       "  <thead>\n",
       "    <tr>\n",
       "      <th></th>\n",
       "      <th colspan=\"3\" halign=\"left\">prices</th>\n",
       "    </tr>\n",
       "    <tr>\n",
       "      <th></th>\n",
       "      <th>mean</th>\n",
       "      <th>min</th>\n",
       "      <th>max</th>\n",
       "    </tr>\n",
       "    <tr>\n",
       "      <th>parental_status</th>\n",
       "      <th></th>\n",
       "      <th></th>\n",
       "      <th></th>\n",
       "    </tr>\n",
       "  </thead>\n",
       "  <tbody>\n",
       "    <tr>\n",
       "      <th>non-parent</th>\n",
       "      <td>7.789550</td>\n",
       "      <td>1.0</td>\n",
       "      <td>25.0</td>\n",
       "    </tr>\n",
       "    <tr>\n",
       "      <th>parent</th>\n",
       "      <td>7.790937</td>\n",
       "      <td>1.0</td>\n",
       "      <td>25.0</td>\n",
       "    </tr>\n",
       "  </tbody>\n",
       "</table>\n",
       "</div>"
      ],
      "text/plain": [
       "                   prices           \n",
       "                     mean  min   max\n",
       "parental_status                     \n",
       "non-parent       7.789550  1.0  25.0\n",
       "parent           7.790937  1.0  25.0"
      ]
     },
     "execution_count": 58,
     "metadata": {},
     "output_type": "execute_result"
    }
   ],
   "source": [
    "# Check\n",
    "\n",
    "expenditure_parentalstatus"
   ]
  },
  {
   "cell_type": "code",
   "execution_count": 59,
   "id": "26e8725f",
   "metadata": {},
   "outputs": [],
   "source": [
    "# Export to xls\n",
    "\n",
    "expenditure_parentalstatus.to_clipboard()"
   ]
  },
  {
   "cell_type": "code",
   "execution_count": 60,
   "id": "78d175fa",
   "metadata": {},
   "outputs": [],
   "source": [
    "# Frequency by parental status\n",
    "\n",
    "frequency_parentalstatus = df_10RC.groupby('parental_status').agg({'days_since_prior_order': ['mean', 'min', 'max']})"
   ]
  },
  {
   "cell_type": "code",
   "execution_count": 61,
   "id": "a8089416",
   "metadata": {},
   "outputs": [
    {
     "data": {
      "text/html": [
       "<div>\n",
       "<style scoped>\n",
       "    .dataframe tbody tr th:only-of-type {\n",
       "        vertical-align: middle;\n",
       "    }\n",
       "\n",
       "    .dataframe tbody tr th {\n",
       "        vertical-align: top;\n",
       "    }\n",
       "\n",
       "    .dataframe thead tr th {\n",
       "        text-align: left;\n",
       "    }\n",
       "\n",
       "    .dataframe thead tr:last-of-type th {\n",
       "        text-align: right;\n",
       "    }\n",
       "</style>\n",
       "<table border=\"1\" class=\"dataframe\">\n",
       "  <thead>\n",
       "    <tr>\n",
       "      <th></th>\n",
       "      <th colspan=\"3\" halign=\"left\">days_since_prior_order</th>\n",
       "    </tr>\n",
       "    <tr>\n",
       "      <th></th>\n",
       "      <th>mean</th>\n",
       "      <th>min</th>\n",
       "      <th>max</th>\n",
       "    </tr>\n",
       "    <tr>\n",
       "      <th>parental_status</th>\n",
       "      <th></th>\n",
       "      <th></th>\n",
       "      <th></th>\n",
       "    </tr>\n",
       "  </thead>\n",
       "  <tbody>\n",
       "    <tr>\n",
       "      <th>non-parent</th>\n",
       "      <td>10.791750</td>\n",
       "      <td>0.0</td>\n",
       "      <td>30.0</td>\n",
       "    </tr>\n",
       "    <tr>\n",
       "      <th>parent</th>\n",
       "      <td>10.816574</td>\n",
       "      <td>0.0</td>\n",
       "      <td>30.0</td>\n",
       "    </tr>\n",
       "  </tbody>\n",
       "</table>\n",
       "</div>"
      ],
      "text/plain": [
       "                days_since_prior_order           \n",
       "                                  mean  min   max\n",
       "parental_status                                  \n",
       "non-parent                   10.791750  0.0  30.0\n",
       "parent                       10.816574  0.0  30.0"
      ]
     },
     "execution_count": 61,
     "metadata": {},
     "output_type": "execute_result"
    }
   ],
   "source": [
    "# Check\n",
    "\n",
    "frequency_parentalstatus"
   ]
  },
  {
   "cell_type": "code",
   "execution_count": 62,
   "id": "8019c6b1",
   "metadata": {},
   "outputs": [],
   "source": [
    "# Export to xls\n",
    "\n",
    "frequency_parentalstatus.to_clipboard()"
   ]
  },
  {
   "cell_type": "markdown",
   "id": "e3d638a8",
   "metadata": {},
   "source": [
    "\n"
   ]
  },
  {
   "cell_type": "markdown",
   "id": "74f7380d",
   "metadata": {},
   "source": [
    ":: Income - expenditure and frequency"
   ]
  },
  {
   "cell_type": "code",
   "execution_count": 63,
   "id": "60b2c1f4",
   "metadata": {},
   "outputs": [],
   "source": [
    "# Expenditure by income bracket\n",
    "\n",
    "expenditure_incomeb = df_10RC.groupby('income_b').agg({'prices': ['mean', 'min', 'max']})"
   ]
  },
  {
   "cell_type": "code",
   "execution_count": 64,
   "id": "b192fead",
   "metadata": {},
   "outputs": [
    {
     "data": {
      "text/html": [
       "<div>\n",
       "<style scoped>\n",
       "    .dataframe tbody tr th:only-of-type {\n",
       "        vertical-align: middle;\n",
       "    }\n",
       "\n",
       "    .dataframe tbody tr th {\n",
       "        vertical-align: top;\n",
       "    }\n",
       "\n",
       "    .dataframe thead tr th {\n",
       "        text-align: left;\n",
       "    }\n",
       "\n",
       "    .dataframe thead tr:last-of-type th {\n",
       "        text-align: right;\n",
       "    }\n",
       "</style>\n",
       "<table border=\"1\" class=\"dataframe\">\n",
       "  <thead>\n",
       "    <tr>\n",
       "      <th></th>\n",
       "      <th colspan=\"3\" halign=\"left\">prices</th>\n",
       "    </tr>\n",
       "    <tr>\n",
       "      <th></th>\n",
       "      <th>mean</th>\n",
       "      <th>min</th>\n",
       "      <th>max</th>\n",
       "    </tr>\n",
       "    <tr>\n",
       "      <th>income_b</th>\n",
       "      <th></th>\n",
       "      <th></th>\n",
       "      <th></th>\n",
       "    </tr>\n",
       "  </thead>\n",
       "  <tbody>\n",
       "    <tr>\n",
       "      <th>025000-050000</th>\n",
       "      <td>6.707347</td>\n",
       "      <td>1.0</td>\n",
       "      <td>25.0</td>\n",
       "    </tr>\n",
       "    <tr>\n",
       "      <th>050000-075000</th>\n",
       "      <td>7.819748</td>\n",
       "      <td>1.0</td>\n",
       "      <td>25.0</td>\n",
       "    </tr>\n",
       "    <tr>\n",
       "      <th>075000-100000</th>\n",
       "      <td>7.956828</td>\n",
       "      <td>1.0</td>\n",
       "      <td>25.0</td>\n",
       "    </tr>\n",
       "    <tr>\n",
       "      <th>100000-125000</th>\n",
       "      <td>7.956571</td>\n",
       "      <td>1.0</td>\n",
       "      <td>25.0</td>\n",
       "    </tr>\n",
       "    <tr>\n",
       "      <th>125000-150000</th>\n",
       "      <td>7.960370</td>\n",
       "      <td>1.0</td>\n",
       "      <td>25.0</td>\n",
       "    </tr>\n",
       "    <tr>\n",
       "      <th>150000+</th>\n",
       "      <td>7.940856</td>\n",
       "      <td>1.0</td>\n",
       "      <td>25.0</td>\n",
       "    </tr>\n",
       "  </tbody>\n",
       "</table>\n",
       "</div>"
      ],
      "text/plain": [
       "                 prices           \n",
       "                   mean  min   max\n",
       "income_b                          \n",
       "025000-050000  6.707347  1.0  25.0\n",
       "050000-075000  7.819748  1.0  25.0\n",
       "075000-100000  7.956828  1.0  25.0\n",
       "100000-125000  7.956571  1.0  25.0\n",
       "125000-150000  7.960370  1.0  25.0\n",
       "150000+        7.940856  1.0  25.0"
      ]
     },
     "execution_count": 64,
     "metadata": {},
     "output_type": "execute_result"
    }
   ],
   "source": [
    "# Check\n",
    "\n",
    "expenditure_incomeb"
   ]
  },
  {
   "cell_type": "code",
   "execution_count": 65,
   "id": "593209cf",
   "metadata": {},
   "outputs": [],
   "source": [
    "# Export to xls\n",
    "\n",
    "expenditure_incomeb.to_clipboard()"
   ]
  },
  {
   "cell_type": "code",
   "execution_count": 66,
   "id": "1cf35f4c",
   "metadata": {},
   "outputs": [],
   "source": [
    "# Frequency by income bracket\n",
    "\n",
    "frequency_incomeb = df_10RC.groupby('income_b').agg({'days_since_prior_order': ['mean', 'min', 'max']})"
   ]
  },
  {
   "cell_type": "code",
   "execution_count": 67,
   "id": "f03f7e7d",
   "metadata": {},
   "outputs": [
    {
     "data": {
      "text/html": [
       "<div>\n",
       "<style scoped>\n",
       "    .dataframe tbody tr th:only-of-type {\n",
       "        vertical-align: middle;\n",
       "    }\n",
       "\n",
       "    .dataframe tbody tr th {\n",
       "        vertical-align: top;\n",
       "    }\n",
       "\n",
       "    .dataframe thead tr th {\n",
       "        text-align: left;\n",
       "    }\n",
       "\n",
       "    .dataframe thead tr:last-of-type th {\n",
       "        text-align: right;\n",
       "    }\n",
       "</style>\n",
       "<table border=\"1\" class=\"dataframe\">\n",
       "  <thead>\n",
       "    <tr>\n",
       "      <th></th>\n",
       "      <th colspan=\"3\" halign=\"left\">days_since_prior_order</th>\n",
       "    </tr>\n",
       "    <tr>\n",
       "      <th></th>\n",
       "      <th>mean</th>\n",
       "      <th>min</th>\n",
       "      <th>max</th>\n",
       "    </tr>\n",
       "    <tr>\n",
       "      <th>income_b</th>\n",
       "      <th></th>\n",
       "      <th></th>\n",
       "      <th></th>\n",
       "    </tr>\n",
       "  </thead>\n",
       "  <tbody>\n",
       "    <tr>\n",
       "      <th>025000-050000</th>\n",
       "      <td>11.175680</td>\n",
       "      <td>0.0</td>\n",
       "      <td>30.0</td>\n",
       "    </tr>\n",
       "    <tr>\n",
       "      <th>050000-075000</th>\n",
       "      <td>10.760578</td>\n",
       "      <td>0.0</td>\n",
       "      <td>30.0</td>\n",
       "    </tr>\n",
       "    <tr>\n",
       "      <th>075000-100000</th>\n",
       "      <td>10.763394</td>\n",
       "      <td>0.0</td>\n",
       "      <td>30.0</td>\n",
       "    </tr>\n",
       "    <tr>\n",
       "      <th>100000-125000</th>\n",
       "      <td>10.790618</td>\n",
       "      <td>0.0</td>\n",
       "      <td>30.0</td>\n",
       "    </tr>\n",
       "    <tr>\n",
       "      <th>125000-150000</th>\n",
       "      <td>10.818219</td>\n",
       "      <td>0.0</td>\n",
       "      <td>30.0</td>\n",
       "    </tr>\n",
       "    <tr>\n",
       "      <th>150000+</th>\n",
       "      <td>10.684130</td>\n",
       "      <td>0.0</td>\n",
       "      <td>30.0</td>\n",
       "    </tr>\n",
       "  </tbody>\n",
       "</table>\n",
       "</div>"
      ],
      "text/plain": [
       "              days_since_prior_order           \n",
       "                                mean  min   max\n",
       "income_b                                       \n",
       "025000-050000              11.175680  0.0  30.0\n",
       "050000-075000              10.760578  0.0  30.0\n",
       "075000-100000              10.763394  0.0  30.0\n",
       "100000-125000              10.790618  0.0  30.0\n",
       "125000-150000              10.818219  0.0  30.0\n",
       "150000+                    10.684130  0.0  30.0"
      ]
     },
     "execution_count": 67,
     "metadata": {},
     "output_type": "execute_result"
    }
   ],
   "source": [
    "# Check\n",
    "\n",
    "frequency_incomeb"
   ]
  },
  {
   "cell_type": "code",
   "execution_count": 68,
   "id": "37520e14",
   "metadata": {},
   "outputs": [],
   "source": [
    "# Export to xls\n",
    "\n",
    "frequency_incomeb.to_clipboard()"
   ]
  },
  {
   "cell_type": "markdown",
   "id": "379f4b4c",
   "metadata": {},
   "source": [
    "\n"
   ]
  },
  {
   "cell_type": "markdown",
   "id": "f64ec2f9",
   "metadata": {},
   "source": [
    ":: Department - expenditure and frequency"
   ]
  },
  {
   "cell_type": "code",
   "execution_count": 69,
   "id": "6ce5f729",
   "metadata": {},
   "outputs": [],
   "source": [
    "# Expenditure by department\n",
    "\n",
    "expenditure_dept = df_10RC.groupby('dept_name').agg({'prices': ['mean', 'min', 'max']})"
   ]
  },
  {
   "cell_type": "code",
   "execution_count": 70,
   "id": "310bd648",
   "metadata": {},
   "outputs": [
    {
     "data": {
      "text/html": [
       "<div>\n",
       "<style scoped>\n",
       "    .dataframe tbody tr th:only-of-type {\n",
       "        vertical-align: middle;\n",
       "    }\n",
       "\n",
       "    .dataframe tbody tr th {\n",
       "        vertical-align: top;\n",
       "    }\n",
       "\n",
       "    .dataframe thead tr th {\n",
       "        text-align: left;\n",
       "    }\n",
       "\n",
       "    .dataframe thead tr:last-of-type th {\n",
       "        text-align: right;\n",
       "    }\n",
       "</style>\n",
       "<table border=\"1\" class=\"dataframe\">\n",
       "  <thead>\n",
       "    <tr>\n",
       "      <th></th>\n",
       "      <th colspan=\"3\" halign=\"left\">prices</th>\n",
       "    </tr>\n",
       "    <tr>\n",
       "      <th></th>\n",
       "      <th>mean</th>\n",
       "      <th>min</th>\n",
       "      <th>max</th>\n",
       "    </tr>\n",
       "    <tr>\n",
       "      <th>dept_name</th>\n",
       "      <th></th>\n",
       "      <th></th>\n",
       "      <th></th>\n",
       "    </tr>\n",
       "  </thead>\n",
       "  <tbody>\n",
       "    <tr>\n",
       "      <th>alcohol</th>\n",
       "      <td>8.150699</td>\n",
       "      <td>1.0</td>\n",
       "      <td>15.0</td>\n",
       "    </tr>\n",
       "    <tr>\n",
       "      <th>babies</th>\n",
       "      <td>7.634399</td>\n",
       "      <td>1.0</td>\n",
       "      <td>15.0</td>\n",
       "    </tr>\n",
       "    <tr>\n",
       "      <th>bakery</th>\n",
       "      <td>7.857482</td>\n",
       "      <td>1.0</td>\n",
       "      <td>15.0</td>\n",
       "    </tr>\n",
       "    <tr>\n",
       "      <th>beverages</th>\n",
       "      <td>7.682556</td>\n",
       "      <td>1.0</td>\n",
       "      <td>15.0</td>\n",
       "    </tr>\n",
       "    <tr>\n",
       "      <th>breakfast</th>\n",
       "      <td>8.031647</td>\n",
       "      <td>1.0</td>\n",
       "      <td>14.9</td>\n",
       "    </tr>\n",
       "    <tr>\n",
       "      <th>bulk</th>\n",
       "      <td>8.346919</td>\n",
       "      <td>1.4</td>\n",
       "      <td>14.1</td>\n",
       "    </tr>\n",
       "    <tr>\n",
       "      <th>canned goods</th>\n",
       "      <td>7.546660</td>\n",
       "      <td>1.0</td>\n",
       "      <td>15.0</td>\n",
       "    </tr>\n",
       "    <tr>\n",
       "      <th>dairy eggs</th>\n",
       "      <td>8.336374</td>\n",
       "      <td>1.0</td>\n",
       "      <td>15.0</td>\n",
       "    </tr>\n",
       "    <tr>\n",
       "      <th>deli</th>\n",
       "      <td>7.783347</td>\n",
       "      <td>1.0</td>\n",
       "      <td>15.0</td>\n",
       "    </tr>\n",
       "    <tr>\n",
       "      <th>dry goods pasta</th>\n",
       "      <td>7.349370</td>\n",
       "      <td>1.0</td>\n",
       "      <td>15.0</td>\n",
       "    </tr>\n",
       "    <tr>\n",
       "      <th>frozen</th>\n",
       "      <td>7.733724</td>\n",
       "      <td>1.0</td>\n",
       "      <td>15.0</td>\n",
       "    </tr>\n",
       "    <tr>\n",
       "      <th>households</th>\n",
       "      <td>7.379943</td>\n",
       "      <td>1.0</td>\n",
       "      <td>15.0</td>\n",
       "    </tr>\n",
       "    <tr>\n",
       "      <th>international</th>\n",
       "      <td>7.678797</td>\n",
       "      <td>1.0</td>\n",
       "      <td>15.0</td>\n",
       "    </tr>\n",
       "    <tr>\n",
       "      <th>meat seafood</th>\n",
       "      <td>16.300034</td>\n",
       "      <td>8.0</td>\n",
       "      <td>25.0</td>\n",
       "    </tr>\n",
       "    <tr>\n",
       "      <th>missing</th>\n",
       "      <td>8.660655</td>\n",
       "      <td>1.0</td>\n",
       "      <td>15.0</td>\n",
       "    </tr>\n",
       "    <tr>\n",
       "      <th>other</th>\n",
       "      <td>6.961995</td>\n",
       "      <td>1.1</td>\n",
       "      <td>15.0</td>\n",
       "    </tr>\n",
       "    <tr>\n",
       "      <th>pantry</th>\n",
       "      <td>8.014482</td>\n",
       "      <td>1.0</td>\n",
       "      <td>20.0</td>\n",
       "    </tr>\n",
       "    <tr>\n",
       "      <th>personal care</th>\n",
       "      <td>7.998744</td>\n",
       "      <td>1.0</td>\n",
       "      <td>15.0</td>\n",
       "    </tr>\n",
       "    <tr>\n",
       "      <th>pets</th>\n",
       "      <td>7.887489</td>\n",
       "      <td>1.0</td>\n",
       "      <td>15.0</td>\n",
       "    </tr>\n",
       "    <tr>\n",
       "      <th>produce</th>\n",
       "      <td>7.980349</td>\n",
       "      <td>1.0</td>\n",
       "      <td>15.0</td>\n",
       "    </tr>\n",
       "    <tr>\n",
       "      <th>snacks</th>\n",
       "      <td>4.275555</td>\n",
       "      <td>1.6</td>\n",
       "      <td>7.0</td>\n",
       "    </tr>\n",
       "  </tbody>\n",
       "</table>\n",
       "</div>"
      ],
      "text/plain": [
       "                    prices           \n",
       "                      mean  min   max\n",
       "dept_name                            \n",
       "alcohol           8.150699  1.0  15.0\n",
       "babies            7.634399  1.0  15.0\n",
       "bakery            7.857482  1.0  15.0\n",
       "beverages         7.682556  1.0  15.0\n",
       "breakfast         8.031647  1.0  14.9\n",
       "bulk              8.346919  1.4  14.1\n",
       "canned goods      7.546660  1.0  15.0\n",
       "dairy eggs        8.336374  1.0  15.0\n",
       "deli              7.783347  1.0  15.0\n",
       "dry goods pasta   7.349370  1.0  15.0\n",
       "frozen            7.733724  1.0  15.0\n",
       "households        7.379943  1.0  15.0\n",
       "international     7.678797  1.0  15.0\n",
       "meat seafood     16.300034  8.0  25.0\n",
       "missing           8.660655  1.0  15.0\n",
       "other             6.961995  1.1  15.0\n",
       "pantry            8.014482  1.0  20.0\n",
       "personal care     7.998744  1.0  15.0\n",
       "pets              7.887489  1.0  15.0\n",
       "produce           7.980349  1.0  15.0\n",
       "snacks            4.275555  1.6   7.0"
      ]
     },
     "execution_count": 70,
     "metadata": {},
     "output_type": "execute_result"
    }
   ],
   "source": [
    "# Check\n",
    "\n",
    "expenditure_dept"
   ]
  },
  {
   "cell_type": "code",
   "execution_count": 71,
   "id": "743f780b",
   "metadata": {},
   "outputs": [],
   "source": [
    "# Export to xls\n",
    "\n",
    "expenditure_dept.to_clipboard()"
   ]
  },
  {
   "cell_type": "code",
   "execution_count": 72,
   "id": "0b6a7923",
   "metadata": {},
   "outputs": [],
   "source": [
    "# Frequency by department\n",
    "\n",
    "frequency_dept = df_10RC.groupby('dept_name').agg({'days_since_prior_order': ['mean', 'min', 'max']})"
   ]
  },
  {
   "cell_type": "code",
   "execution_count": 73,
   "id": "4dab0002",
   "metadata": {},
   "outputs": [
    {
     "data": {
      "text/html": [
       "<div>\n",
       "<style scoped>\n",
       "    .dataframe tbody tr th:only-of-type {\n",
       "        vertical-align: middle;\n",
       "    }\n",
       "\n",
       "    .dataframe tbody tr th {\n",
       "        vertical-align: top;\n",
       "    }\n",
       "\n",
       "    .dataframe thead tr th {\n",
       "        text-align: left;\n",
       "    }\n",
       "\n",
       "    .dataframe thead tr:last-of-type th {\n",
       "        text-align: right;\n",
       "    }\n",
       "</style>\n",
       "<table border=\"1\" class=\"dataframe\">\n",
       "  <thead>\n",
       "    <tr>\n",
       "      <th></th>\n",
       "      <th colspan=\"3\" halign=\"left\">days_since_prior_order</th>\n",
       "    </tr>\n",
       "    <tr>\n",
       "      <th></th>\n",
       "      <th>mean</th>\n",
       "      <th>min</th>\n",
       "      <th>max</th>\n",
       "    </tr>\n",
       "    <tr>\n",
       "      <th>dept_name</th>\n",
       "      <th></th>\n",
       "      <th></th>\n",
       "      <th></th>\n",
       "    </tr>\n",
       "  </thead>\n",
       "  <tbody>\n",
       "    <tr>\n",
       "      <th>alcohol</th>\n",
       "      <td>10.006658</td>\n",
       "      <td>0.0</td>\n",
       "      <td>30.0</td>\n",
       "    </tr>\n",
       "    <tr>\n",
       "      <th>babies</th>\n",
       "      <td>9.780844</td>\n",
       "      <td>0.0</td>\n",
       "      <td>30.0</td>\n",
       "    </tr>\n",
       "    <tr>\n",
       "      <th>bakery</th>\n",
       "      <td>10.808401</td>\n",
       "      <td>0.0</td>\n",
       "      <td>30.0</td>\n",
       "    </tr>\n",
       "    <tr>\n",
       "      <th>beverages</th>\n",
       "      <td>10.768469</td>\n",
       "      <td>0.0</td>\n",
       "      <td>30.0</td>\n",
       "    </tr>\n",
       "    <tr>\n",
       "      <th>breakfast</th>\n",
       "      <td>11.001313</td>\n",
       "      <td>0.0</td>\n",
       "      <td>30.0</td>\n",
       "    </tr>\n",
       "    <tr>\n",
       "      <th>bulk</th>\n",
       "      <td>9.880211</td>\n",
       "      <td>0.0</td>\n",
       "      <td>30.0</td>\n",
       "    </tr>\n",
       "    <tr>\n",
       "      <th>canned goods</th>\n",
       "      <td>11.316872</td>\n",
       "      <td>0.0</td>\n",
       "      <td>30.0</td>\n",
       "    </tr>\n",
       "    <tr>\n",
       "      <th>dairy eggs</th>\n",
       "      <td>10.709201</td>\n",
       "      <td>0.0</td>\n",
       "      <td>30.0</td>\n",
       "    </tr>\n",
       "    <tr>\n",
       "      <th>deli</th>\n",
       "      <td>11.051389</td>\n",
       "      <td>0.0</td>\n",
       "      <td>30.0</td>\n",
       "    </tr>\n",
       "    <tr>\n",
       "      <th>dry goods pasta</th>\n",
       "      <td>11.440362</td>\n",
       "      <td>0.0</td>\n",
       "      <td>30.0</td>\n",
       "    </tr>\n",
       "    <tr>\n",
       "      <th>frozen</th>\n",
       "      <td>11.413880</td>\n",
       "      <td>0.0</td>\n",
       "      <td>30.0</td>\n",
       "    </tr>\n",
       "    <tr>\n",
       "      <th>households</th>\n",
       "      <td>11.649305</td>\n",
       "      <td>0.0</td>\n",
       "      <td>30.0</td>\n",
       "    </tr>\n",
       "    <tr>\n",
       "      <th>international</th>\n",
       "      <td>10.963731</td>\n",
       "      <td>0.0</td>\n",
       "      <td>30.0</td>\n",
       "    </tr>\n",
       "    <tr>\n",
       "      <th>meat seafood</th>\n",
       "      <td>11.123647</td>\n",
       "      <td>0.0</td>\n",
       "      <td>30.0</td>\n",
       "    </tr>\n",
       "    <tr>\n",
       "      <th>missing</th>\n",
       "      <td>9.869551</td>\n",
       "      <td>0.0</td>\n",
       "      <td>30.0</td>\n",
       "    </tr>\n",
       "    <tr>\n",
       "      <th>other</th>\n",
       "      <td>10.624647</td>\n",
       "      <td>0.0</td>\n",
       "      <td>30.0</td>\n",
       "    </tr>\n",
       "    <tr>\n",
       "      <th>pantry</th>\n",
       "      <td>10.835976</td>\n",
       "      <td>0.0</td>\n",
       "      <td>30.0</td>\n",
       "    </tr>\n",
       "    <tr>\n",
       "      <th>personal care</th>\n",
       "      <td>11.256240</td>\n",
       "      <td>0.0</td>\n",
       "      <td>30.0</td>\n",
       "    </tr>\n",
       "    <tr>\n",
       "      <th>pets</th>\n",
       "      <td>11.593531</td>\n",
       "      <td>0.0</td>\n",
       "      <td>30.0</td>\n",
       "    </tr>\n",
       "    <tr>\n",
       "      <th>produce</th>\n",
       "      <td>10.574118</td>\n",
       "      <td>0.0</td>\n",
       "      <td>30.0</td>\n",
       "    </tr>\n",
       "    <tr>\n",
       "      <th>snacks</th>\n",
       "      <td>10.671110</td>\n",
       "      <td>0.0</td>\n",
       "      <td>30.0</td>\n",
       "    </tr>\n",
       "  </tbody>\n",
       "</table>\n",
       "</div>"
      ],
      "text/plain": [
       "                days_since_prior_order           \n",
       "                                  mean  min   max\n",
       "dept_name                                        \n",
       "alcohol                      10.006658  0.0  30.0\n",
       "babies                        9.780844  0.0  30.0\n",
       "bakery                       10.808401  0.0  30.0\n",
       "beverages                    10.768469  0.0  30.0\n",
       "breakfast                    11.001313  0.0  30.0\n",
       "bulk                          9.880211  0.0  30.0\n",
       "canned goods                 11.316872  0.0  30.0\n",
       "dairy eggs                   10.709201  0.0  30.0\n",
       "deli                         11.051389  0.0  30.0\n",
       "dry goods pasta              11.440362  0.0  30.0\n",
       "frozen                       11.413880  0.0  30.0\n",
       "households                   11.649305  0.0  30.0\n",
       "international                10.963731  0.0  30.0\n",
       "meat seafood                 11.123647  0.0  30.0\n",
       "missing                       9.869551  0.0  30.0\n",
       "other                        10.624647  0.0  30.0\n",
       "pantry                       10.835976  0.0  30.0\n",
       "personal care                11.256240  0.0  30.0\n",
       "pets                         11.593531  0.0  30.0\n",
       "produce                      10.574118  0.0  30.0\n",
       "snacks                       10.671110  0.0  30.0"
      ]
     },
     "execution_count": 73,
     "metadata": {},
     "output_type": "execute_result"
    }
   ],
   "source": [
    "# Check\n",
    "\n",
    "frequency_dept"
   ]
  },
  {
   "cell_type": "code",
   "execution_count": 74,
   "id": "27b24286",
   "metadata": {},
   "outputs": [],
   "source": [
    "# Export to xls\n",
    "\n",
    "frequency_dept.to_clipboard()"
   ]
  },
  {
   "cell_type": "markdown",
   "id": "175687a1",
   "metadata": {},
   "source": [
    "\n"
   ]
  },
  {
   "cell_type": "markdown",
   "id": "e744ada8",
   "metadata": {},
   "source": [
    ":: Day of the week - expenditure and frequency"
   ]
  },
  {
   "cell_type": "code",
   "execution_count": 75,
   "id": "7630a172",
   "metadata": {},
   "outputs": [],
   "source": [
    "# Expenditure by day of the week\n",
    "\n",
    "expenditure_dow = df_10RC.groupby('day_name').agg({'prices': ['mean', 'min', 'max']})"
   ]
  },
  {
   "cell_type": "code",
   "execution_count": 76,
   "id": "80528e26",
   "metadata": {},
   "outputs": [
    {
     "data": {
      "text/html": [
       "<div>\n",
       "<style scoped>\n",
       "    .dataframe tbody tr th:only-of-type {\n",
       "        vertical-align: middle;\n",
       "    }\n",
       "\n",
       "    .dataframe tbody tr th {\n",
       "        vertical-align: top;\n",
       "    }\n",
       "\n",
       "    .dataframe thead tr th {\n",
       "        text-align: left;\n",
       "    }\n",
       "\n",
       "    .dataframe thead tr:last-of-type th {\n",
       "        text-align: right;\n",
       "    }\n",
       "</style>\n",
       "<table border=\"1\" class=\"dataframe\">\n",
       "  <thead>\n",
       "    <tr>\n",
       "      <th></th>\n",
       "      <th colspan=\"3\" halign=\"left\">prices</th>\n",
       "    </tr>\n",
       "    <tr>\n",
       "      <th></th>\n",
       "      <th>mean</th>\n",
       "      <th>min</th>\n",
       "      <th>max</th>\n",
       "    </tr>\n",
       "    <tr>\n",
       "      <th>day_name</th>\n",
       "      <th></th>\n",
       "      <th></th>\n",
       "      <th></th>\n",
       "    </tr>\n",
       "  </thead>\n",
       "  <tbody>\n",
       "    <tr>\n",
       "      <th>friday</th>\n",
       "      <td>7.857788</td>\n",
       "      <td>1.0</td>\n",
       "      <td>25.0</td>\n",
       "    </tr>\n",
       "    <tr>\n",
       "      <th>monday</th>\n",
       "      <td>7.754532</td>\n",
       "      <td>1.0</td>\n",
       "      <td>25.0</td>\n",
       "    </tr>\n",
       "    <tr>\n",
       "      <th>saturday</th>\n",
       "      <td>7.857898</td>\n",
       "      <td>1.0</td>\n",
       "      <td>25.0</td>\n",
       "    </tr>\n",
       "    <tr>\n",
       "      <th>sunday</th>\n",
       "      <td>7.757879</td>\n",
       "      <td>1.0</td>\n",
       "      <td>25.0</td>\n",
       "    </tr>\n",
       "    <tr>\n",
       "      <th>thursday</th>\n",
       "      <td>7.761342</td>\n",
       "      <td>1.0</td>\n",
       "      <td>25.0</td>\n",
       "    </tr>\n",
       "    <tr>\n",
       "      <th>tuesday</th>\n",
       "      <td>7.757220</td>\n",
       "      <td>1.0</td>\n",
       "      <td>25.0</td>\n",
       "    </tr>\n",
       "    <tr>\n",
       "      <th>wednesday</th>\n",
       "      <td>7.756521</td>\n",
       "      <td>1.0</td>\n",
       "      <td>25.0</td>\n",
       "    </tr>\n",
       "  </tbody>\n",
       "</table>\n",
       "</div>"
      ],
      "text/plain": [
       "             prices           \n",
       "               mean  min   max\n",
       "day_name                      \n",
       "friday     7.857788  1.0  25.0\n",
       "monday     7.754532  1.0  25.0\n",
       "saturday   7.857898  1.0  25.0\n",
       "sunday     7.757879  1.0  25.0\n",
       "thursday   7.761342  1.0  25.0\n",
       "tuesday    7.757220  1.0  25.0\n",
       "wednesday  7.756521  1.0  25.0"
      ]
     },
     "execution_count": 76,
     "metadata": {},
     "output_type": "execute_result"
    }
   ],
   "source": [
    "# Check\n",
    "\n",
    "expenditure_dow"
   ]
  },
  {
   "cell_type": "code",
   "execution_count": 77,
   "id": "b7c037c6",
   "metadata": {},
   "outputs": [],
   "source": [
    "# Export to xls\n",
    "\n",
    "expenditure_dow.to_clipboard()"
   ]
  },
  {
   "cell_type": "code",
   "execution_count": 78,
   "id": "81338c9e",
   "metadata": {},
   "outputs": [],
   "source": [
    "# Frequency by day of the week\n",
    "\n",
    "frequency_dow = df_10RC.groupby('day_name').agg({'days_since_prior_order': ['mean', 'min', 'max']})"
   ]
  },
  {
   "cell_type": "code",
   "execution_count": 79,
   "id": "0a72426e",
   "metadata": {},
   "outputs": [
    {
     "data": {
      "text/html": [
       "<div>\n",
       "<style scoped>\n",
       "    .dataframe tbody tr th:only-of-type {\n",
       "        vertical-align: middle;\n",
       "    }\n",
       "\n",
       "    .dataframe tbody tr th {\n",
       "        vertical-align: top;\n",
       "    }\n",
       "\n",
       "    .dataframe thead tr th {\n",
       "        text-align: left;\n",
       "    }\n",
       "\n",
       "    .dataframe thead tr:last-of-type th {\n",
       "        text-align: right;\n",
       "    }\n",
       "</style>\n",
       "<table border=\"1\" class=\"dataframe\">\n",
       "  <thead>\n",
       "    <tr>\n",
       "      <th></th>\n",
       "      <th colspan=\"3\" halign=\"left\">days_since_prior_order</th>\n",
       "    </tr>\n",
       "    <tr>\n",
       "      <th></th>\n",
       "      <th>mean</th>\n",
       "      <th>min</th>\n",
       "      <th>max</th>\n",
       "    </tr>\n",
       "    <tr>\n",
       "      <th>day_name</th>\n",
       "      <th></th>\n",
       "      <th></th>\n",
       "      <th></th>\n",
       "    </tr>\n",
       "  </thead>\n",
       "  <tbody>\n",
       "    <tr>\n",
       "      <th>friday</th>\n",
       "      <td>10.977273</td>\n",
       "      <td>0.0</td>\n",
       "      <td>30.0</td>\n",
       "    </tr>\n",
       "    <tr>\n",
       "      <th>monday</th>\n",
       "      <td>10.984219</td>\n",
       "      <td>0.0</td>\n",
       "      <td>30.0</td>\n",
       "    </tr>\n",
       "    <tr>\n",
       "      <th>saturday</th>\n",
       "      <td>11.314877</td>\n",
       "      <td>0.0</td>\n",
       "      <td>30.0</td>\n",
       "    </tr>\n",
       "    <tr>\n",
       "      <th>sunday</th>\n",
       "      <td>11.004176</td>\n",
       "      <td>0.0</td>\n",
       "      <td>30.0</td>\n",
       "    </tr>\n",
       "    <tr>\n",
       "      <th>thursday</th>\n",
       "      <td>10.176869</td>\n",
       "      <td>0.0</td>\n",
       "      <td>30.0</td>\n",
       "    </tr>\n",
       "    <tr>\n",
       "      <th>tuesday</th>\n",
       "      <td>10.572520</td>\n",
       "      <td>0.0</td>\n",
       "      <td>30.0</td>\n",
       "    </tr>\n",
       "    <tr>\n",
       "      <th>wednesday</th>\n",
       "      <td>10.262039</td>\n",
       "      <td>0.0</td>\n",
       "      <td>30.0</td>\n",
       "    </tr>\n",
       "  </tbody>\n",
       "</table>\n",
       "</div>"
      ],
      "text/plain": [
       "          days_since_prior_order           \n",
       "                            mean  min   max\n",
       "day_name                                   \n",
       "friday                 10.977273  0.0  30.0\n",
       "monday                 10.984219  0.0  30.0\n",
       "saturday               11.314877  0.0  30.0\n",
       "sunday                 11.004176  0.0  30.0\n",
       "thursday               10.176869  0.0  30.0\n",
       "tuesday                10.572520  0.0  30.0\n",
       "wednesday              10.262039  0.0  30.0"
      ]
     },
     "execution_count": 79,
     "metadata": {},
     "output_type": "execute_result"
    }
   ],
   "source": [
    "# Check\n",
    "\n",
    "frequency_dow"
   ]
  },
  {
   "cell_type": "code",
   "execution_count": 80,
   "id": "705ba133",
   "metadata": {},
   "outputs": [],
   "source": [
    "# Export to xls\n",
    "\n",
    "frequency_dow.to_clipboard()"
   ]
  },
  {
   "cell_type": "markdown",
   "id": "d7396eb8",
   "metadata": {},
   "source": [
    "\n"
   ]
  },
  {
   "cell_type": "markdown",
   "id": "bab812a1",
   "metadata": {},
   "source": [
    "8. Compare your customer profiles with regions and departments. Can you identify a link between them? Customers may demonstrate different behaviors across regions, which could make this information important."
   ]
  },
  {
   "cell_type": "markdown",
   "id": "25345c2e",
   "metadata": {},
   "source": [
    ":: Bar chart - dept/parental"
   ]
  },
  {
   "cell_type": "code",
   "execution_count": 102,
   "id": "4e615bb6",
   "metadata": {},
   "outputs": [],
   "source": [
    "# Create crosstab for 'dept_name' and 'parental_status'\n",
    "\n",
    "ct_parentals_dept = pd.crosstab(df_10RC['dept_name'], df_10RC['parental_status'], dropna = False)"
   ]
  },
  {
   "cell_type": "code",
   "execution_count": 103,
   "id": "d3b10ab3",
   "metadata": {},
   "outputs": [
    {
     "data": {
      "text/plain": [
       "Text(0.5, 0, 'Departmental sales by Parental Status')"
      ]
     },
     "execution_count": 103,
     "metadata": {},
     "output_type": "execute_result"
    },
    {
     "data": {
      "image/png": "[encoded data removed]",
      "text/plain": [
       "<Figure size 432x288 with 1 Axes>"
      ]
     },
     "metadata": {
      "needs_background": "light"
     },
     "output_type": "display_data"
    }
   ],
   "source": [
    "# Create stacked bar for 'ct_parentals_dept'\n",
    "\n",
    "bar_parentS_dept = ct_parentals_dept.plot(kind = 'bar', stacked = True, color = sns.color_palette('seismic', 2))\n",
    "plt.xlabel('Departmental sales by Parental Status')"
   ]
  },
  {
   "cell_type": "code",
   "execution_count": 104,
   "id": "5f022b08",
   "metadata": {},
   "outputs": [],
   "source": [
    "# Export bar chart\n",
    "\n",
    "bar_parentS_dept.figure.savefig(os.path.join(path, '04 Analysis','Visualizations', 'bar_DeptSales_by_Parental.png'))"
   ]
  },
  {
   "cell_type": "markdown",
   "id": "120ede24",
   "metadata": {},
   "source": [
    ":: Bar chart - dept/marital"
   ]
  },
  {
   "cell_type": "code",
   "execution_count": 81,
   "id": "88427ecc",
   "metadata": {},
   "outputs": [],
   "source": [
    "# Create crosstab for 'dept_name' and 'marital_status'\n",
    "\n",
    "ct_marital_dept = pd.crosstab(df_10RC['dept_name'], df_10RC['marital_status'], dropna = False)"
   ]
  },
  {
   "cell_type": "code",
   "execution_count": 106,
   "id": "1371cede",
   "metadata": {},
   "outputs": [
    {
     "data": {
      "text/plain": [
       "Text(0.5, 0, 'Departmental sales per Marital Status')"
      ]
     },
     "execution_count": 106,
     "metadata": {},
     "output_type": "execute_result"
    },
    {
     "data": {
      "image/png": "[encoded data removed]",
      "text/plain": [
       "<Figure size 432x288 with 1 Axes>"
      ]
     },
     "metadata": {
      "needs_background": "light"
     },
     "output_type": "display_data"
    }
   ],
   "source": [
    "# Create stacked bar for 'ct_marital_dept'\n",
    "\n",
    "bar_maritalS_dept = ct_marital_dept.plot(kind = 'bar', stacked = True, color = sns.color_palette('seismic', 4))\n",
    "plt.xlabel('Departmental sales per Marital Status')"
   ]
  },
  {
   "cell_type": "code",
   "execution_count": 58,
   "id": "65bf65bf",
   "metadata": {},
   "outputs": [
    {
     "data": {
      "text/html": [
       "<div>\n",
       "<style scoped>\n",
       "    .dataframe tbody tr th:only-of-type {\n",
       "        vertical-align: middle;\n",
       "    }\n",
       "\n",
       "    .dataframe tbody tr th {\n",
       "        vertical-align: top;\n",
       "    }\n",
       "\n",
       "    .dataframe thead th {\n",
       "        text-align: right;\n",
       "    }\n",
       "</style>\n",
       "<table border=\"1\" class=\"dataframe\">\n",
       "  <thead>\n",
       "    <tr style=\"text-align: right;\">\n",
       "      <th>marital_status</th>\n",
       "      <th>divorced/widowed</th>\n",
       "      <th>living with parents and siblings</th>\n",
       "      <th>married</th>\n",
       "      <th>single</th>\n",
       "    </tr>\n",
       "    <tr>\n",
       "      <th>dept_name</th>\n",
       "      <th></th>\n",
       "      <th></th>\n",
       "      <th></th>\n",
       "      <th></th>\n",
       "    </tr>\n",
       "  </thead>\n",
       "  <tbody>\n",
       "    <tr>\n",
       "      <th>alcohol</th>\n",
       "      <td>11859</td>\n",
       "      <td>8379</td>\n",
       "      <td>99421</td>\n",
       "      <td>24968</td>\n",
       "    </tr>\n",
       "    <tr>\n",
       "      <th>babies</th>\n",
       "      <td>34351</td>\n",
       "      <td>19381</td>\n",
       "      <td>287683</td>\n",
       "      <td>68977</td>\n",
       "    </tr>\n",
       "    <tr>\n",
       "      <th>bakery</th>\n",
       "      <td>95735</td>\n",
       "      <td>53684</td>\n",
       "      <td>785749</td>\n",
       "      <td>185660</td>\n",
       "    </tr>\n",
       "    <tr>\n",
       "      <th>beverages</th>\n",
       "      <td>220879</td>\n",
       "      <td>119107</td>\n",
       "      <td>1807453</td>\n",
       "      <td>424462</td>\n",
       "    </tr>\n",
       "    <tr>\n",
       "      <th>breakfast</th>\n",
       "      <td>56590</td>\n",
       "      <td>33198</td>\n",
       "      <td>471220</td>\n",
       "      <td>109842</td>\n",
       "    </tr>\n",
       "    <tr>\n",
       "      <th>bulk</th>\n",
       "      <td>2676</td>\n",
       "      <td>1633</td>\n",
       "      <td>23818</td>\n",
       "      <td>5324</td>\n",
       "    </tr>\n",
       "    <tr>\n",
       "      <th>canned goods</th>\n",
       "      <td>84268</td>\n",
       "      <td>48477</td>\n",
       "      <td>712577</td>\n",
       "      <td>166752</td>\n",
       "    </tr>\n",
       "    <tr>\n",
       "      <th>dairy eggs</th>\n",
       "      <td>442602</td>\n",
       "      <td>250207</td>\n",
       "      <td>3632600</td>\n",
       "      <td>851774</td>\n",
       "    </tr>\n",
       "    <tr>\n",
       "      <th>deli</th>\n",
       "      <td>86749</td>\n",
       "      <td>48119</td>\n",
       "      <td>702333</td>\n",
       "      <td>166633</td>\n",
       "    </tr>\n",
       "    <tr>\n",
       "      <th>dry goods pasta</th>\n",
       "      <td>70251</td>\n",
       "      <td>39542</td>\n",
       "      <td>578298</td>\n",
       "      <td>134045</td>\n",
       "    </tr>\n",
       "    <tr>\n",
       "      <th>frozen</th>\n",
       "      <td>183957</td>\n",
       "      <td>102993</td>\n",
       "      <td>1489391</td>\n",
       "      <td>345391</td>\n",
       "    </tr>\n",
       "    <tr>\n",
       "      <th>households</th>\n",
       "      <td>58446</td>\n",
       "      <td>33349</td>\n",
       "      <td>495151</td>\n",
       "      <td>112912</td>\n",
       "    </tr>\n",
       "    <tr>\n",
       "      <th>international</th>\n",
       "      <td>21814</td>\n",
       "      <td>12394</td>\n",
       "      <td>179136</td>\n",
       "      <td>42647</td>\n",
       "    </tr>\n",
       "    <tr>\n",
       "      <th>meat seafood</th>\n",
       "      <td>57621</td>\n",
       "      <td>32344</td>\n",
       "      <td>476559</td>\n",
       "      <td>108257</td>\n",
       "    </tr>\n",
       "    <tr>\n",
       "      <th>missing</th>\n",
       "      <td>5064</td>\n",
       "      <td>3317</td>\n",
       "      <td>45516</td>\n",
       "      <td>10871</td>\n",
       "    </tr>\n",
       "    <tr>\n",
       "      <th>other</th>\n",
       "      <td>2842</td>\n",
       "      <td>1815</td>\n",
       "      <td>23882</td>\n",
       "      <td>5872</td>\n",
       "    </tr>\n",
       "    <tr>\n",
       "      <th>pantry</th>\n",
       "      <td>151891</td>\n",
       "      <td>85845</td>\n",
       "      <td>1252956</td>\n",
       "      <td>292013</td>\n",
       "    </tr>\n",
       "    <tr>\n",
       "      <th>personal care</th>\n",
       "      <td>36313</td>\n",
       "      <td>20201</td>\n",
       "      <td>297900</td>\n",
       "      <td>69892</td>\n",
       "    </tr>\n",
       "    <tr>\n",
       "      <th>pets</th>\n",
       "      <td>8025</td>\n",
       "      <td>5338</td>\n",
       "      <td>64120</td>\n",
       "      <td>15577</td>\n",
       "    </tr>\n",
       "    <tr>\n",
       "      <th>produce</th>\n",
       "      <td>777095</td>\n",
       "      <td>430539</td>\n",
       "      <td>6373295</td>\n",
       "      <td>1498347</td>\n",
       "    </tr>\n",
       "    <tr>\n",
       "      <th>snacks</th>\n",
       "      <td>236244</td>\n",
       "      <td>131310</td>\n",
       "      <td>1944658</td>\n",
       "      <td>454194</td>\n",
       "    </tr>\n",
       "  </tbody>\n",
       "</table>\n",
       "</div>"
      ],
      "text/plain": [
       "marital_status   divorced/widowed  living with parents and siblings  married  \\\n",
       "dept_name                                                                      \n",
       "alcohol                     11859                              8379    99421   \n",
       "babies                      34351                             19381   287683   \n",
       "bakery                      95735                             53684   785749   \n",
       "beverages                  220879                            119107  1807453   \n",
       "breakfast                   56590                             33198   471220   \n",
       "bulk                         2676                              1633    23818   \n",
       "canned goods                84268                             48477   712577   \n",
       "dairy eggs                 442602                            250207  3632600   \n",
       "deli                        86749                             48119   702333   \n",
       "dry goods pasta             70251                             39542   578298   \n",
       "frozen                     183957                            102993  1489391   \n",
       "households                  58446                             33349   495151   \n",
       "international               21814                             12394   179136   \n",
       "meat seafood                57621                             32344   476559   \n",
       "missing                      5064                              3317    45516   \n",
       "other                        2842                              1815    23882   \n",
       "pantry                     151891                             85845  1252956   \n",
       "personal care               36313                             20201   297900   \n",
       "pets                         8025                              5338    64120   \n",
       "produce                    777095                            430539  6373295   \n",
       "snacks                     236244                            131310  1944658   \n",
       "\n",
       "marital_status    single  \n",
       "dept_name                 \n",
       "alcohol            24968  \n",
       "babies             68977  \n",
       "bakery            185660  \n",
       "beverages         424462  \n",
       "breakfast         109842  \n",
       "bulk                5324  \n",
       "canned goods      166752  \n",
       "dairy eggs        851774  \n",
       "deli              166633  \n",
       "dry goods pasta   134045  \n",
       "frozen            345391  \n",
       "households        112912  \n",
       "international      42647  \n",
       "meat seafood      108257  \n",
       "missing            10871  \n",
       "other               5872  \n",
       "pantry            292013  \n",
       "personal care      69892  \n",
       "pets               15577  \n",
       "produce          1498347  \n",
       "snacks            454194  "
      ]
     },
     "execution_count": 58,
     "metadata": {},
     "output_type": "execute_result"
    }
   ],
   "source": [
    "ct_marital_dept"
   ]
  },
  {
   "cell_type": "code",
   "execution_count": 82,
   "id": "02619595",
   "metadata": {},
   "outputs": [],
   "source": [
    "ct_marital_dept.to_clipboard()"
   ]
  },
  {
   "cell_type": "code",
   "execution_count": 107,
   "id": "2b9be3e4",
   "metadata": {},
   "outputs": [],
   "source": [
    "# Export bar chart\n",
    "\n",
    "bar_maritalS_dept.figure.savefig(os.path.join(path, '04 Analysis','Visualizations', 'bar_DeptSales_by_Marital.png'))"
   ]
  },
  {
   "cell_type": "markdown",
   "id": "0159a05c",
   "metadata": {},
   "source": [
    ":: Bar chart - dept/age"
   ]
  },
  {
   "cell_type": "code",
   "execution_count": 83,
   "id": "4a06daf8",
   "metadata": {},
   "outputs": [],
   "source": [
    "# Create crosstab for 'dept_name' and 'age'\n",
    "\n",
    "ct_age_dept = pd.crosstab(df_10RC['dept_name'], df_10RC['age_group'], dropna = False)"
   ]
  },
  {
   "cell_type": "code",
   "execution_count": 109,
   "id": "c76bfa40",
   "metadata": {
    "scrolled": false
   },
   "outputs": [
    {
     "data": {
      "text/plain": [
       "Text(0.5, 0, 'Departmental sales by Age')"
      ]
     },
     "execution_count": 109,
     "metadata": {},
     "output_type": "execute_result"
    },
    {
     "data": {
      "image/png": "[encoded data removed]",
      "text/plain": [
       "<Figure size 432x288 with 1 Axes>"
      ]
     },
     "metadata": {
      "needs_background": "light"
     },
     "output_type": "display_data"
    }
   ],
   "source": [
    "# Create stacked bar for 'ct_age_dept'\n",
    "\n",
    "bar_age_dept = ct_age_dept.plot(kind = 'bar', stacked = True, color = sns.color_palette('seismic', 8))\n",
    "plt.xlabel('Departmental sales by Age')"
   ]
  },
  {
   "cell_type": "code",
   "execution_count": 55,
   "id": "be227c9a",
   "metadata": {
    "scrolled": true
   },
   "outputs": [
    {
     "data": {
      "text/html": [
       "<div>\n",
       "<style scoped>\n",
       "    .dataframe tbody tr th:only-of-type {\n",
       "        vertical-align: middle;\n",
       "    }\n",
       "\n",
       "    .dataframe tbody tr th {\n",
       "        vertical-align: top;\n",
       "    }\n",
       "\n",
       "    .dataframe thead th {\n",
       "        text-align: right;\n",
       "    }\n",
       "</style>\n",
       "<table border=\"1\" class=\"dataframe\">\n",
       "  <thead>\n",
       "    <tr style=\"text-align: right;\">\n",
       "      <th>age_group</th>\n",
       "      <th>18-20</th>\n",
       "      <th>21-30</th>\n",
       "      <th>31-40</th>\n",
       "      <th>41-50</th>\n",
       "      <th>51-60</th>\n",
       "      <th>61-70</th>\n",
       "      <th>71-80</th>\n",
       "      <th>80+</th>\n",
       "    </tr>\n",
       "    <tr>\n",
       "      <th>dept_name</th>\n",
       "      <th></th>\n",
       "      <th></th>\n",
       "      <th></th>\n",
       "      <th></th>\n",
       "      <th></th>\n",
       "      <th></th>\n",
       "      <th></th>\n",
       "      <th></th>\n",
       "    </tr>\n",
       "  </thead>\n",
       "  <tbody>\n",
       "    <tr>\n",
       "      <th>alcohol</th>\n",
       "      <td>8283</td>\n",
       "      <td>22152</td>\n",
       "      <td>23376</td>\n",
       "      <td>22677</td>\n",
       "      <td>22511</td>\n",
       "      <td>21597</td>\n",
       "      <td>21973</td>\n",
       "      <td>2058</td>\n",
       "    </tr>\n",
       "    <tr>\n",
       "      <th>babies</th>\n",
       "      <td>19831</td>\n",
       "      <td>64239</td>\n",
       "      <td>63594</td>\n",
       "      <td>67659</td>\n",
       "      <td>62050</td>\n",
       "      <td>63492</td>\n",
       "      <td>63029</td>\n",
       "      <td>6498</td>\n",
       "    </tr>\n",
       "    <tr>\n",
       "      <th>bakery</th>\n",
       "      <td>51629</td>\n",
       "      <td>175966</td>\n",
       "      <td>174903</td>\n",
       "      <td>176985</td>\n",
       "      <td>175328</td>\n",
       "      <td>172308</td>\n",
       "      <td>176150</td>\n",
       "      <td>17559</td>\n",
       "    </tr>\n",
       "    <tr>\n",
       "      <th>beverages</th>\n",
       "      <td>117392</td>\n",
       "      <td>401849</td>\n",
       "      <td>396168</td>\n",
       "      <td>404575</td>\n",
       "      <td>407230</td>\n",
       "      <td>396559</td>\n",
       "      <td>408118</td>\n",
       "      <td>40010</td>\n",
       "    </tr>\n",
       "    <tr>\n",
       "      <th>breakfast</th>\n",
       "      <td>32020</td>\n",
       "      <td>105615</td>\n",
       "      <td>104399</td>\n",
       "      <td>106368</td>\n",
       "      <td>104909</td>\n",
       "      <td>101673</td>\n",
       "      <td>104826</td>\n",
       "      <td>11040</td>\n",
       "    </tr>\n",
       "    <tr>\n",
       "      <th>bulk</th>\n",
       "      <td>1595</td>\n",
       "      <td>5365</td>\n",
       "      <td>5143</td>\n",
       "      <td>5426</td>\n",
       "      <td>4993</td>\n",
       "      <td>5213</td>\n",
       "      <td>5213</td>\n",
       "      <td>503</td>\n",
       "    </tr>\n",
       "    <tr>\n",
       "      <th>canned goods</th>\n",
       "      <td>47597</td>\n",
       "      <td>160647</td>\n",
       "      <td>157578</td>\n",
       "      <td>158032</td>\n",
       "      <td>158735</td>\n",
       "      <td>156506</td>\n",
       "      <td>157276</td>\n",
       "      <td>15703</td>\n",
       "    </tr>\n",
       "    <tr>\n",
       "      <th>dairy eggs</th>\n",
       "      <td>243669</td>\n",
       "      <td>812607</td>\n",
       "      <td>816071</td>\n",
       "      <td>818885</td>\n",
       "      <td>798006</td>\n",
       "      <td>795372</td>\n",
       "      <td>812161</td>\n",
       "      <td>80412</td>\n",
       "    </tr>\n",
       "    <tr>\n",
       "      <th>deli</th>\n",
       "      <td>46805</td>\n",
       "      <td>156948</td>\n",
       "      <td>157619</td>\n",
       "      <td>157389</td>\n",
       "      <td>156106</td>\n",
       "      <td>156166</td>\n",
       "      <td>157292</td>\n",
       "      <td>15509</td>\n",
       "    </tr>\n",
       "    <tr>\n",
       "      <th>dry goods pasta</th>\n",
       "      <td>38800</td>\n",
       "      <td>130308</td>\n",
       "      <td>127091</td>\n",
       "      <td>128021</td>\n",
       "      <td>130264</td>\n",
       "      <td>126885</td>\n",
       "      <td>128305</td>\n",
       "      <td>12462</td>\n",
       "    </tr>\n",
       "    <tr>\n",
       "      <th>frozen</th>\n",
       "      <td>100851</td>\n",
       "      <td>330470</td>\n",
       "      <td>328888</td>\n",
       "      <td>331328</td>\n",
       "      <td>332828</td>\n",
       "      <td>330586</td>\n",
       "      <td>332457</td>\n",
       "      <td>34324</td>\n",
       "    </tr>\n",
       "    <tr>\n",
       "      <th>households</th>\n",
       "      <td>33604</td>\n",
       "      <td>108212</td>\n",
       "      <td>108649</td>\n",
       "      <td>109902</td>\n",
       "      <td>109511</td>\n",
       "      <td>108263</td>\n",
       "      <td>111067</td>\n",
       "      <td>10650</td>\n",
       "    </tr>\n",
       "    <tr>\n",
       "      <th>international</th>\n",
       "      <td>12388</td>\n",
       "      <td>40335</td>\n",
       "      <td>40472</td>\n",
       "      <td>40397</td>\n",
       "      <td>39821</td>\n",
       "      <td>39099</td>\n",
       "      <td>39556</td>\n",
       "      <td>3923</td>\n",
       "    </tr>\n",
       "    <tr>\n",
       "      <th>meat seafood</th>\n",
       "      <td>32062</td>\n",
       "      <td>104836</td>\n",
       "      <td>104290</td>\n",
       "      <td>106193</td>\n",
       "      <td>104965</td>\n",
       "      <td>105561</td>\n",
       "      <td>106091</td>\n",
       "      <td>10783</td>\n",
       "    </tr>\n",
       "    <tr>\n",
       "      <th>missing</th>\n",
       "      <td>3378</td>\n",
       "      <td>10301</td>\n",
       "      <td>9891</td>\n",
       "      <td>10461</td>\n",
       "      <td>10034</td>\n",
       "      <td>9720</td>\n",
       "      <td>9952</td>\n",
       "      <td>1031</td>\n",
       "    </tr>\n",
       "    <tr>\n",
       "      <th>other</th>\n",
       "      <td>1863</td>\n",
       "      <td>5547</td>\n",
       "      <td>5195</td>\n",
       "      <td>5295</td>\n",
       "      <td>5424</td>\n",
       "      <td>5366</td>\n",
       "      <td>5175</td>\n",
       "      <td>546</td>\n",
       "    </tr>\n",
       "    <tr>\n",
       "      <th>pantry</th>\n",
       "      <td>83823</td>\n",
       "      <td>278038</td>\n",
       "      <td>277142</td>\n",
       "      <td>281693</td>\n",
       "      <td>280063</td>\n",
       "      <td>275641</td>\n",
       "      <td>278632</td>\n",
       "      <td>27673</td>\n",
       "    </tr>\n",
       "    <tr>\n",
       "      <th>personal care</th>\n",
       "      <td>20392</td>\n",
       "      <td>66286</td>\n",
       "      <td>65426</td>\n",
       "      <td>67354</td>\n",
       "      <td>67502</td>\n",
       "      <td>65083</td>\n",
       "      <td>65712</td>\n",
       "      <td>6551</td>\n",
       "    </tr>\n",
       "    <tr>\n",
       "      <th>pets</th>\n",
       "      <td>4875</td>\n",
       "      <td>14720</td>\n",
       "      <td>13977</td>\n",
       "      <td>14639</td>\n",
       "      <td>14279</td>\n",
       "      <td>14484</td>\n",
       "      <td>14745</td>\n",
       "      <td>1341</td>\n",
       "    </tr>\n",
       "    <tr>\n",
       "      <th>produce</th>\n",
       "      <td>425594</td>\n",
       "      <td>1417631</td>\n",
       "      <td>1429021</td>\n",
       "      <td>1426477</td>\n",
       "      <td>1414153</td>\n",
       "      <td>1406306</td>\n",
       "      <td>1416862</td>\n",
       "      <td>143232</td>\n",
       "    </tr>\n",
       "    <tr>\n",
       "      <th>snacks</th>\n",
       "      <td>128277</td>\n",
       "      <td>437440</td>\n",
       "      <td>435300</td>\n",
       "      <td>428876</td>\n",
       "      <td>436180</td>\n",
       "      <td>424084</td>\n",
       "      <td>432210</td>\n",
       "      <td>44039</td>\n",
       "    </tr>\n",
       "  </tbody>\n",
       "</table>\n",
       "</div>"
      ],
      "text/plain": [
       "age_group         18-20    21-30    31-40    41-50    51-60    61-70    71-80  \\\n",
       "dept_name                                                                       \n",
       "alcohol            8283    22152    23376    22677    22511    21597    21973   \n",
       "babies            19831    64239    63594    67659    62050    63492    63029   \n",
       "bakery            51629   175966   174903   176985   175328   172308   176150   \n",
       "beverages        117392   401849   396168   404575   407230   396559   408118   \n",
       "breakfast         32020   105615   104399   106368   104909   101673   104826   \n",
       "bulk               1595     5365     5143     5426     4993     5213     5213   \n",
       "canned goods      47597   160647   157578   158032   158735   156506   157276   \n",
       "dairy eggs       243669   812607   816071   818885   798006   795372   812161   \n",
       "deli              46805   156948   157619   157389   156106   156166   157292   \n",
       "dry goods pasta   38800   130308   127091   128021   130264   126885   128305   \n",
       "frozen           100851   330470   328888   331328   332828   330586   332457   \n",
       "households        33604   108212   108649   109902   109511   108263   111067   \n",
       "international     12388    40335    40472    40397    39821    39099    39556   \n",
       "meat seafood      32062   104836   104290   106193   104965   105561   106091   \n",
       "missing            3378    10301     9891    10461    10034     9720     9952   \n",
       "other              1863     5547     5195     5295     5424     5366     5175   \n",
       "pantry            83823   278038   277142   281693   280063   275641   278632   \n",
       "personal care     20392    66286    65426    67354    67502    65083    65712   \n",
       "pets               4875    14720    13977    14639    14279    14484    14745   \n",
       "produce          425594  1417631  1429021  1426477  1414153  1406306  1416862   \n",
       "snacks           128277   437440   435300   428876   436180   424084   432210   \n",
       "\n",
       "age_group           80+  \n",
       "dept_name                \n",
       "alcohol            2058  \n",
       "babies             6498  \n",
       "bakery            17559  \n",
       "beverages         40010  \n",
       "breakfast         11040  \n",
       "bulk                503  \n",
       "canned goods      15703  \n",
       "dairy eggs        80412  \n",
       "deli              15509  \n",
       "dry goods pasta   12462  \n",
       "frozen            34324  \n",
       "households        10650  \n",
       "international      3923  \n",
       "meat seafood      10783  \n",
       "missing            1031  \n",
       "other               546  \n",
       "pantry            27673  \n",
       "personal care      6551  \n",
       "pets               1341  \n",
       "produce          143232  \n",
       "snacks            44039  "
      ]
     },
     "execution_count": 55,
     "metadata": {},
     "output_type": "execute_result"
    }
   ],
   "source": [
    "ct_age_dept"
   ]
  },
  {
   "cell_type": "code",
   "execution_count": 84,
   "id": "41acf261",
   "metadata": {},
   "outputs": [],
   "source": [
    "ct_age_dept.to_clipboard()"
   ]
  },
  {
   "cell_type": "code",
   "execution_count": 110,
   "id": "cbb81c89",
   "metadata": {},
   "outputs": [],
   "source": [
    "# Export bar chart\n",
    "\n",
    "bar_age_dept.figure.savefig(os.path.join(path, '04 Analysis','Visualizations', 'bar_DeptSales_by_Age.png'))"
   ]
  },
  {
   "cell_type": "markdown",
   "id": "3ad88159",
   "metadata": {},
   "source": [
    ":: Bar chart - dept/income"
   ]
  },
  {
   "cell_type": "code",
   "execution_count": 111,
   "id": "0c260357",
   "metadata": {},
   "outputs": [],
   "source": [
    "# Create crosstab for 'dept_name' and 'income'\n",
    "\n",
    "ct_income_dept = pd.crosstab(df_10RC['dept_name'], df_10RC['income_b'], dropna = False)"
   ]
  },
  {
   "cell_type": "code",
   "execution_count": 112,
   "id": "75f0b644",
   "metadata": {},
   "outputs": [
    {
     "data": {
      "text/plain": [
       "Text(0.5, 0, 'Departmental sales by Income')"
      ]
     },
     "execution_count": 112,
     "metadata": {},
     "output_type": "execute_result"
    },
    {
     "data": {
      "image/png": "[encoded data removed]",
      "text/plain": [
       "<Figure size 432x288 with 1 Axes>"
      ]
     },
     "metadata": {
      "needs_background": "light"
     },
     "output_type": "display_data"
    }
   ],
   "source": [
    "# Create stacked bar for 'ct_income_dept'\n",
    "\n",
    "bar_income_dept = ct_income_dept.plot(kind = 'bar', stacked = True, color = sns.color_palette('seismic', 8))\n",
    "plt.xlabel('Departmental sales by Income')"
   ]
  },
  {
   "cell_type": "code",
   "execution_count": 113,
   "id": "851ff120",
   "metadata": {},
   "outputs": [],
   "source": [
    "# Export bar chart\n",
    "\n",
    "bar_income_dept.figure.savefig(os.path.join(path, '04 Analysis','Visualizations', 'bar_DeptSales_by_Income.png'))"
   ]
  },
  {
   "cell_type": "markdown",
   "id": "ca737dbf",
   "metadata": {},
   "source": [
    ":: Bar chart - dept/orders day of week"
   ]
  },
  {
   "cell_type": "code",
   "execution_count": 85,
   "id": "386d603c",
   "metadata": {},
   "outputs": [],
   "source": [
    "# Create crosstab for 'dept_name' and 'orders_day_of_week'\n",
    "\n",
    "ct_dow_dept = pd.crosstab(df_10RC['dept_name'], df_10RC['day_name'], dropna = False)"
   ]
  },
  {
   "cell_type": "code",
   "execution_count": 115,
   "id": "350d9704",
   "metadata": {
    "scrolled": false
   },
   "outputs": [
    {
     "data": {
      "text/plain": [
       "Text(0.5, 0, 'Departmental sales by Day Of The Week')"
      ]
     },
     "execution_count": 115,
     "metadata": {},
     "output_type": "execute_result"
    },
    {
     "data": {
      "image/png": "[encoded data removed]",
      "text/plain": [
       "<Figure size 432x288 with 1 Axes>"
      ]
     },
     "metadata": {
      "needs_background": "light"
     },
     "output_type": "display_data"
    }
   ],
   "source": [
    "# Create stacked bar for 'ct_dow_dept'\n",
    "\n",
    "bar_dow_dept = ct_dow_dept.plot(kind = 'bar', stacked = True, color = sns.color_palette('seismic', 7))\n",
    "plt.xlabel('Departmental sales by Day Of The Week')"
   ]
  },
  {
   "cell_type": "code",
   "execution_count": 86,
   "id": "6d438b56",
   "metadata": {},
   "outputs": [
    {
     "data": {
      "text/html": [
       "<div>\n",
       "<style scoped>\n",
       "    .dataframe tbody tr th:only-of-type {\n",
       "        vertical-align: middle;\n",
       "    }\n",
       "\n",
       "    .dataframe tbody tr th {\n",
       "        vertical-align: top;\n",
       "    }\n",
       "\n",
       "    .dataframe thead th {\n",
       "        text-align: right;\n",
       "    }\n",
       "</style>\n",
       "<table border=\"1\" class=\"dataframe\">\n",
       "  <thead>\n",
       "    <tr style=\"text-align: right;\">\n",
       "      <th>day_name</th>\n",
       "      <th>friday</th>\n",
       "      <th>monday</th>\n",
       "      <th>saturday</th>\n",
       "      <th>sunday</th>\n",
       "      <th>thursday</th>\n",
       "      <th>tuesday</th>\n",
       "      <th>wednesday</th>\n",
       "    </tr>\n",
       "    <tr>\n",
       "      <th>dept_name</th>\n",
       "      <th></th>\n",
       "      <th></th>\n",
       "      <th></th>\n",
       "      <th></th>\n",
       "      <th></th>\n",
       "      <th></th>\n",
       "      <th></th>\n",
       "    </tr>\n",
       "  </thead>\n",
       "  <tbody>\n",
       "    <tr>\n",
       "      <th>alcohol</th>\n",
       "      <td>18004</td>\n",
       "      <td>19223</td>\n",
       "      <td>16176</td>\n",
       "      <td>19400</td>\n",
       "      <td>25812</td>\n",
       "      <td>21197</td>\n",
       "      <td>24815</td>\n",
       "    </tr>\n",
       "    <tr>\n",
       "      <th>babies</th>\n",
       "      <td>55245</td>\n",
       "      <td>54979</td>\n",
       "      <td>78926</td>\n",
       "      <td>70692</td>\n",
       "      <td>49870</td>\n",
       "      <td>50731</td>\n",
       "      <td>49949</td>\n",
       "    </tr>\n",
       "    <tr>\n",
       "      <th>bakery</th>\n",
       "      <td>155650</td>\n",
       "      <td>145113</td>\n",
       "      <td>214438</td>\n",
       "      <td>194647</td>\n",
       "      <td>146926</td>\n",
       "      <td>132682</td>\n",
       "      <td>131372</td>\n",
       "    </tr>\n",
       "    <tr>\n",
       "      <th>beverages</th>\n",
       "      <td>325004</td>\n",
       "      <td>355499</td>\n",
       "      <td>412091</td>\n",
       "      <td>462953</td>\n",
       "      <td>360712</td>\n",
       "      <td>329897</td>\n",
       "      <td>325745</td>\n",
       "    </tr>\n",
       "    <tr>\n",
       "      <th>breakfast</th>\n",
       "      <td>85070</td>\n",
       "      <td>90631</td>\n",
       "      <td>119516</td>\n",
       "      <td>122583</td>\n",
       "      <td>89639</td>\n",
       "      <td>82367</td>\n",
       "      <td>81044</td>\n",
       "    </tr>\n",
       "    <tr>\n",
       "      <th>bulk</th>\n",
       "      <td>4556</td>\n",
       "      <td>4406</td>\n",
       "      <td>5921</td>\n",
       "      <td>6137</td>\n",
       "      <td>4471</td>\n",
       "      <td>4104</td>\n",
       "      <td>3856</td>\n",
       "    </tr>\n",
       "    <tr>\n",
       "      <th>canned goods</th>\n",
       "      <td>155119</td>\n",
       "      <td>125389</td>\n",
       "      <td>216023</td>\n",
       "      <td>170213</td>\n",
       "      <td>122702</td>\n",
       "      <td>112978</td>\n",
       "      <td>109650</td>\n",
       "    </tr>\n",
       "    <tr>\n",
       "      <th>dairy eggs</th>\n",
       "      <td>704531</td>\n",
       "      <td>677539</td>\n",
       "      <td>971292</td>\n",
       "      <td>916406</td>\n",
       "      <td>684160</td>\n",
       "      <td>613619</td>\n",
       "      <td>609636</td>\n",
       "    </tr>\n",
       "    <tr>\n",
       "      <th>deli</th>\n",
       "      <td>138682</td>\n",
       "      <td>129217</td>\n",
       "      <td>199582</td>\n",
       "      <td>176457</td>\n",
       "      <td>128893</td>\n",
       "      <td>116505</td>\n",
       "      <td>114498</td>\n",
       "    </tr>\n",
       "    <tr>\n",
       "      <th>dry goods pasta</th>\n",
       "      <td>120670</td>\n",
       "      <td>105109</td>\n",
       "      <td>172536</td>\n",
       "      <td>140174</td>\n",
       "      <td>98738</td>\n",
       "      <td>93632</td>\n",
       "      <td>91277</td>\n",
       "    </tr>\n",
       "    <tr>\n",
       "      <th>frozen</th>\n",
       "      <td>319482</td>\n",
       "      <td>267518</td>\n",
       "      <td>415950</td>\n",
       "      <td>341966</td>\n",
       "      <td>276957</td>\n",
       "      <td>252399</td>\n",
       "      <td>247460</td>\n",
       "    </tr>\n",
       "    <tr>\n",
       "      <th>households</th>\n",
       "      <td>96855</td>\n",
       "      <td>95193</td>\n",
       "      <td>119161</td>\n",
       "      <td>115058</td>\n",
       "      <td>94409</td>\n",
       "      <td>90598</td>\n",
       "      <td>88584</td>\n",
       "    </tr>\n",
       "    <tr>\n",
       "      <th>international</th>\n",
       "      <td>36766</td>\n",
       "      <td>32662</td>\n",
       "      <td>52982</td>\n",
       "      <td>44083</td>\n",
       "      <td>31292</td>\n",
       "      <td>30040</td>\n",
       "      <td>28166</td>\n",
       "    </tr>\n",
       "    <tr>\n",
       "      <th>meat seafood</th>\n",
       "      <td>103636</td>\n",
       "      <td>82563</td>\n",
       "      <td>143933</td>\n",
       "      <td>113318</td>\n",
       "      <td>83886</td>\n",
       "      <td>74024</td>\n",
       "      <td>73421</td>\n",
       "    </tr>\n",
       "    <tr>\n",
       "      <th>missing</th>\n",
       "      <td>9407</td>\n",
       "      <td>8079</td>\n",
       "      <td>12294</td>\n",
       "      <td>10671</td>\n",
       "      <td>8874</td>\n",
       "      <td>7803</td>\n",
       "      <td>7640</td>\n",
       "    </tr>\n",
       "    <tr>\n",
       "      <th>other</th>\n",
       "      <td>4773</td>\n",
       "      <td>4699</td>\n",
       "      <td>5751</td>\n",
       "      <td>5675</td>\n",
       "      <td>4790</td>\n",
       "      <td>4378</td>\n",
       "      <td>4345</td>\n",
       "    </tr>\n",
       "    <tr>\n",
       "      <th>pantry</th>\n",
       "      <td>262107</td>\n",
       "      <td>228921</td>\n",
       "      <td>333468</td>\n",
       "      <td>289903</td>\n",
       "      <td>237134</td>\n",
       "      <td>216451</td>\n",
       "      <td>214721</td>\n",
       "    </tr>\n",
       "    <tr>\n",
       "      <th>personal care</th>\n",
       "      <td>60839</td>\n",
       "      <td>56915</td>\n",
       "      <td>76086</td>\n",
       "      <td>68613</td>\n",
       "      <td>55167</td>\n",
       "      <td>54400</td>\n",
       "      <td>52286</td>\n",
       "    </tr>\n",
       "    <tr>\n",
       "      <th>pets</th>\n",
       "      <td>14637</td>\n",
       "      <td>11437</td>\n",
       "      <td>16257</td>\n",
       "      <td>13851</td>\n",
       "      <td>13018</td>\n",
       "      <td>11971</td>\n",
       "      <td>11889</td>\n",
       "    </tr>\n",
       "    <tr>\n",
       "      <th>produce</th>\n",
       "      <td>1282339</td>\n",
       "      <td>1146997</td>\n",
       "      <td>1865183</td>\n",
       "      <td>1612409</td>\n",
       "      <td>1136699</td>\n",
       "      <td>1024229</td>\n",
       "      <td>1011420</td>\n",
       "    </tr>\n",
       "    <tr>\n",
       "      <th>snacks</th>\n",
       "      <td>337932</td>\n",
       "      <td>382618</td>\n",
       "      <td>461049</td>\n",
       "      <td>516477</td>\n",
       "      <td>379580</td>\n",
       "      <td>345530</td>\n",
       "      <td>343220</td>\n",
       "    </tr>\n",
       "  </tbody>\n",
       "</table>\n",
       "</div>"
      ],
      "text/plain": [
       "day_name          friday   monday  saturday   sunday  thursday  tuesday  \\\n",
       "dept_name                                                                 \n",
       "alcohol            18004    19223     16176    19400     25812    21197   \n",
       "babies             55245    54979     78926    70692     49870    50731   \n",
       "bakery            155650   145113    214438   194647    146926   132682   \n",
       "beverages         325004   355499    412091   462953    360712   329897   \n",
       "breakfast          85070    90631    119516   122583     89639    82367   \n",
       "bulk                4556     4406      5921     6137      4471     4104   \n",
       "canned goods      155119   125389    216023   170213    122702   112978   \n",
       "dairy eggs        704531   677539    971292   916406    684160   613619   \n",
       "deli              138682   129217    199582   176457    128893   116505   \n",
       "dry goods pasta   120670   105109    172536   140174     98738    93632   \n",
       "frozen            319482   267518    415950   341966    276957   252399   \n",
       "households         96855    95193    119161   115058     94409    90598   \n",
       "international      36766    32662     52982    44083     31292    30040   \n",
       "meat seafood      103636    82563    143933   113318     83886    74024   \n",
       "missing             9407     8079     12294    10671      8874     7803   \n",
       "other               4773     4699      5751     5675      4790     4378   \n",
       "pantry            262107   228921    333468   289903    237134   216451   \n",
       "personal care      60839    56915     76086    68613     55167    54400   \n",
       "pets               14637    11437     16257    13851     13018    11971   \n",
       "produce          1282339  1146997   1865183  1612409   1136699  1024229   \n",
       "snacks            337932   382618    461049   516477    379580   345530   \n",
       "\n",
       "day_name         wednesday  \n",
       "dept_name                   \n",
       "alcohol              24815  \n",
       "babies               49949  \n",
       "bakery              131372  \n",
       "beverages           325745  \n",
       "breakfast            81044  \n",
       "bulk                  3856  \n",
       "canned goods        109650  \n",
       "dairy eggs          609636  \n",
       "deli                114498  \n",
       "dry goods pasta      91277  \n",
       "frozen              247460  \n",
       "households           88584  \n",
       "international        28166  \n",
       "meat seafood         73421  \n",
       "missing               7640  \n",
       "other                 4345  \n",
       "pantry              214721  \n",
       "personal care        52286  \n",
       "pets                 11889  \n",
       "produce            1011420  \n",
       "snacks              343220  "
      ]
     },
     "execution_count": 86,
     "metadata": {},
     "output_type": "execute_result"
    }
   ],
   "source": [
    "ct_dow_dept"
   ]
  },
  {
   "cell_type": "code",
   "execution_count": 87,
   "id": "58ffb32a",
   "metadata": {},
   "outputs": [],
   "source": [
    "ct_dow_dept.to_clipboard()"
   ]
  },
  {
   "cell_type": "code",
   "execution_count": 116,
   "id": "b92f974d",
   "metadata": {},
   "outputs": [],
   "source": [
    "# Export bar chart\n",
    "\n",
    "bar_dow_dept.figure.savefig(os.path.join(path, '04 Analysis','Visualizations', 'bar_DeptSales_by_DOW.png'))"
   ]
  },
  {
   "cell_type": "markdown",
   "id": "fe860f3f",
   "metadata": {},
   "source": [
    ":: Bar chart - dept/busy_tod"
   ]
  },
  {
   "cell_type": "code",
   "execution_count": 88,
   "id": "21871438",
   "metadata": {},
   "outputs": [],
   "source": [
    "# Create crosstab for 'dept_name' and 'busy_tod'\n",
    "\n",
    "ct_tod_dept = pd.crosstab(df_10RC['dept_name'], df_10RC['busy_tod'], dropna = False)"
   ]
  },
  {
   "cell_type": "code",
   "execution_count": 38,
   "id": "c4b1a54b",
   "metadata": {
    "scrolled": false
   },
   "outputs": [
    {
     "data": {
      "text/plain": [
       "Text(0.5, 0, 'Departmental sales by Hour of Day')"
      ]
     },
     "execution_count": 38,
     "metadata": {},
     "output_type": "execute_result"
    },
    {
     "data": {
      "image/png": "[encoded data removed]",
      "text/plain": [
       "<Figure size 432x288 with 1 Axes>"
      ]
     },
     "metadata": {
      "needs_background": "light"
     },
     "output_type": "display_data"
    }
   ],
   "source": [
    "# Create stacked bar for 'ct_tod_dept'\n",
    "\n",
    "bar_tod_dept = ct_tod_dept.plot(kind = 'bar', stacked = True, color = sns.color_palette('seismic', 2))\n",
    "plt.xlabel('Departmental sales by Hour of Day')"
   ]
  },
  {
   "cell_type": "code",
   "execution_count": 89,
   "id": "e6fd6003",
   "metadata": {},
   "outputs": [
    {
     "data": {
      "text/html": [
       "<div>\n",
       "<style scoped>\n",
       "    .dataframe tbody tr th:only-of-type {\n",
       "        vertical-align: middle;\n",
       "    }\n",
       "\n",
       "    .dataframe tbody tr th {\n",
       "        vertical-align: top;\n",
       "    }\n",
       "\n",
       "    .dataframe thead th {\n",
       "        text-align: right;\n",
       "    }\n",
       "</style>\n",
       "<table border=\"1\" class=\"dataframe\">\n",
       "  <thead>\n",
       "    <tr style=\"text-align: right;\">\n",
       "      <th>busy_tod</th>\n",
       "      <th>busy time</th>\n",
       "      <th>slow time</th>\n",
       "    </tr>\n",
       "    <tr>\n",
       "      <th>dept_name</th>\n",
       "      <th></th>\n",
       "      <th></th>\n",
       "    </tr>\n",
       "  </thead>\n",
       "  <tbody>\n",
       "    <tr>\n",
       "      <th>alcohol</th>\n",
       "      <td>114473</td>\n",
       "      <td>30154</td>\n",
       "    </tr>\n",
       "    <tr>\n",
       "      <th>babies</th>\n",
       "      <td>276440</td>\n",
       "      <td>133952</td>\n",
       "    </tr>\n",
       "    <tr>\n",
       "      <th>bakery</th>\n",
       "      <td>805610</td>\n",
       "      <td>315218</td>\n",
       "    </tr>\n",
       "    <tr>\n",
       "      <th>beverages</th>\n",
       "      <td>1872429</td>\n",
       "      <td>699472</td>\n",
       "    </tr>\n",
       "    <tr>\n",
       "      <th>breakfast</th>\n",
       "      <td>474970</td>\n",
       "      <td>195880</td>\n",
       "    </tr>\n",
       "    <tr>\n",
       "      <th>bulk</th>\n",
       "      <td>23798</td>\n",
       "      <td>9653</td>\n",
       "    </tr>\n",
       "    <tr>\n",
       "      <th>canned goods</th>\n",
       "      <td>734269</td>\n",
       "      <td>277805</td>\n",
       "    </tr>\n",
       "    <tr>\n",
       "      <th>dairy eggs</th>\n",
       "      <td>3684115</td>\n",
       "      <td>1493068</td>\n",
       "    </tr>\n",
       "    <tr>\n",
       "      <th>deli</th>\n",
       "      <td>724163</td>\n",
       "      <td>279671</td>\n",
       "    </tr>\n",
       "    <tr>\n",
       "      <th>dry goods pasta</th>\n",
       "      <td>589457</td>\n",
       "      <td>232679</td>\n",
       "    </tr>\n",
       "    <tr>\n",
       "      <th>frozen</th>\n",
       "      <td>1495821</td>\n",
       "      <td>625911</td>\n",
       "    </tr>\n",
       "    <tr>\n",
       "      <th>households</th>\n",
       "      <td>497716</td>\n",
       "      <td>202142</td>\n",
       "    </tr>\n",
       "    <tr>\n",
       "      <th>international</th>\n",
       "      <td>186260</td>\n",
       "      <td>69731</td>\n",
       "    </tr>\n",
       "    <tr>\n",
       "      <th>meat seafood</th>\n",
       "      <td>485173</td>\n",
       "      <td>189608</td>\n",
       "    </tr>\n",
       "    <tr>\n",
       "      <th>missing</th>\n",
       "      <td>45918</td>\n",
       "      <td>18850</td>\n",
       "    </tr>\n",
       "    <tr>\n",
       "      <th>other</th>\n",
       "      <td>24602</td>\n",
       "      <td>9809</td>\n",
       "    </tr>\n",
       "    <tr>\n",
       "      <th>pantry</th>\n",
       "      <td>1282133</td>\n",
       "      <td>500572</td>\n",
       "    </tr>\n",
       "    <tr>\n",
       "      <th>personal care</th>\n",
       "      <td>297564</td>\n",
       "      <td>126742</td>\n",
       "    </tr>\n",
       "    <tr>\n",
       "      <th>pets</th>\n",
       "      <td>65804</td>\n",
       "      <td>27256</td>\n",
       "    </tr>\n",
       "    <tr>\n",
       "      <th>produce</th>\n",
       "      <td>6460663</td>\n",
       "      <td>2618613</td>\n",
       "    </tr>\n",
       "    <tr>\n",
       "      <th>snacks</th>\n",
       "      <td>2021829</td>\n",
       "      <td>744577</td>\n",
       "    </tr>\n",
       "  </tbody>\n",
       "</table>\n",
       "</div>"
      ],
      "text/plain": [
       "busy_tod         busy time  slow time\n",
       "dept_name                            \n",
       "alcohol             114473      30154\n",
       "babies              276440     133952\n",
       "bakery              805610     315218\n",
       "beverages          1872429     699472\n",
       "breakfast           474970     195880\n",
       "bulk                 23798       9653\n",
       "canned goods        734269     277805\n",
       "dairy eggs         3684115    1493068\n",
       "deli                724163     279671\n",
       "dry goods pasta     589457     232679\n",
       "frozen             1495821     625911\n",
       "households          497716     202142\n",
       "international       186260      69731\n",
       "meat seafood        485173     189608\n",
       "missing              45918      18850\n",
       "other                24602       9809\n",
       "pantry             1282133     500572\n",
       "personal care       297564     126742\n",
       "pets                 65804      27256\n",
       "produce            6460663    2618613\n",
       "snacks             2021829     744577"
      ]
     },
     "execution_count": 89,
     "metadata": {},
     "output_type": "execute_result"
    }
   ],
   "source": [
    "ct_tod_dept"
   ]
  },
  {
   "cell_type": "code",
   "execution_count": 90,
   "id": "20fc4bc5",
   "metadata": {},
   "outputs": [],
   "source": [
    "ct_tod_dept.to_clipboard()"
   ]
  },
  {
   "cell_type": "code",
   "execution_count": 39,
   "id": "1a6b6519",
   "metadata": {},
   "outputs": [],
   "source": [
    "# Export bar chart\n",
    "\n",
    "bar_tod_dept.figure.savefig(os.path.join(path, '04 Analysis','Visualizations', 'bar_DeptSales_by_TOD.png'))"
   ]
  },
  {
   "cell_type": "markdown",
   "id": "39b9e532",
   "metadata": {},
   "source": [
    ":: Bar chat - dept/price groups"
   ]
  },
  {
   "cell_type": "code",
   "execution_count": 91,
   "id": "7435ee86",
   "metadata": {},
   "outputs": [],
   "source": [
    "# Create crosstab for 'dept_name' and 'busy_tod'\n",
    "\n",
    "ct_Pgroup_dept = pd.crosstab(df_10RC['dept_name'], df_10RC['price_range_loc'], dropna = False)"
   ]
  },
  {
   "cell_type": "code",
   "execution_count": 50,
   "id": "32a90860",
   "metadata": {
    "scrolled": false
   },
   "outputs": [
    {
     "data": {
      "text/plain": [
       "Text(0.5, 0, 'Departmental sales by Price Range')"
      ]
     },
     "execution_count": 50,
     "metadata": {},
     "output_type": "execute_result"
    },
    {
     "data": {
      "image/png": "[encoded data removed]",
      "text/plain": [
       "<Figure size 432x288 with 1 Axes>"
      ]
     },
     "metadata": {
      "needs_background": "light"
     },
     "output_type": "display_data"
    }
   ],
   "source": [
    "# Create stacked bar for 'ct_tod_dept'\n",
    "\n",
    "bar_Pgroup_dept = ct_Pgroup_dept.plot(kind = 'bar', stacked = True, color = sns.color_palette('seismic', 4))\n",
    "plt.xlabel('Departmental sales by Price Range')"
   ]
  },
  {
   "cell_type": "code",
   "execution_count": 92,
   "id": "bc418b6a",
   "metadata": {},
   "outputs": [
    {
     "data": {
      "text/plain": [
       "Mid-range product     20891775\n",
       "Low-range product      9674842\n",
       "High-range product      397953\n",
       "Name: price_range_loc, dtype: int64"
      ]
     },
     "execution_count": 92,
     "metadata": {},
     "output_type": "execute_result"
    }
   ],
   "source": [
    "df_10RC['price_range_loc'].value_counts()"
   ]
  },
  {
   "cell_type": "code",
   "execution_count": 93,
   "id": "23cf35cd",
   "metadata": {},
   "outputs": [],
   "source": [
    "df_10RC['price_range_loc'].value_counts().to_clipboard()"
   ]
  },
  {
   "cell_type": "code",
   "execution_count": 51,
   "id": "003f5334",
   "metadata": {},
   "outputs": [],
   "source": [
    "# Export bar chart\n",
    "\n",
    "bar_Pgroup_dept.figure.savefig(os.path.join(path, '04 Analysis','Visualizations', 'bar_DeptSales_by_Price_Range.png'))"
   ]
  },
  {
   "cell_type": "markdown",
   "id": "e5f8bdb0",
   "metadata": {},
   "source": [
    ":: Bar chart - dept/loyalty"
   ]
  },
  {
   "cell_type": "code",
   "execution_count": 94,
   "id": "3da94a62",
   "metadata": {},
   "outputs": [],
   "source": [
    "# Create crosstab for 'dept_name' and 'loyalty_flag'\n",
    "\n",
    "ct_loyalty_dept = pd.crosstab(df_10RC['dept_name'], df_10RC['loyalty_flag'], dropna = False)"
   ]
  },
  {
   "cell_type": "code",
   "execution_count": 25,
   "id": "43564928",
   "metadata": {
    "scrolled": false
   },
   "outputs": [
    {
     "data": {
      "text/plain": [
       "Text(0.5, 0, 'Departmental sales by Loyalty')"
      ]
     },
     "execution_count": 25,
     "metadata": {},
     "output_type": "execute_result"
    },
    {
     "data": {
      "image/png": "[encoded data removed]",
      "text/plain": [
       "<Figure size 432x288 with 1 Axes>"
      ]
     },
     "metadata": {
      "needs_background": "light"
     },
     "output_type": "display_data"
    }
   ],
   "source": [
    "# Create stacked bar for 'ct_loaylty_dept'\n",
    "\n",
    "bar_loyalty_dept = ct_loyalty_dept.plot(kind = 'bar', stacked = True, color = sns.color_palette('seismic', 4))\n",
    "plt.xlabel('Departmental sales by Loyalty')"
   ]
  },
  {
   "cell_type": "code",
   "execution_count": 95,
   "id": "1d6456e0",
   "metadata": {
    "scrolled": false
   },
   "outputs": [
    {
     "data": {
      "text/html": [
       "<div>\n",
       "<style scoped>\n",
       "    .dataframe tbody tr th:only-of-type {\n",
       "        vertical-align: middle;\n",
       "    }\n",
       "\n",
       "    .dataframe tbody tr th {\n",
       "        vertical-align: top;\n",
       "    }\n",
       "\n",
       "    .dataframe thead th {\n",
       "        text-align: right;\n",
       "    }\n",
       "</style>\n",
       "<table border=\"1\" class=\"dataframe\">\n",
       "  <thead>\n",
       "    <tr style=\"text-align: right;\">\n",
       "      <th>loyalty_flag</th>\n",
       "      <th>Loyal customer</th>\n",
       "      <th>New customer</th>\n",
       "      <th>Regular customer</th>\n",
       "    </tr>\n",
       "    <tr>\n",
       "      <th>dept_name</th>\n",
       "      <th></th>\n",
       "      <th></th>\n",
       "      <th></th>\n",
       "    </tr>\n",
       "  </thead>\n",
       "  <tbody>\n",
       "    <tr>\n",
       "      <th>alcohol</th>\n",
       "      <td>38723</td>\n",
       "      <td>28629</td>\n",
       "      <td>77275</td>\n",
       "    </tr>\n",
       "    <tr>\n",
       "      <th>babies</th>\n",
       "      <td>167108</td>\n",
       "      <td>46708</td>\n",
       "      <td>196576</td>\n",
       "    </tr>\n",
       "    <tr>\n",
       "      <th>bakery</th>\n",
       "      <td>379873</td>\n",
       "      <td>172104</td>\n",
       "      <td>568851</td>\n",
       "    </tr>\n",
       "    <tr>\n",
       "      <th>beverages</th>\n",
       "      <td>855017</td>\n",
       "      <td>396649</td>\n",
       "      <td>1320235</td>\n",
       "    </tr>\n",
       "    <tr>\n",
       "      <th>breakfast</th>\n",
       "      <td>221577</td>\n",
       "      <td>106179</td>\n",
       "      <td>343094</td>\n",
       "    </tr>\n",
       "    <tr>\n",
       "      <th>bulk</th>\n",
       "      <td>13834</td>\n",
       "      <td>4149</td>\n",
       "      <td>15468</td>\n",
       "    </tr>\n",
       "    <tr>\n",
       "      <th>canned goods</th>\n",
       "      <td>294594</td>\n",
       "      <td>180196</td>\n",
       "      <td>537284</td>\n",
       "    </tr>\n",
       "    <tr>\n",
       "      <th>dairy eggs</th>\n",
       "      <td>1830707</td>\n",
       "      <td>750057</td>\n",
       "      <td>2596419</td>\n",
       "    </tr>\n",
       "    <tr>\n",
       "      <th>deli</th>\n",
       "      <td>324046</td>\n",
       "      <td>158335</td>\n",
       "      <td>521453</td>\n",
       "    </tr>\n",
       "    <tr>\n",
       "      <th>dry goods pasta</th>\n",
       "      <td>242580</td>\n",
       "      <td>144836</td>\n",
       "      <td>434720</td>\n",
       "    </tr>\n",
       "    <tr>\n",
       "      <th>frozen</th>\n",
       "      <td>609460</td>\n",
       "      <td>372272</td>\n",
       "      <td>1140000</td>\n",
       "    </tr>\n",
       "    <tr>\n",
       "      <th>households</th>\n",
       "      <td>196873</td>\n",
       "      <td>128118</td>\n",
       "      <td>374867</td>\n",
       "    </tr>\n",
       "    <tr>\n",
       "      <th>international</th>\n",
       "      <td>78394</td>\n",
       "      <td>43841</td>\n",
       "      <td>133756</td>\n",
       "    </tr>\n",
       "    <tr>\n",
       "      <th>meat seafood</th>\n",
       "      <td>202480</td>\n",
       "      <td>112464</td>\n",
       "      <td>359837</td>\n",
       "    </tr>\n",
       "    <tr>\n",
       "      <th>missing</th>\n",
       "      <td>18350</td>\n",
       "      <td>12713</td>\n",
       "      <td>33705</td>\n",
       "    </tr>\n",
       "    <tr>\n",
       "      <th>other</th>\n",
       "      <td>10715</td>\n",
       "      <td>5839</td>\n",
       "      <td>17857</td>\n",
       "    </tr>\n",
       "    <tr>\n",
       "      <th>pantry</th>\n",
       "      <td>560402</td>\n",
       "      <td>299576</td>\n",
       "      <td>922727</td>\n",
       "    </tr>\n",
       "    <tr>\n",
       "      <th>personal care</th>\n",
       "      <td>123365</td>\n",
       "      <td>75442</td>\n",
       "      <td>225499</td>\n",
       "    </tr>\n",
       "    <tr>\n",
       "      <th>pets</th>\n",
       "      <td>25469</td>\n",
       "      <td>15880</td>\n",
       "      <td>51711</td>\n",
       "    </tr>\n",
       "    <tr>\n",
       "      <th>produce</th>\n",
       "      <td>3147376</td>\n",
       "      <td>1336607</td>\n",
       "      <td>4595293</td>\n",
       "    </tr>\n",
       "    <tr>\n",
       "      <th>snacks</th>\n",
       "      <td>943150</td>\n",
       "      <td>413107</td>\n",
       "      <td>1410149</td>\n",
       "    </tr>\n",
       "  </tbody>\n",
       "</table>\n",
       "</div>"
      ],
      "text/plain": [
       "loyalty_flag     Loyal customer  New customer  Regular customer\n",
       "dept_name                                                      \n",
       "alcohol                   38723         28629             77275\n",
       "babies                   167108         46708            196576\n",
       "bakery                   379873        172104            568851\n",
       "beverages                855017        396649           1320235\n",
       "breakfast                221577        106179            343094\n",
       "bulk                      13834          4149             15468\n",
       "canned goods             294594        180196            537284\n",
       "dairy eggs              1830707        750057           2596419\n",
       "deli                     324046        158335            521453\n",
       "dry goods pasta          242580        144836            434720\n",
       "frozen                   609460        372272           1140000\n",
       "households               196873        128118            374867\n",
       "international             78394         43841            133756\n",
       "meat seafood             202480        112464            359837\n",
       "missing                   18350         12713             33705\n",
       "other                     10715          5839             17857\n",
       "pantry                   560402        299576            922727\n",
       "personal care            123365         75442            225499\n",
       "pets                      25469         15880             51711\n",
       "produce                 3147376       1336607           4595293\n",
       "snacks                   943150        413107           1410149"
      ]
     },
     "execution_count": 95,
     "metadata": {},
     "output_type": "execute_result"
    }
   ],
   "source": [
    "ct_loyalty_dept"
   ]
  },
  {
   "cell_type": "code",
   "execution_count": 96,
   "id": "98608d89",
   "metadata": {},
   "outputs": [],
   "source": [
    "ct_loyalty_dept.to_clipboard()"
   ]
  },
  {
   "cell_type": "code",
   "execution_count": 26,
   "id": "06946935",
   "metadata": {},
   "outputs": [],
   "source": [
    "# Export bar chart\n",
    "\n",
    "bar_loyalty_dept.figure.savefig(os.path.join(path, '04 Analysis','Visualizations', 'bar_DeptSales_by_Loyalty.png'))"
   ]
  },
  {
   "cell_type": "markdown",
   "id": "132053c9",
   "metadata": {},
   "source": [
    ":: Bar chart - region/parental"
   ]
  },
  {
   "cell_type": "code",
   "execution_count": 97,
   "id": "ad66f71f",
   "metadata": {},
   "outputs": [],
   "source": [
    "# Create crosstab for 'region' and 'parental_status'\n",
    "\n",
    "ct_region_parentalS = pd.crosstab(df_10RC['region'], df_10RC['parental_status'], dropna = False)"
   ]
  },
  {
   "cell_type": "code",
   "execution_count": 118,
   "id": "fef7e6a6",
   "metadata": {
    "scrolled": true
   },
   "outputs": [
    {
     "data": {
      "text/plain": [
       "Text(0.5, 0, 'Regional sales by Parental Status')"
      ]
     },
     "execution_count": 118,
     "metadata": {},
     "output_type": "execute_result"
    },
    {
     "data": {
      "image/png": "[encoded data removed]",
      "text/plain": [
       "<Figure size 432x288 with 1 Axes>"
      ]
     },
     "metadata": {
      "needs_background": "light"
     },
     "output_type": "display_data"
    }
   ],
   "source": [
    "# Create stacked bar for 'ct_region_parentalS'\n",
    "\n",
    "bar_region_parentalS = ct_region_parentalS.plot(kind = 'bar', stacked = True, color = sns.color_palette('winter', 2))\n",
    "plt.xlabel('Regional sales by Parental Status')"
   ]
  },
  {
   "cell_type": "code",
   "execution_count": 98,
   "id": "6dedad8b",
   "metadata": {
    "scrolled": true
   },
   "outputs": [
    {
     "data": {
      "text/html": [
       "<div>\n",
       "<style scoped>\n",
       "    .dataframe tbody tr th:only-of-type {\n",
       "        vertical-align: middle;\n",
       "    }\n",
       "\n",
       "    .dataframe tbody tr th {\n",
       "        vertical-align: top;\n",
       "    }\n",
       "\n",
       "    .dataframe thead th {\n",
       "        text-align: right;\n",
       "    }\n",
       "</style>\n",
       "<table border=\"1\" class=\"dataframe\">\n",
       "  <thead>\n",
       "    <tr style=\"text-align: right;\">\n",
       "      <th>parental_status</th>\n",
       "      <th>non-parent</th>\n",
       "      <th>parent</th>\n",
       "    </tr>\n",
       "    <tr>\n",
       "      <th>region</th>\n",
       "      <th></th>\n",
       "      <th></th>\n",
       "    </tr>\n",
       "  </thead>\n",
       "  <tbody>\n",
       "    <tr>\n",
       "      <th>Midwest</th>\n",
       "      <td>1824511</td>\n",
       "      <td>5443391</td>\n",
       "    </tr>\n",
       "    <tr>\n",
       "      <th>Northeast</th>\n",
       "      <td>1355842</td>\n",
       "      <td>4114322</td>\n",
       "    </tr>\n",
       "    <tr>\n",
       "      <th>South</th>\n",
       "      <td>2584479</td>\n",
       "      <td>7736352</td>\n",
       "    </tr>\n",
       "    <tr>\n",
       "      <th>West</th>\n",
       "      <td>1982351</td>\n",
       "      <td>5952241</td>\n",
       "    </tr>\n",
       "  </tbody>\n",
       "</table>\n",
       "</div>"
      ],
      "text/plain": [
       "parental_status  non-parent   parent\n",
       "region                              \n",
       "Midwest             1824511  5443391\n",
       "Northeast           1355842  4114322\n",
       "South               2584479  7736352\n",
       "West                1982351  5952241"
      ]
     },
     "execution_count": 98,
     "metadata": {},
     "output_type": "execute_result"
    }
   ],
   "source": [
    "ct_region_parentalS"
   ]
  },
  {
   "cell_type": "code",
   "execution_count": 99,
   "id": "49fc7acf",
   "metadata": {},
   "outputs": [],
   "source": [
    "ct_region_parentalS.to_clipboard()"
   ]
  },
  {
   "cell_type": "code",
   "execution_count": 119,
   "id": "e7faeb55",
   "metadata": {},
   "outputs": [],
   "source": [
    "# Export bar chart\n",
    "\n",
    "bar_region_parentalS.figure.savefig(os.path.join(path, '04 Analysis','Visualizations', 'bar_RegionalSales_by_ParentalS.png'))"
   ]
  },
  {
   "cell_type": "markdown",
   "id": "6a9221d9",
   "metadata": {},
   "source": [
    ":: Bar chart - region/marital status"
   ]
  },
  {
   "cell_type": "code",
   "execution_count": 100,
   "id": "2e1219e1",
   "metadata": {},
   "outputs": [],
   "source": [
    "# Create crosstab for 'region' and 'marital_status'\n",
    "\n",
    "ct_region_maritalS = pd.crosstab(df_10RC['region'], df_10RC['marital_status'], dropna = False)"
   ]
  },
  {
   "cell_type": "code",
   "execution_count": 121,
   "id": "2d6cf9e6",
   "metadata": {
    "scrolled": true
   },
   "outputs": [
    {
     "data": {
      "text/plain": [
       "Text(0.5, 0, 'Regional sales by Marital Status')"
      ]
     },
     "execution_count": 121,
     "metadata": {},
     "output_type": "execute_result"
    },
    {
     "data": {
      "image/png": "[encoded data removed]",
      "text/plain": [
       "<Figure size 432x288 with 1 Axes>"
      ]
     },
     "metadata": {
      "needs_background": "light"
     },
     "output_type": "display_data"
    }
   ],
   "source": [
    "# Create stacked bar for 'ct_region_maritalS'\n",
    "\n",
    "bar_region_maritalS = ct_region_maritalS.plot(kind = 'bar', stacked = True, color = sns.color_palette('winter', 4))\n",
    "plt.xlabel('Regional sales by Marital Status')"
   ]
  },
  {
   "cell_type": "code",
   "execution_count": 101,
   "id": "7653d50f",
   "metadata": {},
   "outputs": [
    {
     "data": {
      "text/html": [
       "<div>\n",
       "<style scoped>\n",
       "    .dataframe tbody tr th:only-of-type {\n",
       "        vertical-align: middle;\n",
       "    }\n",
       "\n",
       "    .dataframe tbody tr th {\n",
       "        vertical-align: top;\n",
       "    }\n",
       "\n",
       "    .dataframe thead th {\n",
       "        text-align: right;\n",
       "    }\n",
       "</style>\n",
       "<table border=\"1\" class=\"dataframe\">\n",
       "  <thead>\n",
       "    <tr style=\"text-align: right;\">\n",
       "      <th>marital_status</th>\n",
       "      <th>divorced/widowed</th>\n",
       "      <th>living with parents and siblings</th>\n",
       "      <th>married</th>\n",
       "      <th>single</th>\n",
       "    </tr>\n",
       "    <tr>\n",
       "      <th>region</th>\n",
       "      <th></th>\n",
       "      <th></th>\n",
       "      <th></th>\n",
       "      <th></th>\n",
       "    </tr>\n",
       "  </thead>\n",
       "  <tbody>\n",
       "    <tr>\n",
       "      <th>Midwest</th>\n",
       "      <td>617718</td>\n",
       "      <td>351719</td>\n",
       "      <td>5091672</td>\n",
       "      <td>1206793</td>\n",
       "    </tr>\n",
       "    <tr>\n",
       "      <th>Northeast</th>\n",
       "      <td>479247</td>\n",
       "      <td>256791</td>\n",
       "      <td>3857531</td>\n",
       "      <td>876595</td>\n",
       "    </tr>\n",
       "    <tr>\n",
       "      <th>South</th>\n",
       "      <td>878059</td>\n",
       "      <td>505953</td>\n",
       "      <td>7230399</td>\n",
       "      <td>1706420</td>\n",
       "    </tr>\n",
       "    <tr>\n",
       "      <th>West</th>\n",
       "      <td>672775</td>\n",
       "      <td>368258</td>\n",
       "      <td>5583983</td>\n",
       "      <td>1309576</td>\n",
       "    </tr>\n",
       "  </tbody>\n",
       "</table>\n",
       "</div>"
      ],
      "text/plain": [
       "marital_status  divorced/widowed  living with parents and siblings  married  \\\n",
       "region                                                                        \n",
       "Midwest                   617718                            351719  5091672   \n",
       "Northeast                 479247                            256791  3857531   \n",
       "South                     878059                            505953  7230399   \n",
       "West                      672775                            368258  5583983   \n",
       "\n",
       "marital_status   single  \n",
       "region                   \n",
       "Midwest         1206793  \n",
       "Northeast        876595  \n",
       "South           1706420  \n",
       "West            1309576  "
      ]
     },
     "execution_count": 101,
     "metadata": {},
     "output_type": "execute_result"
    }
   ],
   "source": [
    "ct_region_maritalS"
   ]
  },
  {
   "cell_type": "code",
   "execution_count": 102,
   "id": "0d9584ed",
   "metadata": {},
   "outputs": [],
   "source": [
    "ct_region_maritalS.to_clipboard()"
   ]
  },
  {
   "cell_type": "code",
   "execution_count": 122,
   "id": "584092ff",
   "metadata": {},
   "outputs": [],
   "source": [
    "# Export bar chart\n",
    "\n",
    "bar_region_maritalS.figure.savefig(os.path.join(path, '04 Analysis','Visualizations', 'bar_RegionalSales_by_MaritalS.png'))"
   ]
  },
  {
   "cell_type": "markdown",
   "id": "dfc33ba1",
   "metadata": {},
   "source": [
    ":: Bar chart - region/age"
   ]
  },
  {
   "cell_type": "code",
   "execution_count": 103,
   "id": "ec28205d",
   "metadata": {},
   "outputs": [],
   "source": [
    "# Create crosstab for 'region' and 'age'\n",
    "\n",
    "ct_region_age = pd.crosstab(df_10RC['region'], df_10RC['age_group'], dropna = False)"
   ]
  },
  {
   "cell_type": "code",
   "execution_count": 124,
   "id": "bedc92c9",
   "metadata": {
    "scrolled": true
   },
   "outputs": [
    {
     "data": {
      "text/plain": [
       "Text(0.5, 0, 'Regional sales by Age Group')"
      ]
     },
     "execution_count": 124,
     "metadata": {},
     "output_type": "execute_result"
    },
    {
     "data": {
      "image/png": "[encoded data removed]",
      "text/plain": [
       "<Figure size 432x288 with 1 Axes>"
      ]
     },
     "metadata": {
      "needs_background": "light"
     },
     "output_type": "display_data"
    }
   ],
   "source": [
    "# Create stacked bar for 'ct_region_age'\n",
    "\n",
    "bar_region_age = ct_region_age.plot(kind = 'bar', stacked = True, color = sns.color_palette('winter', 8))\n",
    "plt.xlabel('Regional sales by Age Group')"
   ]
  },
  {
   "cell_type": "code",
   "execution_count": 104,
   "id": "5f1d7567",
   "metadata": {},
   "outputs": [
    {
     "data": {
      "text/html": [
       "<div>\n",
       "<style scoped>\n",
       "    .dataframe tbody tr th:only-of-type {\n",
       "        vertical-align: middle;\n",
       "    }\n",
       "\n",
       "    .dataframe tbody tr th {\n",
       "        vertical-align: top;\n",
       "    }\n",
       "\n",
       "    .dataframe thead th {\n",
       "        text-align: right;\n",
       "    }\n",
       "</style>\n",
       "<table border=\"1\" class=\"dataframe\">\n",
       "  <thead>\n",
       "    <tr style=\"text-align: right;\">\n",
       "      <th>age_group</th>\n",
       "      <th>18-20</th>\n",
       "      <th>21-30</th>\n",
       "      <th>31-40</th>\n",
       "      <th>41-50</th>\n",
       "      <th>51-60</th>\n",
       "      <th>61-70</th>\n",
       "      <th>71-80</th>\n",
       "      <th>80+</th>\n",
       "    </tr>\n",
       "    <tr>\n",
       "      <th>region</th>\n",
       "      <th></th>\n",
       "      <th></th>\n",
       "      <th></th>\n",
       "      <th></th>\n",
       "      <th></th>\n",
       "      <th></th>\n",
       "      <th></th>\n",
       "      <th></th>\n",
       "    </tr>\n",
       "  </thead>\n",
       "  <tbody>\n",
       "    <tr>\n",
       "      <th>Midwest</th>\n",
       "      <td>340519</td>\n",
       "      <td>1121782</td>\n",
       "      <td>1131361</td>\n",
       "      <td>1178495</td>\n",
       "      <td>1137101</td>\n",
       "      <td>1125492</td>\n",
       "      <td>1107944</td>\n",
       "      <td>125208</td>\n",
       "    </tr>\n",
       "    <tr>\n",
       "      <th>Northeast</th>\n",
       "      <td>253759</td>\n",
       "      <td>858967</td>\n",
       "      <td>843145</td>\n",
       "      <td>853805</td>\n",
       "      <td>849720</td>\n",
       "      <td>860579</td>\n",
       "      <td>870865</td>\n",
       "      <td>79324</td>\n",
       "    </tr>\n",
       "    <tr>\n",
       "      <th>South</th>\n",
       "      <td>494536</td>\n",
       "      <td>1634474</td>\n",
       "      <td>1649493</td>\n",
       "      <td>1593364</td>\n",
       "      <td>1584636</td>\n",
       "      <td>1585411</td>\n",
       "      <td>1627847</td>\n",
       "      <td>151070</td>\n",
       "    </tr>\n",
       "    <tr>\n",
       "      <th>West</th>\n",
       "      <td>367327</td>\n",
       "      <td>1238930</td>\n",
       "      <td>1224505</td>\n",
       "      <td>1247382</td>\n",
       "      <td>1268354</td>\n",
       "      <td>1213050</td>\n",
       "      <td>1244300</td>\n",
       "      <td>130744</td>\n",
       "    </tr>\n",
       "  </tbody>\n",
       "</table>\n",
       "</div>"
      ],
      "text/plain": [
       "age_group   18-20    21-30    31-40    41-50    51-60    61-70    71-80  \\\n",
       "region                                                                    \n",
       "Midwest    340519  1121782  1131361  1178495  1137101  1125492  1107944   \n",
       "Northeast  253759   858967   843145   853805   849720   860579   870865   \n",
       "South      494536  1634474  1649493  1593364  1584636  1585411  1627847   \n",
       "West       367327  1238930  1224505  1247382  1268354  1213050  1244300   \n",
       "\n",
       "age_group     80+  \n",
       "region             \n",
       "Midwest    125208  \n",
       "Northeast   79324  \n",
       "South      151070  \n",
       "West       130744  "
      ]
     },
     "execution_count": 104,
     "metadata": {},
     "output_type": "execute_result"
    }
   ],
   "source": [
    "ct_region_age"
   ]
  },
  {
   "cell_type": "code",
   "execution_count": 105,
   "id": "4a557e21",
   "metadata": {},
   "outputs": [],
   "source": [
    "ct_region_age.to_clipboard()"
   ]
  },
  {
   "cell_type": "code",
   "execution_count": 125,
   "id": "7553749b",
   "metadata": {},
   "outputs": [],
   "source": [
    "# Export bar chart\n",
    "\n",
    "bar_region_age.figure.savefig(os.path.join(path, '04 Analysis','Visualizations', 'bar_RegionalSales_by_AgeGroup.png'))"
   ]
  },
  {
   "cell_type": "markdown",
   "id": "f1278709",
   "metadata": {},
   "source": [
    ":: Bar chart - region/income"
   ]
  },
  {
   "cell_type": "code",
   "execution_count": 106,
   "id": "e1dff636",
   "metadata": {},
   "outputs": [],
   "source": [
    "# Create crosstab for 'region' and 'income_b'\n",
    "\n",
    "ct_region_income = pd.crosstab(df_10RC['region'], df_10RC['income_b'], dropna = False)"
   ]
  },
  {
   "cell_type": "code",
   "execution_count": 127,
   "id": "97fe3a69",
   "metadata": {
    "scrolled": true
   },
   "outputs": [
    {
     "data": {
      "text/plain": [
       "Text(0.5, 0, 'Regional sales by Income Bracket')"
      ]
     },
     "execution_count": 127,
     "metadata": {},
     "output_type": "execute_result"
    },
    {
     "data": {
      "image/png": "[encoded data removed]",
      "text/plain": [
       "<Figure size 432x288 with 1 Axes>"
      ]
     },
     "metadata": {
      "needs_background": "light"
     },
     "output_type": "display_data"
    }
   ],
   "source": [
    "# Create stacked bar for 'ct_region_income'\n",
    "\n",
    "bar_region_income = ct_region_income.plot(kind = 'bar', stacked = True, color = sns.color_palette('winter', 6))\n",
    "plt.xlabel('Regional sales by Income Bracket')"
   ]
  },
  {
   "cell_type": "code",
   "execution_count": 107,
   "id": "613f9b30",
   "metadata": {},
   "outputs": [
    {
     "data": {
      "text/html": [
       "<div>\n",
       "<style scoped>\n",
       "    .dataframe tbody tr th:only-of-type {\n",
       "        vertical-align: middle;\n",
       "    }\n",
       "\n",
       "    .dataframe tbody tr th {\n",
       "        vertical-align: top;\n",
       "    }\n",
       "\n",
       "    .dataframe thead th {\n",
       "        text-align: right;\n",
       "    }\n",
       "</style>\n",
       "<table border=\"1\" class=\"dataframe\">\n",
       "  <thead>\n",
       "    <tr style=\"text-align: right;\">\n",
       "      <th>income_b</th>\n",
       "      <th>025000-050000</th>\n",
       "      <th>050000-075000</th>\n",
       "      <th>075000-100000</th>\n",
       "      <th>100000-125000</th>\n",
       "      <th>125000-150000</th>\n",
       "      <th>150000+</th>\n",
       "    </tr>\n",
       "    <tr>\n",
       "      <th>region</th>\n",
       "      <th></th>\n",
       "      <th></th>\n",
       "      <th></th>\n",
       "      <th></th>\n",
       "      <th></th>\n",
       "      <th></th>\n",
       "    </tr>\n",
       "  </thead>\n",
       "  <tbody>\n",
       "    <tr>\n",
       "      <th>Midwest</th>\n",
       "      <td>784531</td>\n",
       "      <td>1518197</td>\n",
       "      <td>1562338</td>\n",
       "      <td>1429662</td>\n",
       "      <td>1055409</td>\n",
       "      <td>917765</td>\n",
       "    </tr>\n",
       "    <tr>\n",
       "      <th>Northeast</th>\n",
       "      <td>587849</td>\n",
       "      <td>1143883</td>\n",
       "      <td>1219504</td>\n",
       "      <td>1044104</td>\n",
       "      <td>796515</td>\n",
       "      <td>678309</td>\n",
       "    </tr>\n",
       "    <tr>\n",
       "      <th>South</th>\n",
       "      <td>1143924</td>\n",
       "      <td>2173292</td>\n",
       "      <td>2335996</td>\n",
       "      <td>1945861</td>\n",
       "      <td>1430172</td>\n",
       "      <td>1291586</td>\n",
       "    </tr>\n",
       "    <tr>\n",
       "      <th>West</th>\n",
       "      <td>849915</td>\n",
       "      <td>1715070</td>\n",
       "      <td>1739544</td>\n",
       "      <td>1514337</td>\n",
       "      <td>1105314</td>\n",
       "      <td>1010412</td>\n",
       "    </tr>\n",
       "  </tbody>\n",
       "</table>\n",
       "</div>"
      ],
      "text/plain": [
       "income_b   025000-050000  050000-075000  075000-100000  100000-125000  \\\n",
       "region                                                                  \n",
       "Midwest           784531        1518197        1562338        1429662   \n",
       "Northeast         587849        1143883        1219504        1044104   \n",
       "South            1143924        2173292        2335996        1945861   \n",
       "West              849915        1715070        1739544        1514337   \n",
       "\n",
       "income_b   125000-150000  150000+  \n",
       "region                             \n",
       "Midwest          1055409   917765  \n",
       "Northeast         796515   678309  \n",
       "South            1430172  1291586  \n",
       "West             1105314  1010412  "
      ]
     },
     "execution_count": 107,
     "metadata": {},
     "output_type": "execute_result"
    }
   ],
   "source": [
    "ct_region_income"
   ]
  },
  {
   "cell_type": "code",
   "execution_count": 108,
   "id": "1159ee8f",
   "metadata": {},
   "outputs": [],
   "source": [
    "ct_region_income.to_clipboard()"
   ]
  },
  {
   "cell_type": "code",
   "execution_count": 128,
   "id": "8ef05f9c",
   "metadata": {},
   "outputs": [],
   "source": [
    "# Export bar chart\n",
    "\n",
    "bar_region_income.figure.savefig(os.path.join(path, '04 Analysis','Visualizations', 'bar_RegionalSales_by_IncomeBracket.png'))"
   ]
  },
  {
   "cell_type": "markdown",
   "id": "ad8a1a5b",
   "metadata": {},
   "source": [
    ":: Bar chart - region/orders day of week"
   ]
  },
  {
   "cell_type": "code",
   "execution_count": 109,
   "id": "8d95b92f",
   "metadata": {},
   "outputs": [],
   "source": [
    "# Create crosstab for 'region' and 'orders_day_of_week'\n",
    "\n",
    "ct_region_dow = pd.crosstab(df_10RC['region'], df_10RC['day_name'], dropna = False)"
   ]
  },
  {
   "cell_type": "code",
   "execution_count": 130,
   "id": "0fa7ab7c",
   "metadata": {
    "scrolled": true
   },
   "outputs": [
    {
     "data": {
      "text/plain": [
       "Text(0.5, 0, 'Regional sales by Day Of The Week')"
      ]
     },
     "execution_count": 130,
     "metadata": {},
     "output_type": "execute_result"
    },
    {
     "data": {
      "image/png": "[encoded data removed]",
      "text/plain": [
       "<Figure size 432x288 with 1 Axes>"
      ]
     },
     "metadata": {
      "needs_background": "light"
     },
     "output_type": "display_data"
    }
   ],
   "source": [
    "# Create stacked bar for 'ct_region_dow'\n",
    "\n",
    "bar_region_dow = ct_region_dow.plot(kind = 'bar', stacked = True, color = sns.color_palette('winter', 7))\n",
    "plt.xlabel('Regional sales by Day Of The Week')"
   ]
  },
  {
   "cell_type": "code",
   "execution_count": 110,
   "id": "c2f52ea9",
   "metadata": {},
   "outputs": [
    {
     "data": {
      "text/html": [
       "<div>\n",
       "<style scoped>\n",
       "    .dataframe tbody tr th:only-of-type {\n",
       "        vertical-align: middle;\n",
       "    }\n",
       "\n",
       "    .dataframe tbody tr th {\n",
       "        vertical-align: top;\n",
       "    }\n",
       "\n",
       "    .dataframe thead th {\n",
       "        text-align: right;\n",
       "    }\n",
       "</style>\n",
       "<table border=\"1\" class=\"dataframe\">\n",
       "  <thead>\n",
       "    <tr style=\"text-align: right;\">\n",
       "      <th>day_name</th>\n",
       "      <th>friday</th>\n",
       "      <th>monday</th>\n",
       "      <th>saturday</th>\n",
       "      <th>sunday</th>\n",
       "      <th>thursday</th>\n",
       "      <th>tuesday</th>\n",
       "      <th>wednesday</th>\n",
       "    </tr>\n",
       "    <tr>\n",
       "      <th>region</th>\n",
       "      <th></th>\n",
       "      <th></th>\n",
       "      <th></th>\n",
       "      <th></th>\n",
       "      <th></th>\n",
       "      <th></th>\n",
       "      <th></th>\n",
       "    </tr>\n",
       "  </thead>\n",
       "  <tbody>\n",
       "    <tr>\n",
       "      <th>Midwest</th>\n",
       "      <td>1010849</td>\n",
       "      <td>948256</td>\n",
       "      <td>1391320</td>\n",
       "      <td>1264934</td>\n",
       "      <td>944149</td>\n",
       "      <td>856121</td>\n",
       "      <td>852273</td>\n",
       "    </tr>\n",
       "    <tr>\n",
       "      <th>Northeast</th>\n",
       "      <td>750972</td>\n",
       "      <td>713881</td>\n",
       "      <td>1044767</td>\n",
       "      <td>955298</td>\n",
       "      <td>716876</td>\n",
       "      <td>649944</td>\n",
       "      <td>638426</td>\n",
       "    </tr>\n",
       "    <tr>\n",
       "      <th>South</th>\n",
       "      <td>1431050</td>\n",
       "      <td>1341639</td>\n",
       "      <td>1957145</td>\n",
       "      <td>1810174</td>\n",
       "      <td>1344138</td>\n",
       "      <td>1230124</td>\n",
       "      <td>1206561</td>\n",
       "    </tr>\n",
       "    <tr>\n",
       "      <th>West</th>\n",
       "      <td>1102172</td>\n",
       "      <td>1024785</td>\n",
       "      <td>1520756</td>\n",
       "      <td>1386748</td>\n",
       "      <td>1032248</td>\n",
       "      <td>936817</td>\n",
       "      <td>931066</td>\n",
       "    </tr>\n",
       "  </tbody>\n",
       "</table>\n",
       "</div>"
      ],
      "text/plain": [
       "day_name    friday   monday  saturday   sunday  thursday  tuesday  wednesday\n",
       "region                                                                      \n",
       "Midwest    1010849   948256   1391320  1264934    944149   856121     852273\n",
       "Northeast   750972   713881   1044767   955298    716876   649944     638426\n",
       "South      1431050  1341639   1957145  1810174   1344138  1230124    1206561\n",
       "West       1102172  1024785   1520756  1386748   1032248   936817     931066"
      ]
     },
     "execution_count": 110,
     "metadata": {},
     "output_type": "execute_result"
    }
   ],
   "source": [
    "ct_region_dow"
   ]
  },
  {
   "cell_type": "code",
   "execution_count": 111,
   "id": "863178c6",
   "metadata": {},
   "outputs": [],
   "source": [
    "ct_region_dow.to_clipboard()"
   ]
  },
  {
   "cell_type": "code",
   "execution_count": 131,
   "id": "db58d299",
   "metadata": {},
   "outputs": [],
   "source": [
    "# Export bar chart\n",
    "\n",
    "bar_region_dow.figure.savefig(os.path.join(path, '04 Analysis','Visualizations', 'bar_RegionalSales_by_DOW.png'))"
   ]
  },
  {
   "cell_type": "markdown",
   "id": "2b435ae1",
   "metadata": {},
   "source": [
    ":: Bar chart - region/spending flag"
   ]
  },
  {
   "cell_type": "code",
   "execution_count": 112,
   "id": "9ff2043c",
   "metadata": {},
   "outputs": [],
   "source": [
    "# Create crosstab for 'region' and 'spending_flag'\n",
    "\n",
    "ct_region_spending = pd.crosstab(df_10RC['region'], df_10RC['spending_flag'], dropna = False)"
   ]
  },
  {
   "cell_type": "code",
   "execution_count": 39,
   "id": "9f8e64ae",
   "metadata": {
    "scrolled": false
   },
   "outputs": [
    {
     "data": {
      "text/plain": [
       "Text(0.5, 0, 'Regional sales by Spending flag')"
      ]
     },
     "execution_count": 39,
     "metadata": {},
     "output_type": "execute_result"
    },
    {
     "data": {
      "image/png": "[encoded data removed]",
      "text/plain": [
       "<Figure size 432x288 with 1 Axes>"
      ]
     },
     "metadata": {
      "needs_background": "light"
     },
     "output_type": "display_data"
    }
   ],
   "source": [
    "# Create stacked bar for 'ct_region_dow'\n",
    "\n",
    "bar_region_spending = ct_region_spending.plot(kind = 'bar', stacked = True, color = sns.color_palette('winter', 2))\n",
    "plt.xlabel('Regional sales by Spending flag')"
   ]
  },
  {
   "cell_type": "code",
   "execution_count": 113,
   "id": "0c44aadd",
   "metadata": {},
   "outputs": [
    {
     "data": {
      "text/html": [
       "<div>\n",
       "<style scoped>\n",
       "    .dataframe tbody tr th:only-of-type {\n",
       "        vertical-align: middle;\n",
       "    }\n",
       "\n",
       "    .dataframe tbody tr th {\n",
       "        vertical-align: top;\n",
       "    }\n",
       "\n",
       "    .dataframe thead th {\n",
       "        text-align: right;\n",
       "    }\n",
       "</style>\n",
       "<table border=\"1\" class=\"dataframe\">\n",
       "  <thead>\n",
       "    <tr style=\"text-align: right;\">\n",
       "      <th>spending_flag</th>\n",
       "      <th>High spender</th>\n",
       "      <th>Low spender</th>\n",
       "    </tr>\n",
       "    <tr>\n",
       "      <th>region</th>\n",
       "      <th></th>\n",
       "      <th></th>\n",
       "    </tr>\n",
       "  </thead>\n",
       "  <tbody>\n",
       "    <tr>\n",
       "      <th>Midwest</th>\n",
       "      <td>148784</td>\n",
       "      <td>7119118</td>\n",
       "    </tr>\n",
       "    <tr>\n",
       "      <th>Northeast</th>\n",
       "      <td>103163</td>\n",
       "      <td>5367001</td>\n",
       "    </tr>\n",
       "    <tr>\n",
       "      <th>South</th>\n",
       "      <td>199511</td>\n",
       "      <td>10121320</td>\n",
       "    </tr>\n",
       "    <tr>\n",
       "      <th>West</th>\n",
       "      <td>152371</td>\n",
       "      <td>7782221</td>\n",
       "    </tr>\n",
       "  </tbody>\n",
       "</table>\n",
       "</div>"
      ],
      "text/plain": [
       "spending_flag  High spender  Low spender\n",
       "region                                  \n",
       "Midwest              148784      7119118\n",
       "Northeast            103163      5367001\n",
       "South                199511     10121320\n",
       "West                 152371      7782221"
      ]
     },
     "execution_count": 113,
     "metadata": {},
     "output_type": "execute_result"
    }
   ],
   "source": [
    "ct_region_spending"
   ]
  },
  {
   "cell_type": "code",
   "execution_count": 114,
   "id": "802a632f",
   "metadata": {},
   "outputs": [],
   "source": [
    "ct_region_spending.to_clipboard()"
   ]
  },
  {
   "cell_type": "code",
   "execution_count": 40,
   "id": "d2943c59",
   "metadata": {},
   "outputs": [],
   "source": [
    "# Export bar chart\n",
    "\n",
    "bar_region_spending.figure.savefig(os.path.join(path, '04 Analysis','Visualizations', 'bar_RegionalSales_by_Spendingflag.png'))"
   ]
  },
  {
   "cell_type": "markdown",
   "id": "aa3687db",
   "metadata": {},
   "source": [
    ":: Bar chart - age/loyalty"
   ]
  },
  {
   "cell_type": "code",
   "execution_count": 115,
   "id": "961335d2",
   "metadata": {},
   "outputs": [],
   "source": [
    "# Create crosstab for 'age' and 'loyalty_flag'\n",
    "\n",
    "ct_age_loyalty = pd.crosstab(df_10RC['age_group'], df_10RC['loyalty_flag'], dropna = False)"
   ]
  },
  {
   "cell_type": "code",
   "execution_count": 35,
   "id": "bca4b260",
   "metadata": {
    "scrolled": true
   },
   "outputs": [
    {
     "data": {
      "text/plain": [
       "Text(0.5, 0, 'Loyalty Flag by Age Group')"
      ]
     },
     "execution_count": 35,
     "metadata": {},
     "output_type": "execute_result"
    },
    {
     "data": {
      "image/png": "[encoded data removed]",
      "text/plain": [
       "<Figure size 432x288 with 1 Axes>"
      ]
     },
     "metadata": {
      "needs_background": "light"
     },
     "output_type": "display_data"
    }
   ],
   "source": [
    "# Create stacked bar for 'ct_age_loyalty'\n",
    "\n",
    "bar_age_loyalty = ct_age_loyalty.plot(kind = 'bar', stacked = True, color = sns.color_palette('gist_stern', 3))\n",
    "plt.xlabel('Loyalty Flag by Age Group')"
   ]
  },
  {
   "cell_type": "code",
   "execution_count": 116,
   "id": "ed85179b",
   "metadata": {},
   "outputs": [
    {
     "data": {
      "text/html": [
       "<div>\n",
       "<style scoped>\n",
       "    .dataframe tbody tr th:only-of-type {\n",
       "        vertical-align: middle;\n",
       "    }\n",
       "\n",
       "    .dataframe tbody tr th {\n",
       "        vertical-align: top;\n",
       "    }\n",
       "\n",
       "    .dataframe thead th {\n",
       "        text-align: right;\n",
       "    }\n",
       "</style>\n",
       "<table border=\"1\" class=\"dataframe\">\n",
       "  <thead>\n",
       "    <tr style=\"text-align: right;\">\n",
       "      <th>loyalty_flag</th>\n",
       "      <th>Loyal customer</th>\n",
       "      <th>New customer</th>\n",
       "      <th>Regular customer</th>\n",
       "    </tr>\n",
       "    <tr>\n",
       "      <th>age_group</th>\n",
       "      <th></th>\n",
       "      <th></th>\n",
       "      <th></th>\n",
       "    </tr>\n",
       "  </thead>\n",
       "  <tbody>\n",
       "    <tr>\n",
       "      <th>18-20</th>\n",
       "      <td>466820</td>\n",
       "      <td>226651</td>\n",
       "      <td>762670</td>\n",
       "    </tr>\n",
       "    <tr>\n",
       "      <th>21-30</th>\n",
       "      <td>1594308</td>\n",
       "      <td>755798</td>\n",
       "      <td>2504047</td>\n",
       "    </tr>\n",
       "    <tr>\n",
       "      <th>31-40</th>\n",
       "      <td>1616651</td>\n",
       "      <td>733566</td>\n",
       "      <td>2498287</td>\n",
       "    </tr>\n",
       "    <tr>\n",
       "      <th>41-50</th>\n",
       "      <td>1637961</td>\n",
       "      <td>752783</td>\n",
       "      <td>2482302</td>\n",
       "    </tr>\n",
       "    <tr>\n",
       "      <th>51-60</th>\n",
       "      <td>1610677</td>\n",
       "      <td>758537</td>\n",
       "      <td>2470597</td>\n",
       "    </tr>\n",
       "    <tr>\n",
       "      <th>61-70</th>\n",
       "      <td>1596773</td>\n",
       "      <td>753957</td>\n",
       "      <td>2433802</td>\n",
       "    </tr>\n",
       "    <tr>\n",
       "      <th>71-80</th>\n",
       "      <td>1613163</td>\n",
       "      <td>750190</td>\n",
       "      <td>2487603</td>\n",
       "    </tr>\n",
       "    <tr>\n",
       "      <th>80+</th>\n",
       "      <td>157674</td>\n",
       "      <td>76473</td>\n",
       "      <td>252199</td>\n",
       "    </tr>\n",
       "  </tbody>\n",
       "</table>\n",
       "</div>"
      ],
      "text/plain": [
       "loyalty_flag  Loyal customer  New customer  Regular customer\n",
       "age_group                                                   \n",
       "18-20                 466820        226651            762670\n",
       "21-30                1594308        755798           2504047\n",
       "31-40                1616651        733566           2498287\n",
       "41-50                1637961        752783           2482302\n",
       "51-60                1610677        758537           2470597\n",
       "61-70                1596773        753957           2433802\n",
       "71-80                1613163        750190           2487603\n",
       "80+                   157674         76473            252199"
      ]
     },
     "execution_count": 116,
     "metadata": {},
     "output_type": "execute_result"
    }
   ],
   "source": [
    "ct_age_loyalty"
   ]
  },
  {
   "cell_type": "code",
   "execution_count": 117,
   "id": "360fe7bd",
   "metadata": {},
   "outputs": [],
   "source": [
    "ct_age_loyalty.to_clipboard()"
   ]
  },
  {
   "cell_type": "code",
   "execution_count": 36,
   "id": "d88d0f61",
   "metadata": {},
   "outputs": [],
   "source": [
    "# Export bar chart\n",
    "\n",
    "bar_age_loyalty.figure.savefig(os.path.join(path, '04 Analysis','Visualizations', 'bar_age_loyalty.png'))"
   ]
  },
  {
   "cell_type": "markdown",
   "id": "537bd66e",
   "metadata": {},
   "source": [
    ":: Bar chart - gender/loyalty"
   ]
  },
  {
   "cell_type": "code",
   "execution_count": 118,
   "id": "92ff1561",
   "metadata": {},
   "outputs": [],
   "source": [
    "# Create crosstab for 'gender' and 'loyalty_flag'\n",
    "\n",
    "ct_loyalty_gender = pd.crosstab(df_10RC['loyalty_flag'], df_10RC['gender'], dropna = False)"
   ]
  },
  {
   "cell_type": "code",
   "execution_count": 46,
   "id": "c4414539",
   "metadata": {
    "scrolled": true
   },
   "outputs": [
    {
     "data": {
      "text/plain": [
       "Text(0.5, 0, 'Loyalty Flag by Gender')"
      ]
     },
     "execution_count": 46,
     "metadata": {},
     "output_type": "execute_result"
    },
    {
     "data": {
      "image/png": "[encoded data removed]",
      "text/plain": [
       "<Figure size 432x288 with 1 Axes>"
      ]
     },
     "metadata": {
      "needs_background": "light"
     },
     "output_type": "display_data"
    }
   ],
   "source": [
    "# Create stacked bar for 'ct_loyalty_gender'\n",
    "\n",
    "bar_loyalty_gender = ct_loyalty_gender.plot(kind = 'bar', stacked = True, color = sns.color_palette('gist_stern', 2))\n",
    "plt.xlabel('Loyalty Flag by Gender')"
   ]
  },
  {
   "cell_type": "code",
   "execution_count": 119,
   "id": "6db4e426",
   "metadata": {},
   "outputs": [
    {
     "data": {
      "text/html": [
       "<div>\n",
       "<style scoped>\n",
       "    .dataframe tbody tr th:only-of-type {\n",
       "        vertical-align: middle;\n",
       "    }\n",
       "\n",
       "    .dataframe tbody tr th {\n",
       "        vertical-align: top;\n",
       "    }\n",
       "\n",
       "    .dataframe thead th {\n",
       "        text-align: right;\n",
       "    }\n",
       "</style>\n",
       "<table border=\"1\" class=\"dataframe\">\n",
       "  <thead>\n",
       "    <tr style=\"text-align: right;\">\n",
       "      <th>gender</th>\n",
       "      <th>Female</th>\n",
       "      <th>Male</th>\n",
       "    </tr>\n",
       "    <tr>\n",
       "      <th>loyalty_flag</th>\n",
       "      <th></th>\n",
       "      <th></th>\n",
       "    </tr>\n",
       "  </thead>\n",
       "  <tbody>\n",
       "    <tr>\n",
       "      <th>Loyal customer</th>\n",
       "      <td>5108126</td>\n",
       "      <td>5185901</td>\n",
       "    </tr>\n",
       "    <tr>\n",
       "      <th>New customer</th>\n",
       "      <td>2387489</td>\n",
       "      <td>2420466</td>\n",
       "    </tr>\n",
       "    <tr>\n",
       "      <th>Regular customer</th>\n",
       "      <td>7896768</td>\n",
       "      <td>7994739</td>\n",
       "    </tr>\n",
       "  </tbody>\n",
       "</table>\n",
       "</div>"
      ],
      "text/plain": [
       "gender             Female     Male\n",
       "loyalty_flag                      \n",
       "Loyal customer    5108126  5185901\n",
       "New customer      2387489  2420466\n",
       "Regular customer  7896768  7994739"
      ]
     },
     "execution_count": 119,
     "metadata": {},
     "output_type": "execute_result"
    }
   ],
   "source": [
    "ct_loyalty_gender"
   ]
  },
  {
   "cell_type": "code",
   "execution_count": 120,
   "id": "508eb4f8",
   "metadata": {},
   "outputs": [],
   "source": [
    "ct_loyalty_gender.to_clipboard()"
   ]
  },
  {
   "cell_type": "code",
   "execution_count": 47,
   "id": "7b144a01",
   "metadata": {
    "scrolled": true
   },
   "outputs": [
    {
     "data": {
      "text/html": [
       "<div>\n",
       "<style scoped>\n",
       "    .dataframe tbody tr th:only-of-type {\n",
       "        vertical-align: middle;\n",
       "    }\n",
       "\n",
       "    .dataframe tbody tr th {\n",
       "        vertical-align: top;\n",
       "    }\n",
       "\n",
       "    .dataframe thead th {\n",
       "        text-align: right;\n",
       "    }\n",
       "</style>\n",
       "<table border=\"1\" class=\"dataframe\">\n",
       "  <thead>\n",
       "    <tr style=\"text-align: right;\">\n",
       "      <th>gender</th>\n",
       "      <th>Female</th>\n",
       "      <th>Male</th>\n",
       "    </tr>\n",
       "    <tr>\n",
       "      <th>loyalty_flag</th>\n",
       "      <th></th>\n",
       "      <th></th>\n",
       "    </tr>\n",
       "  </thead>\n",
       "  <tbody>\n",
       "    <tr>\n",
       "      <th>Loyal customer</th>\n",
       "      <td>5108126</td>\n",
       "      <td>5185901</td>\n",
       "    </tr>\n",
       "    <tr>\n",
       "      <th>New customer</th>\n",
       "      <td>2387489</td>\n",
       "      <td>2420466</td>\n",
       "    </tr>\n",
       "    <tr>\n",
       "      <th>Regular customer</th>\n",
       "      <td>7896768</td>\n",
       "      <td>7994739</td>\n",
       "    </tr>\n",
       "  </tbody>\n",
       "</table>\n",
       "</div>"
      ],
      "text/plain": [
       "gender             Female     Male\n",
       "loyalty_flag                      \n",
       "Loyal customer    5108126  5185901\n",
       "New customer      2387489  2420466\n",
       "Regular customer  7896768  7994739"
      ]
     },
     "execution_count": 47,
     "metadata": {},
     "output_type": "execute_result"
    }
   ],
   "source": [
    "ct_loyalty_gender"
   ]
  },
  {
   "cell_type": "code",
   "execution_count": 48,
   "id": "04148ebf",
   "metadata": {},
   "outputs": [],
   "source": [
    "# Export bar chart\n",
    "\n",
    "bar_loyalty_gender.figure.savefig(os.path.join(path, '04 Analysis','Visualizations', 'bar_loyalty_gender.png'))"
   ]
  },
  {
   "cell_type": "markdown",
   "id": "7b07edd2",
   "metadata": {},
   "source": [
    ":: Bar chart - loyalty/price_range"
   ]
  },
  {
   "cell_type": "code",
   "execution_count": 121,
   "id": "700429f3",
   "metadata": {},
   "outputs": [],
   "source": [
    "# Create crosstab for 'gender' and 'price_range'\n",
    "\n",
    "ct_loyalty_price = pd.crosstab(df_10RC['loyalty_flag'], df_10RC['price_range_loc'], dropna = False)"
   ]
  },
  {
   "cell_type": "code",
   "execution_count": 52,
   "id": "451605ee",
   "metadata": {
    "scrolled": false
   },
   "outputs": [
    {
     "data": {
      "text/plain": [
       "Text(0.5, 0, 'Loyalty Flag by Price Range')"
      ]
     },
     "execution_count": 52,
     "metadata": {},
     "output_type": "execute_result"
    },
    {
     "data": {
      "image/png": "[encoded data removed]",
      "text/plain": [
       "<Figure size 432x288 with 1 Axes>"
      ]
     },
     "metadata": {
      "needs_background": "light"
     },
     "output_type": "display_data"
    }
   ],
   "source": [
    "# Create stacked bar for 'ct_loyalty_price'\n",
    "\n",
    "bar_loyalty_price = ct_loyalty_price.plot(kind = 'bar', stacked = True, color = sns.color_palette('gist_stern', 3))\n",
    "plt.xlabel('Loyalty Flag by Price Range')"
   ]
  },
  {
   "cell_type": "code",
   "execution_count": 122,
   "id": "bd671499",
   "metadata": {},
   "outputs": [
    {
     "data": {
      "text/html": [
       "<div>\n",
       "<style scoped>\n",
       "    .dataframe tbody tr th:only-of-type {\n",
       "        vertical-align: middle;\n",
       "    }\n",
       "\n",
       "    .dataframe tbody tr th {\n",
       "        vertical-align: top;\n",
       "    }\n",
       "\n",
       "    .dataframe thead th {\n",
       "        text-align: right;\n",
       "    }\n",
       "</style>\n",
       "<table border=\"1\" class=\"dataframe\">\n",
       "  <thead>\n",
       "    <tr style=\"text-align: right;\">\n",
       "      <th>price_range_loc</th>\n",
       "      <th>High-range product</th>\n",
       "      <th>Low-range product</th>\n",
       "      <th>Mid-range product</th>\n",
       "    </tr>\n",
       "    <tr>\n",
       "      <th>loyalty_flag</th>\n",
       "      <th></th>\n",
       "      <th></th>\n",
       "      <th></th>\n",
       "    </tr>\n",
       "  </thead>\n",
       "  <tbody>\n",
       "    <tr>\n",
       "      <th>Loyal customer</th>\n",
       "      <td>119936</td>\n",
       "      <td>3214690</td>\n",
       "      <td>6949467</td>\n",
       "    </tr>\n",
       "    <tr>\n",
       "      <th>New customer</th>\n",
       "      <td>65927</td>\n",
       "      <td>1501290</td>\n",
       "      <td>3236484</td>\n",
       "    </tr>\n",
       "    <tr>\n",
       "      <th>Regular customer</th>\n",
       "      <td>212090</td>\n",
       "      <td>4958862</td>\n",
       "      <td>10705824</td>\n",
       "    </tr>\n",
       "  </tbody>\n",
       "</table>\n",
       "</div>"
      ],
      "text/plain": [
       "price_range_loc   High-range product  Low-range product  Mid-range product\n",
       "loyalty_flag                                                              \n",
       "Loyal customer                119936            3214690            6949467\n",
       "New customer                   65927            1501290            3236484\n",
       "Regular customer              212090            4958862           10705824"
      ]
     },
     "execution_count": 122,
     "metadata": {},
     "output_type": "execute_result"
    }
   ],
   "source": [
    "ct_loyalty_price"
   ]
  },
  {
   "cell_type": "code",
   "execution_count": 123,
   "id": "53b551c1",
   "metadata": {},
   "outputs": [],
   "source": [
    "ct_loyalty_price.to_clipboard()"
   ]
  },
  {
   "cell_type": "code",
   "execution_count": 54,
   "id": "d41ae24d",
   "metadata": {},
   "outputs": [
    {
     "data": {
      "text/html": [
       "<div>\n",
       "<style scoped>\n",
       "    .dataframe tbody tr th:only-of-type {\n",
       "        vertical-align: middle;\n",
       "    }\n",
       "\n",
       "    .dataframe tbody tr th {\n",
       "        vertical-align: top;\n",
       "    }\n",
       "\n",
       "    .dataframe thead th {\n",
       "        text-align: right;\n",
       "    }\n",
       "</style>\n",
       "<table border=\"1\" class=\"dataframe\">\n",
       "  <thead>\n",
       "    <tr style=\"text-align: right;\">\n",
       "      <th>price_range_loc</th>\n",
       "      <th>High-range product</th>\n",
       "      <th>Low-range product</th>\n",
       "      <th>Mid-range product</th>\n",
       "    </tr>\n",
       "    <tr>\n",
       "      <th>loyalty_flag</th>\n",
       "      <th></th>\n",
       "      <th></th>\n",
       "      <th></th>\n",
       "    </tr>\n",
       "  </thead>\n",
       "  <tbody>\n",
       "    <tr>\n",
       "      <th>Loyal customer</th>\n",
       "      <td>119936</td>\n",
       "      <td>3214690</td>\n",
       "      <td>6949467</td>\n",
       "    </tr>\n",
       "    <tr>\n",
       "      <th>New customer</th>\n",
       "      <td>65927</td>\n",
       "      <td>1501290</td>\n",
       "      <td>3236484</td>\n",
       "    </tr>\n",
       "    <tr>\n",
       "      <th>Regular customer</th>\n",
       "      <td>212090</td>\n",
       "      <td>4958862</td>\n",
       "      <td>10705824</td>\n",
       "    </tr>\n",
       "  </tbody>\n",
       "</table>\n",
       "</div>"
      ],
      "text/plain": [
       "price_range_loc   High-range product  Low-range product  Mid-range product\n",
       "loyalty_flag                                                              \n",
       "Loyal customer                119936            3214690            6949467\n",
       "New customer                   65927            1501290            3236484\n",
       "Regular customer              212090            4958862           10705824"
      ]
     },
     "execution_count": 54,
     "metadata": {},
     "output_type": "execute_result"
    }
   ],
   "source": [
    "ct_loyalty_price"
   ]
  },
  {
   "cell_type": "code",
   "execution_count": 55,
   "id": "92988d8b",
   "metadata": {},
   "outputs": [],
   "source": [
    "# Export bar chart\n",
    "\n",
    "bar_loyalty_price.figure.savefig(os.path.join(path, '04 Analysis','Visualizations', 'bar_loyalty_price.png'))"
   ]
  },
  {
   "cell_type": "markdown",
   "id": "7b1e8fbb",
   "metadata": {},
   "source": [
    ":: Bar chart - marital status/age"
   ]
  },
  {
   "cell_type": "code",
   "execution_count": 124,
   "id": "e8b3e458",
   "metadata": {},
   "outputs": [],
   "source": [
    "# Create crosstab for 'marital_status' and 'age_group'\n",
    "\n",
    "ct_marital_age = pd.crosstab(df_10RC['age_group'], df_10RC['marital_status'], dropna = False)"
   ]
  },
  {
   "cell_type": "code",
   "execution_count": 46,
   "id": "d944127c",
   "metadata": {
    "scrolled": false
   },
   "outputs": [
    {
     "data": {
      "text/html": [
       "<div>\n",
       "<style scoped>\n",
       "    .dataframe tbody tr th:only-of-type {\n",
       "        vertical-align: middle;\n",
       "    }\n",
       "\n",
       "    .dataframe tbody tr th {\n",
       "        vertical-align: top;\n",
       "    }\n",
       "\n",
       "    .dataframe thead th {\n",
       "        text-align: right;\n",
       "    }\n",
       "</style>\n",
       "<table border=\"1\" class=\"dataframe\">\n",
       "  <thead>\n",
       "    <tr style=\"text-align: right;\">\n",
       "      <th>marital_status</th>\n",
       "      <th>divorced/widowed</th>\n",
       "      <th>living with parents and siblings</th>\n",
       "      <th>married</th>\n",
       "      <th>single</th>\n",
       "    </tr>\n",
       "    <tr>\n",
       "      <th>age_group</th>\n",
       "      <th></th>\n",
       "      <th></th>\n",
       "      <th></th>\n",
       "      <th></th>\n",
       "    </tr>\n",
       "  </thead>\n",
       "  <tbody>\n",
       "    <tr>\n",
       "      <th>18-20</th>\n",
       "      <td>0</td>\n",
       "      <td>1110955</td>\n",
       "      <td>0</td>\n",
       "      <td>345186</td>\n",
       "    </tr>\n",
       "    <tr>\n",
       "      <th>21-30</th>\n",
       "      <td>0</td>\n",
       "      <td>371766</td>\n",
       "      <td>3252623</td>\n",
       "      <td>1229764</td>\n",
       "    </tr>\n",
       "    <tr>\n",
       "      <th>31-40</th>\n",
       "      <td>0</td>\n",
       "      <td>0</td>\n",
       "      <td>3640634</td>\n",
       "      <td>1207870</td>\n",
       "    </tr>\n",
       "    <tr>\n",
       "      <th>41-50</th>\n",
       "      <td>0</td>\n",
       "      <td>0</td>\n",
       "      <td>3672601</td>\n",
       "      <td>1200445</td>\n",
       "    </tr>\n",
       "    <tr>\n",
       "      <th>51-60</th>\n",
       "      <td>112225</td>\n",
       "      <td>0</td>\n",
       "      <td>3611467</td>\n",
       "      <td>1116119</td>\n",
       "    </tr>\n",
       "    <tr>\n",
       "      <th>61-70</th>\n",
       "      <td>1210482</td>\n",
       "      <td>0</td>\n",
       "      <td>3574050</td>\n",
       "      <td>0</td>\n",
       "    </tr>\n",
       "    <tr>\n",
       "      <th>71-80</th>\n",
       "      <td>1186748</td>\n",
       "      <td>0</td>\n",
       "      <td>3664208</td>\n",
       "      <td>0</td>\n",
       "    </tr>\n",
       "    <tr>\n",
       "      <th>80+</th>\n",
       "      <td>138344</td>\n",
       "      <td>0</td>\n",
       "      <td>348002</td>\n",
       "      <td>0</td>\n",
       "    </tr>\n",
       "  </tbody>\n",
       "</table>\n",
       "</div>"
      ],
      "text/plain": [
       "marital_status  divorced/widowed  living with parents and siblings  married  \\\n",
       "age_group                                                                     \n",
       "18-20                          0                           1110955        0   \n",
       "21-30                          0                            371766  3252623   \n",
       "31-40                          0                                 0  3640634   \n",
       "41-50                          0                                 0  3672601   \n",
       "51-60                     112225                                 0  3611467   \n",
       "61-70                    1210482                                 0  3574050   \n",
       "71-80                    1186748                                 0  3664208   \n",
       "80+                       138344                                 0   348002   \n",
       "\n",
       "marital_status   single  \n",
       "age_group                \n",
       "18-20            345186  \n",
       "21-30           1229764  \n",
       "31-40           1207870  \n",
       "41-50           1200445  \n",
       "51-60           1116119  \n",
       "61-70                 0  \n",
       "71-80                 0  \n",
       "80+                   0  "
      ]
     },
     "execution_count": 46,
     "metadata": {},
     "output_type": "execute_result"
    }
   ],
   "source": [
    "ct_marital_age"
   ]
  },
  {
   "cell_type": "code",
   "execution_count": 125,
   "id": "d8402919",
   "metadata": {},
   "outputs": [],
   "source": [
    "ct_marital_age.to_clipboard()"
   ]
  },
  {
   "cell_type": "code",
   "execution_count": 51,
   "id": "25871156",
   "metadata": {},
   "outputs": [
    {
     "data": {
      "text/plain": [
       "Text(0.5, 0, 'Marital Status by Age Group')"
      ]
     },
     "execution_count": 51,
     "metadata": {},
     "output_type": "execute_result"
    },
    {
     "data": {
      "image/png": "[encoded data removed]",
      "text/plain": [
       "<Figure size 432x288 with 1 Axes>"
      ]
     },
     "metadata": {
      "needs_background": "light"
     },
     "output_type": "display_data"
    }
   ],
   "source": [
    "# Create stacked bar for 'ct_marital_age'\n",
    "\n",
    "bar_marital_age = ct_marital_age.plot(kind = 'bar', stacked = True, color = sns.color_palette('gist_stern', 4))\n",
    "plt.xlabel('Marital Status by Age Group')"
   ]
  },
  {
   "cell_type": "code",
   "execution_count": 52,
   "id": "77af83f0",
   "metadata": {},
   "outputs": [],
   "source": [
    "# Export bar chart\n",
    "\n",
    "bar_marital_age.figure.savefig(os.path.join(path, '04 Analysis','Visualizations', 'bar_marital_age.png'))"
   ]
  },
  {
   "cell_type": "markdown",
   "id": "02ff89a7",
   "metadata": {},
   "source": [
    "\n"
   ]
  },
  {
   "cell_type": "markdown",
   "id": "96fbe359",
   "metadata": {},
   "source": [
    "9. Final notes: Remaining variables for analysis as needed. \n",
    "- Frequency flag (specifically number of purchases per customer, in categories)\n",
    "- Gender"
   ]
  },
  {
   "cell_type": "markdown",
   "id": "fd1d0cf7",
   "metadata": {},
   "source": [
    "\n"
   ]
  },
  {
   "cell_type": "markdown",
   "id": "aa3aa7b7",
   "metadata": {},
   "source": [
    "10. Exports"
   ]
  },
  {
   "cell_type": "code",
   "execution_count": 132,
   "id": "cafd0c01",
   "metadata": {},
   "outputs": [],
   "source": [
    "# Export amended df_10RC\n",
    "\n",
    "df_10RC.to_pickle(os.path.join(path, '02 Data', 'Prepared Data', 'Insta_Final.pkl'))"
   ]
  }
 ],
 "metadata": {
  "kernelspec": {
   "display_name": "Python 3",
   "language": "python",
   "name": "python3"
  },
  "language_info": {
   "codemirror_mode": {
    "name": "ipython",
    "version": 3
   },
   "file_extension": ".py",
   "mimetype": "text/x-python",
   "name": "python",
   "nbconvert_exporter": "python",
   "pygments_lexer": "ipython3",
   "version": "3.8.8"
  }
 },
 "nbformat": 4,
 "nbformat_minor": 5
}
