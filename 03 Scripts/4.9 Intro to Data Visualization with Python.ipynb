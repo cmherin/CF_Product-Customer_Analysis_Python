{
 "cells": [
  {
   "cell_type": "markdown",
   "id": "c54b472a",
   "metadata": {},
   "source": [
    "Data Visualization"
   ]
  },
  {
   "cell_type": "markdown",
   "id": "12ea8783",
   "metadata": {},
   "source": [
    ":: New libraries - seaborn, matplotlib, scipy"
   ]
  },
  {
   "cell_type": "markdown",
   "id": "ac9dd8b4",
   "metadata": {},
   "source": [
    "\n"
   ]
  },
  {
   "cell_type": "markdown",
   "id": "441c78c3",
   "metadata": {},
   "source": [
    "\n"
   ]
  },
  {
   "cell_type": "markdown",
   "id": "2e22a066",
   "metadata": {},
   "source": [
    "\n"
   ]
  },
  {
   "cell_type": "code",
   "execution_count": 1,
   "id": "6134d948",
   "metadata": {},
   "outputs": [],
   "source": [
    "# Import libraries\n",
    "\n",
    "import pandas as pd\n",
    "import numpy as np\n",
    "import os\n",
    "import matplotlib.pyplot as plt\n",
    "import seaborn as sns\n",
    "import scipy\n",
    "\n",
    "# Create Path\n",
    "\n",
    "path = r'/Users/chrisherin/Documents/01_Jupyter/11-2021 Instacart Basket Analysis'"
   ]
  },
  {
   "cell_type": "code",
   "execution_count": 2,
   "id": "e841a1b5",
   "metadata": {},
   "outputs": [],
   "source": [
    "# Import data\n",
    "\n",
    "df_9 = pd.read_pickle(os.path.join(path, '02 Data', 'Prepared Data', 'ords_prods_merg48.pkl'))"
   ]
  },
  {
   "cell_type": "code",
   "execution_count": 3,
   "id": "0467d29c",
   "metadata": {},
   "outputs": [
    {
     "data": {
      "text/html": [
       "<div>\n",
       "<style scoped>\n",
       "    .dataframe tbody tr th:only-of-type {\n",
       "        vertical-align: middle;\n",
       "    }\n",
       "\n",
       "    .dataframe tbody tr th {\n",
       "        vertical-align: top;\n",
       "    }\n",
       "\n",
       "    .dataframe thead th {\n",
       "        text-align: right;\n",
       "    }\n",
       "</style>\n",
       "<table border=\"1\" class=\"dataframe\">\n",
       "  <thead>\n",
       "    <tr style=\"text-align: right;\">\n",
       "      <th></th>\n",
       "      <th>order_id</th>\n",
       "      <th>user_id</th>\n",
       "      <th>order_number</th>\n",
       "      <th>orders_day_of_week</th>\n",
       "      <th>order_hour_of_day</th>\n",
       "      <th>days_since_prior_order</th>\n",
       "      <th>product_id</th>\n",
       "      <th>add_to_cart_order</th>\n",
       "      <th>reordered</th>\n",
       "      <th>_merge</th>\n",
       "      <th>...</th>\n",
       "      <th>price_range_loc</th>\n",
       "      <th>busiest_day</th>\n",
       "      <th>busy_days</th>\n",
       "      <th>busiest_period_of_day</th>\n",
       "      <th>max_order</th>\n",
       "      <th>loyalty_flag</th>\n",
       "      <th>spending</th>\n",
       "      <th>spending_flag</th>\n",
       "      <th>frequency</th>\n",
       "      <th>freq_flag</th>\n",
       "    </tr>\n",
       "  </thead>\n",
       "  <tbody>\n",
       "    <tr>\n",
       "      <th>0</th>\n",
       "      <td>2539329</td>\n",
       "      <td>1</td>\n",
       "      <td>1</td>\n",
       "      <td>2</td>\n",
       "      <td>8</td>\n",
       "      <td>NaN</td>\n",
       "      <td>196</td>\n",
       "      <td>1</td>\n",
       "      <td>0</td>\n",
       "      <td>both</td>\n",
       "      <td>...</td>\n",
       "      <td>Mid-range product</td>\n",
       "      <td>regularly busy</td>\n",
       "      <td>regularly busy</td>\n",
       "      <td>Average orders</td>\n",
       "      <td>10</td>\n",
       "      <td>New customer</td>\n",
       "      <td>6.367797</td>\n",
       "      <td>Low spender</td>\n",
       "      <td>20.5</td>\n",
       "      <td>non-frequent customer</td>\n",
       "    </tr>\n",
       "    <tr>\n",
       "      <th>1</th>\n",
       "      <td>2539329</td>\n",
       "      <td>1</td>\n",
       "      <td>1</td>\n",
       "      <td>2</td>\n",
       "      <td>8</td>\n",
       "      <td>NaN</td>\n",
       "      <td>14084</td>\n",
       "      <td>2</td>\n",
       "      <td>0</td>\n",
       "      <td>both</td>\n",
       "      <td>...</td>\n",
       "      <td>Mid-range product</td>\n",
       "      <td>regularly busy</td>\n",
       "      <td>regularly busy</td>\n",
       "      <td>Average orders</td>\n",
       "      <td>10</td>\n",
       "      <td>New customer</td>\n",
       "      <td>6.367797</td>\n",
       "      <td>Low spender</td>\n",
       "      <td>20.5</td>\n",
       "      <td>non-frequent customer</td>\n",
       "    </tr>\n",
       "    <tr>\n",
       "      <th>2</th>\n",
       "      <td>2539329</td>\n",
       "      <td>1</td>\n",
       "      <td>1</td>\n",
       "      <td>2</td>\n",
       "      <td>8</td>\n",
       "      <td>NaN</td>\n",
       "      <td>12427</td>\n",
       "      <td>3</td>\n",
       "      <td>0</td>\n",
       "      <td>both</td>\n",
       "      <td>...</td>\n",
       "      <td>Low-range product</td>\n",
       "      <td>regularly busy</td>\n",
       "      <td>regularly busy</td>\n",
       "      <td>Average orders</td>\n",
       "      <td>10</td>\n",
       "      <td>New customer</td>\n",
       "      <td>6.367797</td>\n",
       "      <td>Low spender</td>\n",
       "      <td>20.5</td>\n",
       "      <td>non-frequent customer</td>\n",
       "    </tr>\n",
       "    <tr>\n",
       "      <th>3</th>\n",
       "      <td>2539329</td>\n",
       "      <td>1</td>\n",
       "      <td>1</td>\n",
       "      <td>2</td>\n",
       "      <td>8</td>\n",
       "      <td>NaN</td>\n",
       "      <td>26088</td>\n",
       "      <td>4</td>\n",
       "      <td>0</td>\n",
       "      <td>both</td>\n",
       "      <td>...</td>\n",
       "      <td>Low-range product</td>\n",
       "      <td>regularly busy</td>\n",
       "      <td>regularly busy</td>\n",
       "      <td>Average orders</td>\n",
       "      <td>10</td>\n",
       "      <td>New customer</td>\n",
       "      <td>6.367797</td>\n",
       "      <td>Low spender</td>\n",
       "      <td>20.5</td>\n",
       "      <td>non-frequent customer</td>\n",
       "    </tr>\n",
       "    <tr>\n",
       "      <th>4</th>\n",
       "      <td>2539329</td>\n",
       "      <td>1</td>\n",
       "      <td>1</td>\n",
       "      <td>2</td>\n",
       "      <td>8</td>\n",
       "      <td>NaN</td>\n",
       "      <td>26405</td>\n",
       "      <td>5</td>\n",
       "      <td>0</td>\n",
       "      <td>both</td>\n",
       "      <td>...</td>\n",
       "      <td>Low-range product</td>\n",
       "      <td>regularly busy</td>\n",
       "      <td>regularly busy</td>\n",
       "      <td>Average orders</td>\n",
       "      <td>10</td>\n",
       "      <td>New customer</td>\n",
       "      <td>6.367797</td>\n",
       "      <td>Low spender</td>\n",
       "      <td>20.5</td>\n",
       "      <td>non-frequent customer</td>\n",
       "    </tr>\n",
       "  </tbody>\n",
       "</table>\n",
       "<p>5 rows × 24 columns</p>\n",
       "</div>"
      ],
      "text/plain": [
       "   order_id  user_id  order_number  orders_day_of_week  order_hour_of_day  \\\n",
       "0   2539329        1             1                   2                  8   \n",
       "1   2539329        1             1                   2                  8   \n",
       "2   2539329        1             1                   2                  8   \n",
       "3   2539329        1             1                   2                  8   \n",
       "4   2539329        1             1                   2                  8   \n",
       "\n",
       "   days_since_prior_order  product_id  add_to_cart_order  reordered _merge  \\\n",
       "0                     NaN         196                  1          0   both   \n",
       "1                     NaN       14084                  2          0   both   \n",
       "2                     NaN       12427                  3          0   both   \n",
       "3                     NaN       26088                  4          0   both   \n",
       "4                     NaN       26405                  5          0   both   \n",
       "\n",
       "   ...    price_range_loc     busiest_day       busy_days  \\\n",
       "0  ...  Mid-range product  regularly busy  regularly busy   \n",
       "1  ...  Mid-range product  regularly busy  regularly busy   \n",
       "2  ...  Low-range product  regularly busy  regularly busy   \n",
       "3  ...  Low-range product  regularly busy  regularly busy   \n",
       "4  ...  Low-range product  regularly busy  regularly busy   \n",
       "\n",
       "   busiest_period_of_day max_order  loyalty_flag  spending spending_flag  \\\n",
       "0         Average orders        10  New customer  6.367797   Low spender   \n",
       "1         Average orders        10  New customer  6.367797   Low spender   \n",
       "2         Average orders        10  New customer  6.367797   Low spender   \n",
       "3         Average orders        10  New customer  6.367797   Low spender   \n",
       "4         Average orders        10  New customer  6.367797   Low spender   \n",
       "\n",
       "   frequency              freq_flag  \n",
       "0       20.5  non-frequent customer  \n",
       "1       20.5  non-frequent customer  \n",
       "2       20.5  non-frequent customer  \n",
       "3       20.5  non-frequent customer  \n",
       "4       20.5  non-frequent customer  \n",
       "\n",
       "[5 rows x 24 columns]"
      ]
     },
     "execution_count": 3,
     "metadata": {},
     "output_type": "execute_result"
    }
   ],
   "source": [
    "# Check\n",
    "\n",
    "df_9.head()"
   ]
  },
  {
   "cell_type": "markdown",
   "id": "df060246",
   "metadata": {},
   "source": [
    "\n"
   ]
  },
  {
   "cell_type": "markdown",
   "id": "43d4d388",
   "metadata": {},
   "source": [
    "\n",
    "\n"
   ]
  },
  {
   "cell_type": "markdown",
   "id": "14cf0296",
   "metadata": {},
   "source": [
    "2. Bar chart"
   ]
  },
  {
   "cell_type": "code",
   "execution_count": 5,
   "id": "7063718e",
   "metadata": {},
   "outputs": [
    {
     "data": {
      "text/plain": [
       "<AxesSubplot:>"
      ]
     },
     "execution_count": 5,
     "metadata": {},
     "output_type": "execute_result"
    },
    {
     "data": {
      "image/png": "[encoded data removed]",
      "text/plain": [
       "<Figure size 432x288 with 1 Axes>"
      ]
     },
     "metadata": {
      "needs_background": "light"
     },
     "output_type": "display_data"
    }
   ],
   "source": [
    "# Bar chart for 'orders_day_of_week'\n",
    "\n",
    "df_9['orders_day_of_week'].value_counts().plot.bar()"
   ]
  },
  {
   "cell_type": "markdown",
   "id": "b5a729f4",
   "metadata": {},
   "source": [
    "\n"
   ]
  },
  {
   "cell_type": "markdown",
   "id": "60e92cde",
   "metadata": {},
   "source": [
    "\n"
   ]
  },
  {
   "cell_type": "code",
   "execution_count": 6,
   "id": "e300abe9",
   "metadata": {},
   "outputs": [
    {
     "data": {
      "text/plain": [
       "<AxesSubplot:>"
      ]
     },
     "execution_count": 6,
     "metadata": {},
     "output_type": "execute_result"
    },
    {
     "data": {
      "image/png": "[encoded data removed]",
      "text/plain": [
       "<Figure size 432x288 with 1 Axes>"
      ]
     },
     "metadata": {
      "needs_background": "light"
     },
     "output_type": "display_data"
    }
   ],
   "source": [
    "# Sort_index() to sort the index'd column by order\n",
    "\n",
    "df_9['orders_day_of_week'].value_counts().sort_index().plot.bar()"
   ]
  },
  {
   "cell_type": "markdown",
   "id": "03e86537",
   "metadata": {},
   "source": [
    "::This can be useful if your data would be easier to understand in its original order."
   ]
  },
  {
   "cell_type": "markdown",
   "id": "f318a7e3",
   "metadata": {},
   "source": [
    "\n"
   ]
  },
  {
   "cell_type": "markdown",
   "id": "dc6ff6ff",
   "metadata": {},
   "source": [
    "\n"
   ]
  },
  {
   "cell_type": "code",
   "execution_count": 11,
   "id": "72633b7a",
   "metadata": {},
   "outputs": [
    {
     "data": {
      "text/plain": [
       "<AxesSubplot:>"
      ]
     },
     "execution_count": 11,
     "metadata": {},
     "output_type": "execute_result"
    },
    {
     "data": {
      "image/png": "[encoded data removed]",
      "text/plain": [
       "<Figure size 432x288 with 1 Axes>"
      ]
     },
     "metadata": {
      "needs_background": "light"
     },
     "output_type": "display_data"
    }
   ],
   "source": [
    "# Adding color to chart\n",
    "\n",
    "df_9['orders_day_of_week'].value_counts().sort_index().plot.bar(color = ['red', 'orange', 'yellow', 'green', 'grey', 'blue', 'purple'])"
   ]
  },
  {
   "cell_type": "markdown",
   "id": "fc4e645a",
   "metadata": {},
   "source": [
    "\n"
   ]
  },
  {
   "cell_type": "markdown",
   "id": "e298aec2",
   "metadata": {},
   "source": [
    "\n"
   ]
  },
  {
   "cell_type": "markdown",
   "id": "b9e46ab4",
   "metadata": {},
   "source": [
    "3. Exporting charts"
   ]
  },
  {
   "cell_type": "code",
   "execution_count": 12,
   "id": "2f64c23b",
   "metadata": {},
   "outputs": [
    {
     "data": {
      "image/png": "[encoded data removed]",
      "text/plain": [
       "<Figure size 432x288 with 1 Axes>"
      ]
     },
     "metadata": {
      "needs_background": "light"
     },
     "output_type": "display_data"
    }
   ],
   "source": [
    "# Export bar chart - define 'bar'\n",
    "\n",
    "bar = df_9['orders_day_of_week'].value_counts().sort_index().plot.bar(color = ['red', 'orange', 'yellow', 'green', 'grey', 'blue', 'purple'])"
   ]
  },
  {
   "cell_type": "code",
   "execution_count": 13,
   "id": "10caae47",
   "metadata": {},
   "outputs": [],
   "source": [
    "# Export bar chart - save\n",
    "\n",
    "bar.figure.savefig(os.path.join(path, '04 Analysis','Visualizations', 'bar_orders_dow.png'))"
   ]
  },
  {
   "cell_type": "markdown",
   "id": "862bdc4b",
   "metadata": {},
   "source": [
    "\n"
   ]
  },
  {
   "cell_type": "markdown",
   "id": "b0547794",
   "metadata": {},
   "source": [
    "\n"
   ]
  },
  {
   "cell_type": "markdown",
   "id": "fab5e267",
   "metadata": {},
   "source": [
    "4. Creating Histograms and Scatterplots"
   ]
  },
  {
   "cell_type": "code",
   "execution_count": 14,
   "id": "420213cc",
   "metadata": {},
   "outputs": [
    {
     "data": {
      "text/plain": [
       "<AxesSubplot:ylabel='Frequency'>"
      ]
     },
     "execution_count": 14,
     "metadata": {},
     "output_type": "execute_result"
    },
    {
     "data": {
      "image/png": "[encoded data removed]",
      "text/plain": [
       "<Figure size 432x288 with 1 Axes>"
      ]
     },
     "metadata": {
      "needs_background": "light"
     },
     "output_type": "display_data"
    }
   ],
   "source": [
    "# Create histogram\n",
    "\n",
    "df_9['prices'].plot.hist(bins = 25)"
   ]
  },
  {
   "cell_type": "markdown",
   "id": "b9c74850",
   "metadata": {},
   "source": [
    ":: Check individual stats"
   ]
  },
  {
   "cell_type": "code",
   "execution_count": 15,
   "id": "83c2e537",
   "metadata": {},
   "outputs": [
    {
     "data": {
      "text/plain": [
       "11.980225638676366"
      ]
     },
     "execution_count": 15,
     "metadata": {},
     "output_type": "execute_result"
    }
   ],
   "source": [
    "df_9['prices'].mean()"
   ]
  },
  {
   "cell_type": "code",
   "execution_count": 16,
   "id": "3dc7b201",
   "metadata": {},
   "outputs": [
    {
     "data": {
      "text/plain": [
       "7.4"
      ]
     },
     "execution_count": 16,
     "metadata": {},
     "output_type": "execute_result"
    }
   ],
   "source": [
    "df_9['prices'].median()"
   ]
  },
  {
   "cell_type": "code",
   "execution_count": 17,
   "id": "7fe088bf",
   "metadata": {},
   "outputs": [
    {
     "data": {
      "text/plain": [
       "99999.0"
      ]
     },
     "execution_count": 17,
     "metadata": {},
     "output_type": "execute_result"
    }
   ],
   "source": [
    "df_9['prices'].max()"
   ]
  },
  {
   "cell_type": "code",
   "execution_count": 18,
   "id": "6c82a2d4",
   "metadata": {},
   "outputs": [
    {
     "data": {
      "text/plain": [
       "<AxesSubplot:xlabel='prices', ylabel='prices'>"
      ]
     },
     "execution_count": 18,
     "metadata": {},
     "output_type": "execute_result"
    },
    {
     "data": {
      "image/png": "[encoded data removed]",
      "text/plain": [
       "<Figure size 432x288 with 1 Axes>"
      ]
     },
     "metadata": {
      "needs_background": "light"
     },
     "output_type": "display_data"
    }
   ],
   "source": [
    "# Create scatterplot\n",
    "\n",
    "sns.scatterplot(x = 'prices', y = 'prices', data = df_9)"
   ]
  },
  {
   "cell_type": "code",
   "execution_count": 20,
   "id": "9e18512f",
   "metadata": {},
   "outputs": [],
   "source": [
    "# Show all columns\n",
    "\n",
    "pd.options.display.max_columns = None"
   ]
  },
  {
   "cell_type": "code",
   "execution_count": 21,
   "id": "06b1d1ff",
   "metadata": {},
   "outputs": [
    {
     "data": {
      "text/html": [
       "<div>\n",
       "<style scoped>\n",
       "    .dataframe tbody tr th:only-of-type {\n",
       "        vertical-align: middle;\n",
       "    }\n",
       "\n",
       "    .dataframe tbody tr th {\n",
       "        vertical-align: top;\n",
       "    }\n",
       "\n",
       "    .dataframe thead th {\n",
       "        text-align: right;\n",
       "    }\n",
       "</style>\n",
       "<table border=\"1\" class=\"dataframe\">\n",
       "  <thead>\n",
       "    <tr style=\"text-align: right;\">\n",
       "      <th></th>\n",
       "      <th>order_id</th>\n",
       "      <th>user_id</th>\n",
       "      <th>order_number</th>\n",
       "      <th>orders_day_of_week</th>\n",
       "      <th>order_hour_of_day</th>\n",
       "      <th>days_since_prior_order</th>\n",
       "      <th>product_id</th>\n",
       "      <th>add_to_cart_order</th>\n",
       "      <th>reordered</th>\n",
       "      <th>_merge</th>\n",
       "      <th>product_name</th>\n",
       "      <th>aisle_id</th>\n",
       "      <th>department_id</th>\n",
       "      <th>prices</th>\n",
       "      <th>price_range_loc</th>\n",
       "      <th>busiest_day</th>\n",
       "      <th>busy_days</th>\n",
       "      <th>busiest_period_of_day</th>\n",
       "      <th>max_order</th>\n",
       "      <th>loyalty_flag</th>\n",
       "      <th>spending</th>\n",
       "      <th>spending_flag</th>\n",
       "      <th>frequency</th>\n",
       "      <th>freq_flag</th>\n",
       "    </tr>\n",
       "  </thead>\n",
       "  <tbody>\n",
       "    <tr>\n",
       "      <th>1576</th>\n",
       "      <td>912404</td>\n",
       "      <td>17</td>\n",
       "      <td>12</td>\n",
       "      <td>2</td>\n",
       "      <td>14</td>\n",
       "      <td>5.0</td>\n",
       "      <td>21553</td>\n",
       "      <td>5</td>\n",
       "      <td>0</td>\n",
       "      <td>both</td>\n",
       "      <td>Lowfat 2% Milkfat Cottage Cheese</td>\n",
       "      <td>108.0</td>\n",
       "      <td>16.0</td>\n",
       "      <td>14900.0</td>\n",
       "      <td>High-range product</td>\n",
       "      <td>regularly busy</td>\n",
       "      <td>regularly busy</td>\n",
       "      <td>Most orders</td>\n",
       "      <td>40</td>\n",
       "      <td>Regular customer</td>\n",
       "      <td>108.648299</td>\n",
       "      <td>High spender</td>\n",
       "      <td>5.0</td>\n",
       "      <td>frequent customer</td>\n",
       "    </tr>\n",
       "    <tr>\n",
       "      <th>1638</th>\n",
       "      <td>603376</td>\n",
       "      <td>17</td>\n",
       "      <td>22</td>\n",
       "      <td>6</td>\n",
       "      <td>16</td>\n",
       "      <td>4.0</td>\n",
       "      <td>21553</td>\n",
       "      <td>3</td>\n",
       "      <td>1</td>\n",
       "      <td>both</td>\n",
       "      <td>Lowfat 2% Milkfat Cottage Cheese</td>\n",
       "      <td>108.0</td>\n",
       "      <td>16.0</td>\n",
       "      <td>14900.0</td>\n",
       "      <td>High-range product</td>\n",
       "      <td>regularly busy</td>\n",
       "      <td>regularly busy</td>\n",
       "      <td>Most orders</td>\n",
       "      <td>40</td>\n",
       "      <td>Regular customer</td>\n",
       "      <td>108.648299</td>\n",
       "      <td>High spender</td>\n",
       "      <td>5.0</td>\n",
       "      <td>frequent customer</td>\n",
       "    </tr>\n",
       "    <tr>\n",
       "      <th>16534</th>\n",
       "      <td>3264360</td>\n",
       "      <td>135</td>\n",
       "      <td>2</td>\n",
       "      <td>2</td>\n",
       "      <td>21</td>\n",
       "      <td>13.0</td>\n",
       "      <td>21553</td>\n",
       "      <td>6</td>\n",
       "      <td>0</td>\n",
       "      <td>both</td>\n",
       "      <td>Lowfat 2% Milkfat Cottage Cheese</td>\n",
       "      <td>108.0</td>\n",
       "      <td>16.0</td>\n",
       "      <td>14900.0</td>\n",
       "      <td>High-range product</td>\n",
       "      <td>regularly busy</td>\n",
       "      <td>regularly busy</td>\n",
       "      <td>Average orders</td>\n",
       "      <td>4</td>\n",
       "      <td>New customer</td>\n",
       "      <td>1154.792308</td>\n",
       "      <td>High spender</td>\n",
       "      <td>12.0</td>\n",
       "      <td>regular customer</td>\n",
       "    </tr>\n",
       "    <tr>\n",
       "      <th>16540</th>\n",
       "      <td>892534</td>\n",
       "      <td>135</td>\n",
       "      <td>3</td>\n",
       "      <td>0</td>\n",
       "      <td>8</td>\n",
       "      <td>12.0</td>\n",
       "      <td>21553</td>\n",
       "      <td>3</td>\n",
       "      <td>1</td>\n",
       "      <td>both</td>\n",
       "      <td>Lowfat 2% Milkfat Cottage Cheese</td>\n",
       "      <td>108.0</td>\n",
       "      <td>16.0</td>\n",
       "      <td>14900.0</td>\n",
       "      <td>High-range product</td>\n",
       "      <td>busiest day</td>\n",
       "      <td>regularly busy</td>\n",
       "      <td>Average orders</td>\n",
       "      <td>4</td>\n",
       "      <td>New customer</td>\n",
       "      <td>1154.792308</td>\n",
       "      <td>High spender</td>\n",
       "      <td>12.0</td>\n",
       "      <td>regular customer</td>\n",
       "    </tr>\n",
       "    <tr>\n",
       "      <th>53712</th>\n",
       "      <td>229704</td>\n",
       "      <td>342</td>\n",
       "      <td>8</td>\n",
       "      <td>1</td>\n",
       "      <td>19</td>\n",
       "      <td>30.0</td>\n",
       "      <td>21553</td>\n",
       "      <td>9</td>\n",
       "      <td>0</td>\n",
       "      <td>both</td>\n",
       "      <td>Lowfat 2% Milkfat Cottage Cheese</td>\n",
       "      <td>108.0</td>\n",
       "      <td>16.0</td>\n",
       "      <td>14900.0</td>\n",
       "      <td>High-range product</td>\n",
       "      <td>regularly busy</td>\n",
       "      <td>busiest days</td>\n",
       "      <td>Average orders</td>\n",
       "      <td>16</td>\n",
       "      <td>Regular customer</td>\n",
       "      <td>114.426619</td>\n",
       "      <td>High spender</td>\n",
       "      <td>23.0</td>\n",
       "      <td>non-frequent customer</td>\n",
       "    </tr>\n",
       "    <tr>\n",
       "      <th>...</th>\n",
       "      <td>...</td>\n",
       "      <td>...</td>\n",
       "      <td>...</td>\n",
       "      <td>...</td>\n",
       "      <td>...</td>\n",
       "      <td>...</td>\n",
       "      <td>...</td>\n",
       "      <td>...</td>\n",
       "      <td>...</td>\n",
       "      <td>...</td>\n",
       "      <td>...</td>\n",
       "      <td>...</td>\n",
       "      <td>...</td>\n",
       "      <td>...</td>\n",
       "      <td>...</td>\n",
       "      <td>...</td>\n",
       "      <td>...</td>\n",
       "      <td>...</td>\n",
       "      <td>...</td>\n",
       "      <td>...</td>\n",
       "      <td>...</td>\n",
       "      <td>...</td>\n",
       "      <td>...</td>\n",
       "      <td>...</td>\n",
       "    </tr>\n",
       "    <tr>\n",
       "      <th>32350634</th>\n",
       "      <td>3172853</td>\n",
       "      <td>205650</td>\n",
       "      <td>18</td>\n",
       "      <td>1</td>\n",
       "      <td>9</td>\n",
       "      <td>7.0</td>\n",
       "      <td>21553</td>\n",
       "      <td>17</td>\n",
       "      <td>1</td>\n",
       "      <td>both</td>\n",
       "      <td>Lowfat 2% Milkfat Cottage Cheese</td>\n",
       "      <td>108.0</td>\n",
       "      <td>16.0</td>\n",
       "      <td>14900.0</td>\n",
       "      <td>High-range product</td>\n",
       "      <td>regularly busy</td>\n",
       "      <td>busiest days</td>\n",
       "      <td>Average orders</td>\n",
       "      <td>25</td>\n",
       "      <td>Regular customer</td>\n",
       "      <td>351.141618</td>\n",
       "      <td>High spender</td>\n",
       "      <td>6.0</td>\n",
       "      <td>frequent customer</td>\n",
       "    </tr>\n",
       "    <tr>\n",
       "      <th>32377867</th>\n",
       "      <td>2504315</td>\n",
       "      <td>205818</td>\n",
       "      <td>3</td>\n",
       "      <td>5</td>\n",
       "      <td>15</td>\n",
       "      <td>3.0</td>\n",
       "      <td>21553</td>\n",
       "      <td>13</td>\n",
       "      <td>0</td>\n",
       "      <td>both</td>\n",
       "      <td>Lowfat 2% Milkfat Cottage Cheese</td>\n",
       "      <td>108.0</td>\n",
       "      <td>16.0</td>\n",
       "      <td>14900.0</td>\n",
       "      <td>High-range product</td>\n",
       "      <td>regularly busy</td>\n",
       "      <td>regularly busy</td>\n",
       "      <td>Most orders</td>\n",
       "      <td>25</td>\n",
       "      <td>Regular customer</td>\n",
       "      <td>170.073770</td>\n",
       "      <td>High spender</td>\n",
       "      <td>12.5</td>\n",
       "      <td>regular customer</td>\n",
       "    </tr>\n",
       "    <tr>\n",
       "      <th>32377877</th>\n",
       "      <td>1108388</td>\n",
       "      <td>205818</td>\n",
       "      <td>5</td>\n",
       "      <td>4</td>\n",
       "      <td>5</td>\n",
       "      <td>1.0</td>\n",
       "      <td>21553</td>\n",
       "      <td>5</td>\n",
       "      <td>1</td>\n",
       "      <td>both</td>\n",
       "      <td>Lowfat 2% Milkfat Cottage Cheese</td>\n",
       "      <td>108.0</td>\n",
       "      <td>16.0</td>\n",
       "      <td>14900.0</td>\n",
       "      <td>High-range product</td>\n",
       "      <td>least busy</td>\n",
       "      <td>slowest days</td>\n",
       "      <td>Fewest orders</td>\n",
       "      <td>25</td>\n",
       "      <td>Regular customer</td>\n",
       "      <td>170.073770</td>\n",
       "      <td>High spender</td>\n",
       "      <td>12.5</td>\n",
       "      <td>regular customer</td>\n",
       "    </tr>\n",
       "    <tr>\n",
       "      <th>32410707</th>\n",
       "      <td>1916142</td>\n",
       "      <td>206049</td>\n",
       "      <td>1</td>\n",
       "      <td>2</td>\n",
       "      <td>17</td>\n",
       "      <td>NaN</td>\n",
       "      <td>21553</td>\n",
       "      <td>2</td>\n",
       "      <td>0</td>\n",
       "      <td>both</td>\n",
       "      <td>Lowfat 2% Milkfat Cottage Cheese</td>\n",
       "      <td>108.0</td>\n",
       "      <td>16.0</td>\n",
       "      <td>14900.0</td>\n",
       "      <td>High-range product</td>\n",
       "      <td>regularly busy</td>\n",
       "      <td>regularly busy</td>\n",
       "      <td>Average orders</td>\n",
       "      <td>5</td>\n",
       "      <td>New customer</td>\n",
       "      <td>938.031250</td>\n",
       "      <td>High spender</td>\n",
       "      <td>7.0</td>\n",
       "      <td>frequent customer</td>\n",
       "    </tr>\n",
       "    <tr>\n",
       "      <th>32410731</th>\n",
       "      <td>379732</td>\n",
       "      <td>206049</td>\n",
       "      <td>4</td>\n",
       "      <td>1</td>\n",
       "      <td>14</td>\n",
       "      <td>5.0</td>\n",
       "      <td>21553</td>\n",
       "      <td>4</td>\n",
       "      <td>1</td>\n",
       "      <td>both</td>\n",
       "      <td>Lowfat 2% Milkfat Cottage Cheese</td>\n",
       "      <td>108.0</td>\n",
       "      <td>16.0</td>\n",
       "      <td>14900.0</td>\n",
       "      <td>High-range product</td>\n",
       "      <td>regularly busy</td>\n",
       "      <td>busiest days</td>\n",
       "      <td>Most orders</td>\n",
       "      <td>5</td>\n",
       "      <td>New customer</td>\n",
       "      <td>938.031250</td>\n",
       "      <td>High spender</td>\n",
       "      <td>7.0</td>\n",
       "      <td>frequent customer</td>\n",
       "    </tr>\n",
       "  </tbody>\n",
       "</table>\n",
       "<p>5127 rows × 24 columns</p>\n",
       "</div>"
      ],
      "text/plain": [
       "          order_id  user_id  order_number  orders_day_of_week  \\\n",
       "1576        912404       17            12                   2   \n",
       "1638        603376       17            22                   6   \n",
       "16534      3264360      135             2                   2   \n",
       "16540       892534      135             3                   0   \n",
       "53712       229704      342             8                   1   \n",
       "...            ...      ...           ...                 ...   \n",
       "32350634   3172853   205650            18                   1   \n",
       "32377867   2504315   205818             3                   5   \n",
       "32377877   1108388   205818             5                   4   \n",
       "32410707   1916142   206049             1                   2   \n",
       "32410731    379732   206049             4                   1   \n",
       "\n",
       "          order_hour_of_day  days_since_prior_order  product_id  \\\n",
       "1576                     14                     5.0       21553   \n",
       "1638                     16                     4.0       21553   \n",
       "16534                    21                    13.0       21553   \n",
       "16540                     8                    12.0       21553   \n",
       "53712                    19                    30.0       21553   \n",
       "...                     ...                     ...         ...   \n",
       "32350634                  9                     7.0       21553   \n",
       "32377867                 15                     3.0       21553   \n",
       "32377877                  5                     1.0       21553   \n",
       "32410707                 17                     NaN       21553   \n",
       "32410731                 14                     5.0       21553   \n",
       "\n",
       "          add_to_cart_order  reordered _merge  \\\n",
       "1576                      5          0   both   \n",
       "1638                      3          1   both   \n",
       "16534                     6          0   both   \n",
       "16540                     3          1   both   \n",
       "53712                     9          0   both   \n",
       "...                     ...        ...    ...   \n",
       "32350634                 17          1   both   \n",
       "32377867                 13          0   both   \n",
       "32377877                  5          1   both   \n",
       "32410707                  2          0   both   \n",
       "32410731                  4          1   both   \n",
       "\n",
       "                              product_name  aisle_id  department_id   prices  \\\n",
       "1576      Lowfat 2% Milkfat Cottage Cheese     108.0           16.0  14900.0   \n",
       "1638      Lowfat 2% Milkfat Cottage Cheese     108.0           16.0  14900.0   \n",
       "16534     Lowfat 2% Milkfat Cottage Cheese     108.0           16.0  14900.0   \n",
       "16540     Lowfat 2% Milkfat Cottage Cheese     108.0           16.0  14900.0   \n",
       "53712     Lowfat 2% Milkfat Cottage Cheese     108.0           16.0  14900.0   \n",
       "...                                    ...       ...            ...      ...   \n",
       "32350634  Lowfat 2% Milkfat Cottage Cheese     108.0           16.0  14900.0   \n",
       "32377867  Lowfat 2% Milkfat Cottage Cheese     108.0           16.0  14900.0   \n",
       "32377877  Lowfat 2% Milkfat Cottage Cheese     108.0           16.0  14900.0   \n",
       "32410707  Lowfat 2% Milkfat Cottage Cheese     108.0           16.0  14900.0   \n",
       "32410731  Lowfat 2% Milkfat Cottage Cheese     108.0           16.0  14900.0   \n",
       "\n",
       "             price_range_loc     busiest_day       busy_days  \\\n",
       "1576      High-range product  regularly busy  regularly busy   \n",
       "1638      High-range product  regularly busy  regularly busy   \n",
       "16534     High-range product  regularly busy  regularly busy   \n",
       "16540     High-range product     busiest day  regularly busy   \n",
       "53712     High-range product  regularly busy    busiest days   \n",
       "...                      ...             ...             ...   \n",
       "32350634  High-range product  regularly busy    busiest days   \n",
       "32377867  High-range product  regularly busy  regularly busy   \n",
       "32377877  High-range product      least busy    slowest days   \n",
       "32410707  High-range product  regularly busy  regularly busy   \n",
       "32410731  High-range product  regularly busy    busiest days   \n",
       "\n",
       "         busiest_period_of_day  max_order      loyalty_flag     spending  \\\n",
       "1576               Most orders         40  Regular customer   108.648299   \n",
       "1638               Most orders         40  Regular customer   108.648299   \n",
       "16534           Average orders          4      New customer  1154.792308   \n",
       "16540           Average orders          4      New customer  1154.792308   \n",
       "53712           Average orders         16  Regular customer   114.426619   \n",
       "...                        ...        ...               ...          ...   \n",
       "32350634        Average orders         25  Regular customer   351.141618   \n",
       "32377867           Most orders         25  Regular customer   170.073770   \n",
       "32377877         Fewest orders         25  Regular customer   170.073770   \n",
       "32410707        Average orders          5      New customer   938.031250   \n",
       "32410731           Most orders          5      New customer   938.031250   \n",
       "\n",
       "         spending_flag  frequency              freq_flag  \n",
       "1576      High spender        5.0      frequent customer  \n",
       "1638      High spender        5.0      frequent customer  \n",
       "16534     High spender       12.0       regular customer  \n",
       "16540     High spender       12.0       regular customer  \n",
       "53712     High spender       23.0  non-frequent customer  \n",
       "...                ...        ...                    ...  \n",
       "32350634  High spender        6.0      frequent customer  \n",
       "32377867  High spender       12.5       regular customer  \n",
       "32377877  High spender       12.5       regular customer  \n",
       "32410707  High spender        7.0      frequent customer  \n",
       "32410731  High spender        7.0      frequent customer  \n",
       "\n",
       "[5127 rows x 24 columns]"
      ]
     },
     "execution_count": 21,
     "metadata": {},
     "output_type": "execute_result"
    }
   ],
   "source": [
    "# Checking outliers - What prices are over $100?\n",
    "\n",
    "df_9.loc[df_9['prices'] > 100]"
   ]
  },
  {
   "cell_type": "code",
   "execution_count": 22,
   "id": "9c9829ab",
   "metadata": {},
   "outputs": [],
   "source": [
    "# Remove values greater than 100 - locate values >100 and replace with 'nan'\n",
    "\n",
    "df_9.loc[df_9['prices'] >100, 'prices'] = np.nan"
   ]
  },
  {
   "cell_type": "code",
   "execution_count": 24,
   "id": "70234d81",
   "metadata": {},
   "outputs": [
    {
     "data": {
      "text/plain": [
       "25.0"
      ]
     },
     "execution_count": 24,
     "metadata": {},
     "output_type": "execute_result"
    }
   ],
   "source": [
    "# Check max value\n",
    "\n",
    "df_9['prices'].max()"
   ]
  },
  {
   "cell_type": "code",
   "execution_count": 25,
   "id": "e516e399",
   "metadata": {},
   "outputs": [
    {
     "data": {
      "image/png": "[encoded data removed]",
      "text/plain": [
       "<Figure size 432x288 with 1 Axes>"
      ]
     },
     "metadata": {
      "needs_background": "light"
     },
     "output_type": "display_data"
    }
   ],
   "source": [
    "# Create histogram with removed outlier data\n",
    "\n",
    "hist = df_9['prices'].plot.hist(bins = 25)"
   ]
  },
  {
   "cell_type": "code",
   "execution_count": 26,
   "id": "96c9388d",
   "metadata": {},
   "outputs": [
    {
     "data": {
      "image/png": "[encoded data removed]",
      "text/plain": [
       "<Figure size 432x288 with 1 Axes>"
      ]
     },
     "metadata": {
      "needs_background": "light"
     },
     "output_type": "display_data"
    }
   ],
   "source": [
    "# Create hist alt\n",
    "\n",
    "hist_2 = df_9['prices'].plot.hist(bins = 70)"
   ]
  },
  {
   "cell_type": "code",
   "execution_count": 27,
   "id": "66bfd306",
   "metadata": {},
   "outputs": [],
   "source": [
    "# Export histogram - save\n",
    "\n",
    "hist.figure.savefig(os.path.join(path, '04 Analysis','Visualizations', 'hist_prices.png'))"
   ]
  },
  {
   "cell_type": "markdown",
   "id": "d8438b9a",
   "metadata": {},
   "source": [
    "\n"
   ]
  },
  {
   "cell_type": "markdown",
   "id": "8233c7fc",
   "metadata": {},
   "source": [
    "\n"
   ]
  },
  {
   "cell_type": "markdown",
   "id": "597da75d",
   "metadata": {},
   "source": [
    "5. Creating Line Charts"
   ]
  },
  {
   "cell_type": "markdown",
   "id": "aff1ebd4",
   "metadata": {},
   "source": [
    ":: Sampling Data. This is a standard approach in machine learning. When training a model, you’d normally use 80 percent of a data set to train the algorithm and the remaining 20 percent to check the accuracy of the model."
   ]
  },
  {
   "cell_type": "markdown",
   "id": "78c0e5a8",
   "metadata": {},
   "source": [
    "1. Set the seed for the random number generator.\n",
    "2. Create 32,404,859 random numbers (the length of your df_9 dataframe) ranging between 0 and 1.\n",
    "3. Code a logical test comparing each of those numbers to a value of 0.7 (either less than or greater than 0.7).\n",
    "4. Store the results of the test in a new list, dev, in the form of boolean values (True and False)."
   ]
  },
  {
   "cell_type": "code",
   "execution_count": 28,
   "id": "f6370385",
   "metadata": {},
   "outputs": [],
   "source": [
    "# Create sample\n",
    "\n",
    "np.random.seed(4)\n",
    "\n",
    "dev = np.random.rand(len(df_9)) <= 0.7"
   ]
  },
  {
   "cell_type": "code",
   "execution_count": 29,
   "id": "f120a7c3",
   "metadata": {},
   "outputs": [
    {
     "data": {
      "text/plain": [
       "array([False,  True, False, ...,  True,  True,  True])"
      ]
     },
     "execution_count": 29,
     "metadata": {},
     "output_type": "execute_result"
    }
   ],
   "source": [
    "dev"
   ]
  },
  {
   "cell_type": "code",
   "execution_count": 31,
   "id": "59720e78",
   "metadata": {},
   "outputs": [],
   "source": [
    "# Store 70% of sample in the df 'sample_big'\n",
    "\n",
    "sample_big = df_9[dev]"
   ]
  },
  {
   "cell_type": "code",
   "execution_count": 32,
   "id": "019fa880",
   "metadata": {},
   "outputs": [],
   "source": [
    "# Store 30% of sample in the df 'sample_small'\n",
    "\n",
    "sample_small = df_9[~dev]"
   ]
  },
  {
   "cell_type": "code",
   "execution_count": 33,
   "id": "57f86691",
   "metadata": {},
   "outputs": [
    {
     "data": {
      "text/plain": [
       "32435059"
      ]
     },
     "execution_count": 33,
     "metadata": {},
     "output_type": "execute_result"
    }
   ],
   "source": [
    "# Check - df_9 info\n",
    "\n",
    "len(df_9)"
   ]
  },
  {
   "cell_type": "code",
   "execution_count": 34,
   "id": "7a8868f4",
   "metadata": {},
   "outputs": [
    {
     "data": {
      "text/plain": [
       "32435059"
      ]
     },
     "execution_count": 34,
     "metadata": {},
     "output_type": "execute_result"
    }
   ],
   "source": [
    "len(sample_big) + len(sample_small)"
   ]
  },
  {
   "cell_type": "markdown",
   "id": "1ef8b318",
   "metadata": {},
   "source": [
    ":: Sample sizes added together equal total of 'df_9' = sampling successful. Now have 'big' = 70% of 'df_9', and 'small' = 30% of 'df_9'"
   ]
  },
  {
   "cell_type": "code",
   "execution_count": 36,
   "id": "0435704f",
   "metadata": {},
   "outputs": [],
   "source": [
    "# Change 'sample_small' df to only inculde the columns needed\n",
    "\n",
    "df_sam_small = sample_small[['orders_day_of_week','prices']]"
   ]
  },
  {
   "cell_type": "code",
   "execution_count": 41,
   "id": "4bd50fff",
   "metadata": {},
   "outputs": [
    {
     "data": {
      "text/html": [
       "<div>\n",
       "<style scoped>\n",
       "    .dataframe tbody tr th:only-of-type {\n",
       "        vertical-align: middle;\n",
       "    }\n",
       "\n",
       "    .dataframe tbody tr th {\n",
       "        vertical-align: top;\n",
       "    }\n",
       "\n",
       "    .dataframe thead th {\n",
       "        text-align: right;\n",
       "    }\n",
       "</style>\n",
       "<table border=\"1\" class=\"dataframe\">\n",
       "  <thead>\n",
       "    <tr style=\"text-align: right;\">\n",
       "      <th></th>\n",
       "      <th>orders_day_of_week</th>\n",
       "      <th>prices</th>\n",
       "    </tr>\n",
       "  </thead>\n",
       "  <tbody>\n",
       "    <tr>\n",
       "      <th>0</th>\n",
       "      <td>2</td>\n",
       "      <td>9.0</td>\n",
       "    </tr>\n",
       "    <tr>\n",
       "      <th>2</th>\n",
       "      <td>2</td>\n",
       "      <td>4.4</td>\n",
       "    </tr>\n",
       "    <tr>\n",
       "      <th>3</th>\n",
       "      <td>2</td>\n",
       "      <td>4.7</td>\n",
       "    </tr>\n",
       "    <tr>\n",
       "      <th>6</th>\n",
       "      <td>3</td>\n",
       "      <td>3.0</td>\n",
       "    </tr>\n",
       "    <tr>\n",
       "      <th>10</th>\n",
       "      <td>3</td>\n",
       "      <td>4.0</td>\n",
       "    </tr>\n",
       "  </tbody>\n",
       "</table>\n",
       "</div>"
      ],
      "text/plain": [
       "    orders_day_of_week  prices\n",
       "0                    2     9.0\n",
       "2                    2     4.4\n",
       "3                    2     4.7\n",
       "6                    3     3.0\n",
       "10                   3     4.0"
      ]
     },
     "execution_count": 41,
     "metadata": {},
     "output_type": "execute_result"
    }
   ],
   "source": [
    "# Check\n",
    "\n",
    "df_sam_small.head()"
   ]
  },
  {
   "cell_type": "markdown",
   "id": "0953295b",
   "metadata": {},
   "source": [
    "\n"
   ]
  },
  {
   "cell_type": "markdown",
   "id": "571feeb2",
   "metadata": {},
   "source": [
    "\n"
   ]
  },
  {
   "cell_type": "markdown",
   "id": "91b90d6b",
   "metadata": {},
   "source": [
    ":: Creating line chart"
   ]
  },
  {
   "cell_type": "code",
   "execution_count": 39,
   "id": "f1223991",
   "metadata": {},
   "outputs": [
    {
     "data": {
      "image/png": "[encoded data removed]",
      "text/plain": [
       "<Figure size 432x288 with 1 Axes>"
      ]
     },
     "metadata": {
      "needs_background": "light"
     },
     "output_type": "display_data"
    }
   ],
   "source": [
    "# Create line chart\n",
    "\n",
    "line = sns.lineplot(data = df_sam_small, x = 'orders_day_of_week', y = 'prices')"
   ]
  },
  {
   "cell_type": "code",
   "execution_count": 42,
   "id": "caa0324f",
   "metadata": {},
   "outputs": [],
   "source": [
    "# Check against entire df - create test df\n",
    "\n",
    "df_test = df_9[['orders_day_of_week','prices']]"
   ]
  },
  {
   "cell_type": "code",
   "execution_count": 43,
   "id": "c053a498",
   "metadata": {},
   "outputs": [
    {
     "data": {
      "text/html": [
       "<div>\n",
       "<style scoped>\n",
       "    .dataframe tbody tr th:only-of-type {\n",
       "        vertical-align: middle;\n",
       "    }\n",
       "\n",
       "    .dataframe tbody tr th {\n",
       "        vertical-align: top;\n",
       "    }\n",
       "\n",
       "    .dataframe thead th {\n",
       "        text-align: right;\n",
       "    }\n",
       "</style>\n",
       "<table border=\"1\" class=\"dataframe\">\n",
       "  <thead>\n",
       "    <tr style=\"text-align: right;\">\n",
       "      <th></th>\n",
       "      <th>orders_day_of_week</th>\n",
       "      <th>prices</th>\n",
       "    </tr>\n",
       "  </thead>\n",
       "  <tbody>\n",
       "    <tr>\n",
       "      <th>0</th>\n",
       "      <td>2</td>\n",
       "      <td>9.0</td>\n",
       "    </tr>\n",
       "    <tr>\n",
       "      <th>1</th>\n",
       "      <td>2</td>\n",
       "      <td>12.5</td>\n",
       "    </tr>\n",
       "    <tr>\n",
       "      <th>2</th>\n",
       "      <td>2</td>\n",
       "      <td>4.4</td>\n",
       "    </tr>\n",
       "    <tr>\n",
       "      <th>3</th>\n",
       "      <td>2</td>\n",
       "      <td>4.7</td>\n",
       "    </tr>\n",
       "    <tr>\n",
       "      <th>4</th>\n",
       "      <td>2</td>\n",
       "      <td>1.0</td>\n",
       "    </tr>\n",
       "  </tbody>\n",
       "</table>\n",
       "</div>"
      ],
      "text/plain": [
       "   orders_day_of_week  prices\n",
       "0                   2     9.0\n",
       "1                   2    12.5\n",
       "2                   2     4.4\n",
       "3                   2     4.7\n",
       "4                   2     1.0"
      ]
     },
     "execution_count": 43,
     "metadata": {},
     "output_type": "execute_result"
    }
   ],
   "source": [
    "df_test.head()"
   ]
  },
  {
   "cell_type": "code",
   "execution_count": 44,
   "id": "b5fb69b0",
   "metadata": {},
   "outputs": [
    {
     "data": {
      "image/png": "[encoded data removed]",
      "text/plain": [
       "<Figure size 432x288 with 1 Axes>"
      ]
     },
     "metadata": {
      "needs_background": "light"
     },
     "output_type": "display_data"
    }
   ],
   "source": [
    "# Create line chart for entire df\n",
    "\n",
    "line2 = sns.lineplot(data = df_test, x = 'orders_day_of_week', y = 'prices')"
   ]
  },
  {
   "cell_type": "markdown",
   "id": "a717a79f",
   "metadata": {},
   "source": [
    ":: Need to address this issue of the 'prices' values in line chart"
   ]
  },
  {
   "cell_type": "code",
   "execution_count": null,
   "id": "747e722b",
   "metadata": {},
   "outputs": [],
   "source": []
  }
 ],
 "metadata": {
  "kernelspec": {
   "display_name": "Python 3",
   "language": "python",
   "name": "python3"
  },
  "language_info": {
   "codemirror_mode": {
    "name": "ipython",
    "version": 3
   },
   "file_extension": ".py",
   "mimetype": "text/x-python",
   "name": "python",
   "nbconvert_exporter": "python",
   "pygments_lexer": "ipython3",
   "version": "3.8.8"
  }
 },
 "nbformat": 4,
 "nbformat_minor": 5
}
