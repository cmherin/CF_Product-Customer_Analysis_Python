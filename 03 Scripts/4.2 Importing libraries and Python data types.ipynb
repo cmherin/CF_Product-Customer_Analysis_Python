{
 "cells": [
  {
   "cell_type": "markdown",
   "id": "3049edd4",
   "metadata": {},
   "source": [
    "01. Importing libraries"
   ]
  },
  {
   "cell_type": "code",
   "execution_count": 1,
   "id": "d4200503",
   "metadata": {},
   "outputs": [],
   "source": [
    "# Import libraries\n",
    "import pandas as pd\n",
    "import numpy as np\n",
    "import os"
   ]
  },
  {
   "cell_type": "markdown",
   "id": "67f9771c",
   "metadata": {},
   "source": [
    "2. Python Data Types - Int = 100"
   ]
  },
  {
   "cell_type": "code",
   "execution_count": 1,
   "id": "04d2641e",
   "metadata": {},
   "outputs": [
    {
     "data": {
      "text/plain": [
       "100"
      ]
     },
     "execution_count": 1,
     "metadata": {},
     "output_type": "execute_result"
    }
   ],
   "source": [
    "50 + 50"
   ]
  },
  {
   "cell_type": "code",
   "execution_count": 2,
   "id": "d9823894",
   "metadata": {},
   "outputs": [
    {
     "data": {
      "text/plain": [
       "100"
      ]
     },
     "execution_count": 2,
     "metadata": {},
     "output_type": "execute_result"
    }
   ],
   "source": [
    "25 * 4"
   ]
  },
  {
   "cell_type": "code",
   "execution_count": 3,
   "id": "1a8fa6f0",
   "metadata": {},
   "outputs": [],
   "source": [
    "x = 50\n",
    "y = 35\n",
    "z = 15"
   ]
  },
  {
   "cell_type": "code",
   "execution_count": 4,
   "id": "14d76f6b",
   "metadata": {},
   "outputs": [
    {
     "data": {
      "text/plain": [
       "100"
      ]
     },
     "execution_count": 4,
     "metadata": {},
     "output_type": "execute_result"
    }
   ],
   "source": [
    "x + y + z"
   ]
  },
  {
   "cell_type": "markdown",
   "id": "27e90ae4",
   "metadata": {},
   "source": [
    "3. Python Data Types - float / float"
   ]
  },
  {
   "cell_type": "code",
   "execution_count": 10,
   "id": "b6f1f948",
   "metadata": {},
   "outputs": [],
   "source": [
    "j = 3.75\n",
    "u = 6.25"
   ]
  },
  {
   "cell_type": "code",
   "execution_count": 11,
   "id": "158658d0",
   "metadata": {},
   "outputs": [
    {
     "data": {
      "text/plain": [
       "1.6666666666666667"
      ]
     },
     "execution_count": 11,
     "metadata": {},
     "output_type": "execute_result"
    }
   ],
   "source": [
    "u / j"
   ]
  },
  {
   "cell_type": "markdown",
   "id": "88e9675c",
   "metadata": {},
   "source": [
    "4. Python Data Types - concatenate str"
   ]
  },
  {
   "cell_type": "code",
   "execution_count": 19,
   "id": "43348b79",
   "metadata": {},
   "outputs": [],
   "source": [
    "c = 'Career '\n",
    "f = 'Foundry'"
   ]
  },
  {
   "cell_type": "code",
   "execution_count": 21,
   "id": "36176884",
   "metadata": {},
   "outputs": [
    {
     "data": {
      "text/plain": [
       "'Career Foundry'"
      ]
     },
     "execution_count": 21,
     "metadata": {},
     "output_type": "execute_result"
    }
   ],
   "source": [
    "c + f"
   ]
  },
  {
   "cell_type": "markdown",
   "id": "4c5fd3da",
   "metadata": {},
   "source": [
    "5. Python Data Types - string sentance"
   ]
  },
  {
   "cell_type": "code",
   "execution_count": 28,
   "id": "3080bb33",
   "metadata": {},
   "outputs": [],
   "source": [
    "J = 'Jerome '\n",
    "e = 'is '\n",
    "r = 'the '\n",
    "o = 'best '\n",
    "me = 'tutor ever!'"
   ]
  },
  {
   "cell_type": "code",
   "execution_count": 30,
   "id": "f97a4d69",
   "metadata": {},
   "outputs": [
    {
     "name": "stdout",
     "output_type": "stream",
     "text": [
      "Jerome is the best tutor ever!\n"
     ]
    }
   ],
   "source": [
    "print (J + e + r + o + me)"
   ]
  },
  {
   "cell_type": "markdown",
   "id": "328df0cb",
   "metadata": {},
   "source": [
    "Bonus: str * 100"
   ]
  },
  {
   "cell_type": "code",
   "execution_count": 31,
   "id": "7ec92af6",
   "metadata": {},
   "outputs": [],
   "source": [
    "v = 'dollar'"
   ]
  },
  {
   "cell_type": "code",
   "execution_count": 32,
   "id": "705b598c",
   "metadata": {},
   "outputs": [
    {
     "name": "stdout",
     "output_type": "stream",
     "text": [
      "dollardollardollardollardollardollardollardollardollardollardollardollardollardollardollardollardollardollardollardollardollardollardollardollardollardollardollardollardollardollardollardollardollardollardollardollardollardollardollardollardollardollardollardollardollardollardollardollardollardollardollardollardollardollardollardollardollardollardollardollardollardollardollardollardollardollardollardollardollardollardollardollardollardollardollardollardollardollardollardollardollardollardollardollardollardollardollardollardollardollardollardollardollardollardollardollardollardollardollardollar\n"
     ]
    }
   ],
   "source": [
    "print(v * 100)"
   ]
  },
  {
   "cell_type": "code",
   "execution_count": null,
   "id": "65b56873",
   "metadata": {},
   "outputs": [],
   "source": []
  },
  {
   "cell_type": "code",
   "execution_count": null,
   "id": "2489f4d9",
   "metadata": {},
   "outputs": [],
   "source": []
  },
  {
   "cell_type": "code",
   "execution_count": null,
   "id": "041be6e9",
   "metadata": {},
   "outputs": [],
   "source": []
  },
  {
   "cell_type": "code",
   "execution_count": null,
   "id": "047c3290",
   "metadata": {},
   "outputs": [],
   "source": []
  },
  {
   "cell_type": "code",
   "execution_count": null,
   "id": "257155a3",
   "metadata": {},
   "outputs": [],
   "source": []
  },
  {
   "cell_type": "code",
   "execution_count": null,
   "id": "51725faa",
   "metadata": {},
   "outputs": [],
   "source": []
  }
 ],
 "metadata": {
  "kernelspec": {
   "display_name": "Python 3",
   "language": "python",
   "name": "python3"
  },
  "language_info": {
   "codemirror_mode": {
    "name": "ipython",
    "version": 3
   },
   "file_extension": ".py",
   "mimetype": "text/x-python",
   "name": "python",
   "nbconvert_exporter": "python",
   "pygments_lexer": "ipython3",
   "version": "3.8.8"
  }
 },
 "nbformat": 4,
 "nbformat_minor": 5
}
